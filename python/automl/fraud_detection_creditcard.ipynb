{
 "cells": [
  {
   "cell_type": "markdown",
   "id": "50bcff27",
   "metadata": {},
   "source": [
    "### Fraud detection with Creditcard Dataset Notebook\n",
    "This notebook explores the application of machine learning techniques to the Creditcard dataset, a popular dataset in machine learning, particularly for fraud detection tasks. Credit card fraud poses a significant threat to financial institutions and individuals alike, resulting in substantial financial losses and eroded trust. Traditional rule-based systems often struggle to keep pace with the evolving tactics of fraudsters, making machine learning-based anomaly detection a vital tool.\n",
    "\n",
    "The dataset was collected during a two-day period and anonymized using Principal Component Analysis (PCA) to protect cardholder identities. It provides a realistic scenario for developing and evaluating fraud detection algorithms.\n",
    "\n",
    "The dataset includes the following features:\n",
    "\n",
    "- Time: Number of seconds elapsed between each transaction and the first transaction in the dataset.\n",
    "- V1 - V28: Anonymized features obtained through PCA transformation. These represent various transaction attributes but their specific meanings are not provided to maintain confidentiality.\n",
    "- Amount: Transaction amount.\n",
    "- Class: Binary label indicating whether the transaction is fraudulent (1) or not (0). While we'll use this for evaluation, our unsupervised models will not be trained using this label.\n",
    "\n",
    "Throughout this notebook, we will use HeatWave AutoML to train an unsupervised anomaly detection model. In this context, \"unsupervised\" signifies that we'll be training our models without explicitly using the \"Class\" label (fraudulent or legitimate) during the training phase. Instead, we'll rely on the inherent patterns and structures within the transaction data to identify deviations from the norm."
   ]
  },
  {
   "cell_type": "markdown",
   "id": "a7926d29",
   "metadata": {},
   "source": [
    "### Prerequistises\n",
    "Install the necessary packages\n",
    "\n",
    "- mysql-connector-python\n",
    "- pandas \n",
    "- scikit-learn\n",
    "- sqlalchemy"
   ]
  },
  {
   "cell_type": "code",
   "execution_count": 1,
   "id": "16a028ef",
   "metadata": {},
   "outputs": [],
   "source": [
    "import json\n",
    "import os\n",
    "import mysql.connector\n",
    "import pandas as pd\n",
    "import numpy as np\n",
    "from sklearn.model_selection import train_test_split\n",
    "from sklearn.metrics import ConfusionMatrixDisplay\n",
    "import sqlalchemy\n",
    "import rdata"
   ]
  },
  {
   "cell_type": "markdown",
   "id": "d452f97d",
   "metadata": {},
   "source": [
    "### Connect to the HeatWave instance\n",
    "We create a connection to an active [HeatWave](https://www.oracle.com/mysql/) instance using the [MySQL Connector/Python](https://dev.mysql.com/doc/connector-python/en/). We also define an API to execute a SQL query using a cursor, and the result is returned as a Pandas DataFrame. Modify the below variables to point to your HeatWave instance. On AWS, set USE_BASTION to False. On OCI, please create a tunnel on your machine using the below command by substituting the variable with their respective values.\n",
    "\n",
    "ssh -o ServerAliveInterval=60 -i BASTION_PKEY -L LOCAL_PORT:DBSYSTEM_IP:DBSYSTEM_PORT BASTION_USER@BASTION_IP"
   ]
  },
  {
   "cell_type": "code",
   "execution_count": null,
   "id": "5256a035",
   "metadata": {},
   "outputs": [],
   "source": [
    "BASTION_IP = \"ip_address\"\n",
    "BASTION_USER = \"opc\"\n",
    "BASTION_PKEY = \"private_key_file\"\n",
    "DBSYSTEM_IP = \"ip_address\"\n",
    "DBSYSTEM_PORT = 3306\n",
    "DBSYSTEM_USER = \"username\"\n",
    "DBSYSTEM_PASSWORD = \"password\"\n",
    "DBSYSTEM_SCHEMA = \"ml_benchmark\"\n",
    "LOCAL_PORT = 31231\n",
    "USE_BASTION = True\n",
    "\n",
    "if USE_BASTION is True:\n",
    "    DBSYSTEM_IP = \"127.0.0.1\"\n",
    "else:\n",
    "    LOCAL_PORT = DBSYSTEM_PORT\n",
    "\n",
    "mydb = mysql.connector.connect(\n",
    "    host=DBSYSTEM_IP,\n",
    "    port=LOCAL_PORT,\n",
    "    user=DBSYSTEM_USER,\n",
    "    password=DBSYSTEM_PASSWORD,\n",
    "    database=DBSYSTEM_SCHEMA,\n",
    "    allow_local_infile=True,\n",
    "    use_pure=True,\n",
    "    autocommit=True,\n",
    ")\n",
    "mycursor = mydb.cursor()\n",
    "\n",
    "\n",
    "# Helper function to execute SQL queries and return the results as a Pandas DataFrame\n",
    "def execute_sql(sql: str) -> pd.DataFrame:\n",
    "    mycursor.execute(sql)\n",
    "    return pd.DataFrame(mycursor.fetchall(), columns=mycursor.column_names)"
   ]
  },
  {
   "cell_type": "markdown",
   "id": "92642ba6",
   "metadata": {},
   "source": [
    " ### Download the Creditcard dataset and load it into Python\n",
    " We download the creditcard dataset, and load into Python using Pandas. Given the size of the dataset (~280K rows), we take a 10% uniform random sample of the dataset for the purpose of this notebook."
   ]
  },
  {
   "cell_type": "code",
   "execution_count": 3,
   "id": "170acdcd",
   "metadata": {},
   "outputs": [
    {
     "name": "stdout",
     "output_type": "stream",
     "text": [
      "--2025-06-17 16:07:19--  http://www.ulb.ac.be/di/map/adalpozz/data/creditcard.Rdata\n",
      "Resolving www.ulb.ac.be (www.ulb.ac.be)... 164.15.59.215\n",
      "Connecting to www.ulb.ac.be (www.ulb.ac.be)|164.15.59.215|:80... connected.\n",
      "HTTP request sent, awaiting response... 302 Found\n",
      "Location: https://www.ulb.ac.be/di/map/adalpozz/data/creditcard.Rdata [following]\n",
      "--2025-06-17 16:07:23--  https://www.ulb.ac.be/di/map/adalpozz/data/creditcard.Rdata\n",
      "Connecting to www.ulb.ac.be (www.ulb.ac.be)|164.15.59.215|:443... connected.\n",
      "HTTP request sent, awaiting response... 301 Moved Permanently\n",
      "Location: https://www.ulb.be/di/map/adalpozz/data/creditcard.Rdata [following]\n",
      "--2025-06-17 16:07:23--  https://www.ulb.be/di/map/adalpozz/data/creditcard.Rdata\n",
      "Resolving www.ulb.be (www.ulb.be)... 164.15.59.215\n",
      "Connecting to www.ulb.be (www.ulb.be)|164.15.59.215|:443... connected.\n",
      "HTTP request sent, awaiting response... 301 Moved Permanently\n",
      "Location: http://di.ulb.ac.be/map/adalpozz/data/creditcard.Rdata [following]\n",
      "--2025-06-17 16:07:24--  http://di.ulb.ac.be/map/adalpozz/data/creditcard.Rdata\n",
      "Resolving di.ulb.ac.be (di.ulb.ac.be)... 164.15.253.17\n",
      "Connecting to di.ulb.ac.be (di.ulb.ac.be)|164.15.253.17|:80... connected.\n",
      "HTTP request sent, awaiting response... 301 Moved Permanently\n",
      "Location: https://di.ulb.ac.be/map/adalpozz/data/creditcard.Rdata [following]\n",
      "--2025-06-17 16:07:26--  https://di.ulb.ac.be/map/adalpozz/data/creditcard.Rdata\n",
      "Connecting to di.ulb.ac.be (di.ulb.ac.be)|164.15.253.17|:443... connected.\n",
      "HTTP request sent, awaiting response... 200 OK\n",
      "Length: 62237063 (59M)\n",
      "Saving to: ‘creditcard.Rdata’\n",
      "\n",
      "creditcard.Rdata    100%[===================>]  59.35M  10.3MB/s    in 6.8s    \n",
      "\n",
      "2025-06-17 16:07:34 (8.71 MB/s) - ‘creditcard.Rdata’ saved [62237063/62237063]\n",
      "\n"
     ]
    }
   ],
   "source": [
    "# Download the creditcard dataset to a local folder\n",
    "!wget http://www.ulb.ac.be/di/map/adalpozz/data/creditcard.Rdata\n",
    "# Create a Pandas dataframe from the data\n",
    "result = rdata.read_rda('creditcard.Rdata')\n",
    "df = result[\"creditcard\"]\n",
    "\n",
    "df[\"Time\"] = df[\"Time\"].astype(int)\n",
    "df[\"Class\"] = df[\"Class\"].astype(int)\n",
    "\n",
    "df = df.sample(frac=0.1, random_state=1)\n",
    "\n",
    "# Now that we have loaded the data in Python, we don't need the local files anymore\n",
    "os.remove(\"creditcard.Rdata\")"
   ]
  },
  {
   "cell_type": "markdown",
   "id": "d8fb03b2",
   "metadata": {},
   "source": [
    "### Split the data into a training set and an evaluation set\n",
    "In machine learning, the train-test split is a crucial technique used to evaluate the performance of a model on unseen data. It involves dividing the available dataset into two distinct subsets:   \n",
    "\n",
    "- Training set: This subset is used to train the machine learning model. The model learns the underlying patterns and relationships in the data by analyzing this set.   \n",
    "- Test set: This subset is held back and not used during the training process. Once the model is trained, it's applied to the test set to assess its ability to generalize to new, unseen data."
   ]
  },
  {
   "cell_type": "code",
   "execution_count": 4,
   "id": "896be451",
   "metadata": {},
   "outputs": [],
   "source": [
    "df_train, df_test = train_test_split(\n",
    "    df, test_size=0.30, random_state=1, stratify=df[\"Class\"]\n",
    ")\n",
    "df_train = df_train.replace({np.nan: \"NULL\"})\n",
    "df_test = df_test.replace({np.nan: \"NULL\"})"
   ]
  },
  {
   "cell_type": "markdown",
   "id": "bd8f4886",
   "metadata": {},
   "source": [
    " ### Load the Creditcard dataset into a HeatWave table\n",
    " We connect to the MySQL database using SQLAlchemy, map Pandas data types to their corresponding MySQL dialects, and writes two DataFrames (df_train and df_test) to separate tables (creditcard_train and creditcard_test) in the database, replacing any existing tables."
   ]
  },
  {
   "cell_type": "code",
   "execution_count": 6,
   "id": "b0f1b82b",
   "metadata": {},
   "outputs": [
    {
     "data": {
      "text/plain": [
       "8545"
      ]
     },
     "execution_count": 6,
     "metadata": {},
     "output_type": "execute_result"
    }
   ],
   "source": [
    "# Create a SQLAlchemy engine instance to connect to the MySQL database\n",
    "sql_engine = sqlalchemy.create_engine(\n",
    "    f\"mysql+mysqlconnector://{DBSYSTEM_USER}:{DBSYSTEM_PASSWORD}@{DBSYSTEM_IP}:{LOCAL_PORT}/{DBSYSTEM_SCHEMA}\",\n",
    "    echo=False,\n",
    "    echo_pool=False,\n",
    "    pool_pre_ping=True,\n",
    "    pool_recycle=3600,\n",
    ")\n",
    "\n",
    "# Define a dictionary mapping pandas data types to their corresponding SQLAlchemy dialects\n",
    "dtype_mapping = {\n",
    "    \"uint64\": sqlalchemy.dialects.mysql.INTEGER(unsigned=True),\n",
    "    \"int64\": sqlalchemy.dialects.mysql.INTEGER(),\n",
    "    \"float64\": sqlalchemy.dialects.mysql.FLOAT(),\n",
    "    \"object\": sqlalchemy.dialects.mysql.VARCHAR(length=255),\n",
    "    \"datetime64[ns]\": sqlalchemy.dialects.mysql.DATETIME(timezone=False),\n",
    "    \"bool\": sqlalchemy.dialects.mysql.TINYINT(),\n",
    "}\n",
    "# Prepare the dtype dict for sqlalchemy/pd.DataFrame.to_sql\n",
    "dtypes = {col: dtype_mapping[str(dtype)] for col, dtype in zip(df.columns, df.dtypes)}\n",
    "\n",
    "# Write the training DataFrame to the 'creditcard_train' table in the database\n",
    "df_train.to_sql(\n",
    "    f\"creditcard_train\",\n",
    "    con=sql_engine,\n",
    "    if_exists=\"replace\",\n",
    "    dtype=dtypes,\n",
    "    chunksize=100000,\n",
    "    index=False,\n",
    ")\n",
    "# Write the testing DataFrame to the 'creditcard_test' table in the database\n",
    "df_test.to_sql(\n",
    "    f\"creditcard_test\",\n",
    "    con=sql_engine,\n",
    "    if_exists=\"replace\",\n",
    "    dtype=dtypes,\n",
    "    chunksize=100000,\n",
    "    index=False,\n",
    ")"
   ]
  },
  {
   "cell_type": "markdown",
   "id": "2baf5ee8",
   "metadata": {},
   "source": [
    "### Create a HeatWave AutoML model from the Creditcard training dataset\n",
    "We create a machine learning model on the Creditcard dataset using the ML_TRAIN API. Given this is unsupervised anomaly detection, we pass the target column name as NULL, and HeatWave AutoML builds a model learning from the patterns inherent in the data. The model learns normal and anomalous patterns in the data, allowing it to predict the same for any new data points we give it during prediction. Given that the Class target column is present in the training table, we ask ML_TRAIN to exclude it from the learned features. The model handle generated at the end of training is stored in the model variable. We will use this handle to refer to the model in our future interactions"
   ]
  },
  {
   "cell_type": "code",
   "execution_count": 7,
   "id": "9f549e3f",
   "metadata": {},
   "outputs": [
    {
     "name": "stderr",
     "output_type": "stream",
     "text": [
      "/var/folders/10/ptwbrcrx57g8d9yqgv5n4kym0000gn/T/ipykernel_15657/2843383838.py:5: FutureWarning: Series.__getitem__ treating keys as positions is deprecated. In a future version, integer keys will always be treated as labels (consistent with DataFrame behavior). To access a value by position, use `ser.iloc[pos]`\n",
      "  model = execute_sql(\"\"\"SELECT @model;\"\"\").iloc[0][0]\n"
     ]
    },
    {
     "data": {
      "text/html": [
       "<div>\n",
       "<style scoped>\n",
       "    .dataframe tbody tr th:only-of-type {\n",
       "        vertical-align: middle;\n",
       "    }\n",
       "\n",
       "    .dataframe tbody tr th {\n",
       "        vertical-align: top;\n",
       "    }\n",
       "\n",
       "    .dataframe thead th {\n",
       "        text-align: right;\n",
       "    }\n",
       "</style>\n",
       "<table border=\"1\" class=\"dataframe\">\n",
       "  <thead>\n",
       "    <tr style=\"text-align: right;\">\n",
       "      <th></th>\n",
       "    </tr>\n",
       "  </thead>\n",
       "  <tbody>\n",
       "  </tbody>\n",
       "</table>\n",
       "</div>"
      ],
      "text/plain": [
       "Empty DataFrame\n",
       "Columns: []\n",
       "Index: []"
      ]
     },
     "execution_count": 7,
     "metadata": {},
     "output_type": "execute_result"
    }
   ],
   "source": [
    "execute_sql(\"\"\"SET @model = NULL;\"\"\")\n",
    "execute_sql(\n",
    "    f\"\"\"CALL sys.ML_TRAIN('{DBSYSTEM_SCHEMA}.creditcard_train', NULL, JSON_OBJECT('task', 'anomaly_detection', 'exclude_column_list', JSON_ARRAY('Class')), @model)\"\"\"\n",
    ")\n",
    "model = execute_sql(\"\"\"SELECT @model;\"\"\").iloc[0][0]\n",
    "execute_sql(f\"\"\"CALL sys.ML_MODEL_LOAD('{model}', NULL)\"\"\")"
   ]
  },
  {
   "cell_type": "markdown",
   "id": "9466af07",
   "metadata": {},
   "source": [
    "### Evaluate the model\n",
    "We look at the overall performance of the model on unseen data by using the ML_SCORE routine to compute the accuracy. The roc_auc metric for anomaly detection tells us how well the model can separate the normal transactions from the fraudulent ones. "
   ]
  },
  {
   "cell_type": "code",
   "execution_count": 8,
   "id": "b6b211f8-8153-4ac6-a151-083624acef64",
   "metadata": {},
   "outputs": [
    {
     "name": "stdout",
     "output_type": "stream",
     "text": [
      "The model roc_auc is 90.89\n"
     ]
    },
    {
     "name": "stderr",
     "output_type": "stream",
     "text": [
      "/var/folders/10/ptwbrcrx57g8d9yqgv5n4kym0000gn/T/ipykernel_15657/3390842446.py:4: FutureWarning: Series.__getitem__ treating keys as positions is deprecated. In a future version, integer keys will always be treated as labels (consistent with DataFrame behavior). To access a value by position, use `ser.iloc[pos]`\n",
      "  score = execute_sql(\"\"\"SELECT @score;\"\"\").iloc[0][0]\n"
     ]
    }
   ],
   "source": [
    "execute_sql(\n",
    "    f\"\"\"CALL sys.ML_SCORE('{DBSYSTEM_SCHEMA}.creditcard_test', 'Class', '{model}', 'roc_auc', @score, NULL);\"\"\"\n",
    ")\n",
    "score = execute_sql(\"\"\"SELECT @score;\"\"\").iloc[0][0]\n",
    "print(f\"The model roc_auc is {score*100:.2f}\")"
   ]
  },
  {
   "cell_type": "markdown",
   "id": "59149aaf",
   "metadata": {},
   "source": [
    "### Generating predictions to evaluate model performance on unseen test data\n",
    "We invoke the ML_PREDICT_TABLE API to generate prediction for the above model on our test data. The output table contains an extra columns \n",
    "- ml_results: This contains more details about the prediction"
   ]
  },
  {
   "cell_type": "code",
   "execution_count": 9,
   "id": "ddbcfc41",
   "metadata": {},
   "outputs": [
    {
     "data": {
      "text/html": [
       "<div>\n",
       "<style scoped>\n",
       "    .dataframe tbody tr th:only-of-type {\n",
       "        vertical-align: middle;\n",
       "    }\n",
       "\n",
       "    .dataframe tbody tr th {\n",
       "        vertical-align: top;\n",
       "    }\n",
       "\n",
       "    .dataframe thead th {\n",
       "        text-align: right;\n",
       "    }\n",
       "</style>\n",
       "<table border=\"1\" class=\"dataframe\">\n",
       "  <thead>\n",
       "    <tr style=\"text-align: right;\">\n",
       "      <th></th>\n",
       "      <th>_4aad19ca6e_pk_id</th>\n",
       "      <th>Time</th>\n",
       "      <th>V1</th>\n",
       "      <th>V2</th>\n",
       "      <th>V3</th>\n",
       "      <th>V4</th>\n",
       "      <th>V5</th>\n",
       "      <th>V6</th>\n",
       "      <th>V7</th>\n",
       "      <th>V8</th>\n",
       "      <th>...</th>\n",
       "      <th>V22</th>\n",
       "      <th>V23</th>\n",
       "      <th>V24</th>\n",
       "      <th>V25</th>\n",
       "      <th>V26</th>\n",
       "      <th>V27</th>\n",
       "      <th>V28</th>\n",
       "      <th>Amount</th>\n",
       "      <th>Class</th>\n",
       "      <th>ml_results</th>\n",
       "    </tr>\n",
       "  </thead>\n",
       "  <tbody>\n",
       "    <tr>\n",
       "      <th>0</th>\n",
       "      <td>1</td>\n",
       "      <td>74165</td>\n",
       "      <td>-0.640130</td>\n",
       "      <td>1.071570</td>\n",
       "      <td>1.567180</td>\n",
       "      <td>-0.465824</td>\n",
       "      <td>0.524486</td>\n",
       "      <td>-0.583895</td>\n",
       "      <td>0.863141</td>\n",
       "      <td>-0.027511</td>\n",
       "      <td>...</td>\n",
       "      <td>-0.497223</td>\n",
       "      <td>-0.069171</td>\n",
       "      <td>0.043782</td>\n",
       "      <td>-0.194982</td>\n",
       "      <td>-0.030511</td>\n",
       "      <td>0.063452</td>\n",
       "      <td>0.114042</td>\n",
       "      <td>1.98</td>\n",
       "      <td>0</td>\n",
       "      <td>{\"predictions\": {\"is_anomaly\": 0}, \"probabilit...</td>\n",
       "    </tr>\n",
       "    <tr>\n",
       "      <th>1</th>\n",
       "      <td>2</td>\n",
       "      <td>94428</td>\n",
       "      <td>-1.528380</td>\n",
       "      <td>0.663147</td>\n",
       "      <td>0.723797</td>\n",
       "      <td>-0.929401</td>\n",
       "      <td>0.201948</td>\n",
       "      <td>0.265018</td>\n",
       "      <td>-0.327064</td>\n",
       "      <td>0.502370</td>\n",
       "      <td>...</td>\n",
       "      <td>-0.575276</td>\n",
       "      <td>0.346488</td>\n",
       "      <td>0.177823</td>\n",
       "      <td>-0.208438</td>\n",
       "      <td>-0.412365</td>\n",
       "      <td>-1.020960</td>\n",
       "      <td>-0.603428</td>\n",
       "      <td>0.75</td>\n",
       "      <td>0</td>\n",
       "      <td>{\"predictions\": {\"is_anomaly\": 0}, \"probabilit...</td>\n",
       "    </tr>\n",
       "    <tr>\n",
       "      <th>2</th>\n",
       "      <td>3</td>\n",
       "      <td>63603</td>\n",
       "      <td>0.953884</td>\n",
       "      <td>-0.806137</td>\n",
       "      <td>0.893374</td>\n",
       "      <td>0.507567</td>\n",
       "      <td>-0.624684</td>\n",
       "      <td>1.480100</td>\n",
       "      <td>-0.947183</td>\n",
       "      <td>0.500033</td>\n",
       "      <td>...</td>\n",
       "      <td>0.498213</td>\n",
       "      <td>0.050181</td>\n",
       "      <td>-0.629201</td>\n",
       "      <td>0.156014</td>\n",
       "      <td>-0.123095</td>\n",
       "      <td>0.139624</td>\n",
       "      <td>0.035701</td>\n",
       "      <td>77.50</td>\n",
       "      <td>0</td>\n",
       "      <td>{\"predictions\": {\"is_anomaly\": 0}, \"probabilit...</td>\n",
       "    </tr>\n",
       "    <tr>\n",
       "      <th>3</th>\n",
       "      <td>4</td>\n",
       "      <td>131607</td>\n",
       "      <td>1.982120</td>\n",
       "      <td>-0.480906</td>\n",
       "      <td>-0.244874</td>\n",
       "      <td>0.530465</td>\n",
       "      <td>-0.903423</td>\n",
       "      <td>-0.571166</td>\n",
       "      <td>-0.712471</td>\n",
       "      <td>0.037086</td>\n",
       "      <td>...</td>\n",
       "      <td>0.740551</td>\n",
       "      <td>0.149486</td>\n",
       "      <td>-0.023996</td>\n",
       "      <td>-0.152971</td>\n",
       "      <td>-0.204766</td>\n",
       "      <td>0.038112</td>\n",
       "      <td>-0.041162</td>\n",
       "      <td>1.00</td>\n",
       "      <td>0</td>\n",
       "      <td>{\"predictions\": {\"is_anomaly\": 0}, \"probabilit...</td>\n",
       "    </tr>\n",
       "    <tr>\n",
       "      <th>4</th>\n",
       "      <td>5</td>\n",
       "      <td>66478</td>\n",
       "      <td>-0.659545</td>\n",
       "      <td>0.401359</td>\n",
       "      <td>2.268490</td>\n",
       "      <td>1.212650</td>\n",
       "      <td>-0.359718</td>\n",
       "      <td>1.342370</td>\n",
       "      <td>-0.322820</td>\n",
       "      <td>0.637867</td>\n",
       "      <td>...</td>\n",
       "      <td>0.576824</td>\n",
       "      <td>0.019912</td>\n",
       "      <td>-0.314671</td>\n",
       "      <td>-0.640162</td>\n",
       "      <td>-0.285855</td>\n",
       "      <td>0.109475</td>\n",
       "      <td>0.150849</td>\n",
       "      <td>34.50</td>\n",
       "      <td>0</td>\n",
       "      <td>{\"predictions\": {\"is_anomaly\": 0}, \"probabilit...</td>\n",
       "    </tr>\n",
       "  </tbody>\n",
       "</table>\n",
       "<p>5 rows × 33 columns</p>\n",
       "</div>"
      ],
      "text/plain": [
       "   _4aad19ca6e_pk_id    Time        V1        V2        V3        V4  \\\n",
       "0                  1   74165 -0.640130  1.071570  1.567180 -0.465824   \n",
       "1                  2   94428 -1.528380  0.663147  0.723797 -0.929401   \n",
       "2                  3   63603  0.953884 -0.806137  0.893374  0.507567   \n",
       "3                  4  131607  1.982120 -0.480906 -0.244874  0.530465   \n",
       "4                  5   66478 -0.659545  0.401359  2.268490  1.212650   \n",
       "\n",
       "         V5        V6        V7        V8  ...       V22       V23       V24  \\\n",
       "0  0.524486 -0.583895  0.863141 -0.027511  ... -0.497223 -0.069171  0.043782   \n",
       "1  0.201948  0.265018 -0.327064  0.502370  ... -0.575276  0.346488  0.177823   \n",
       "2 -0.624684  1.480100 -0.947183  0.500033  ...  0.498213  0.050181 -0.629201   \n",
       "3 -0.903423 -0.571166 -0.712471  0.037086  ...  0.740551  0.149486 -0.023996   \n",
       "4 -0.359718  1.342370 -0.322820  0.637867  ...  0.576824  0.019912 -0.314671   \n",
       "\n",
       "        V25       V26       V27       V28  Amount  Class  \\\n",
       "0 -0.194982 -0.030511  0.063452  0.114042    1.98      0   \n",
       "1 -0.208438 -0.412365 -1.020960 -0.603428    0.75      0   \n",
       "2  0.156014 -0.123095  0.139624  0.035701   77.50      0   \n",
       "3 -0.152971 -0.204766  0.038112 -0.041162    1.00      0   \n",
       "4 -0.640162 -0.285855  0.109475  0.150849   34.50      0   \n",
       "\n",
       "                                          ml_results  \n",
       "0  {\"predictions\": {\"is_anomaly\": 0}, \"probabilit...  \n",
       "1  {\"predictions\": {\"is_anomaly\": 0}, \"probabilit...  \n",
       "2  {\"predictions\": {\"is_anomaly\": 0}, \"probabilit...  \n",
       "3  {\"predictions\": {\"is_anomaly\": 0}, \"probabilit...  \n",
       "4  {\"predictions\": {\"is_anomaly\": 0}, \"probabilit...  \n",
       "\n",
       "[5 rows x 33 columns]"
      ]
     },
     "execution_count": 9,
     "metadata": {},
     "output_type": "execute_result"
    }
   ],
   "source": [
    "execute_sql(f\"\"\"DROP TABLE IF EXISTS creditcard_test_predictions\"\"\")\n",
    "execute_sql(\n",
    "    f\"\"\"CALL sys.ML_PREDICT_TABLE('{DBSYSTEM_SCHEMA}.creditcard_test', '{model}', '{DBSYSTEM_SCHEMA}.creditcard_test_predictions', NULL)\"\"\"\n",
    ")\n",
    "df_predictions = execute_sql(f\"\"\"SELECT * FROM creditcard_test_predictions\"\"\")\n",
    "execute_sql(f\"\"\"DROP TABLE IF EXISTS creditcard_test_predictions\"\"\")\n",
    "df_predictions.head()"
   ]
  },
  {
   "cell_type": "markdown",
   "id": "85a963d1",
   "metadata": {},
   "source": [
    "### Getting a deeper understanding of the model's predictions"
   ]
  },
  {
   "cell_type": "markdown",
   "id": "2eb80ffb",
   "metadata": {},
   "source": [
    "A [Confusion Matrix](https://en.wikipedia.org/wiki/Confusion_matrix) in anomaly detection, while similar to its use in classification, needs a slightly different interpretation due to the often highly imbalanced nature of anomaly datasets. Here's a breakdown:\n",
    "\n",
    "In anomaly detection, we typically have two classes:\n",
    "\n",
    "- Normal (Negative): The majority class, representing typical, expected data.\n",
    "- Anomaly (Positive): The minority class, representing unusual or unexpected data points.\n",
    "\n",
    "The confusion matrix helps us understand how well our anomaly detection model performs by showing us how many data points were correctly and incorrectly classified. Here 0 means a normal transaction, and 1 means a fradulent transaction. Based on the diagram below, out of the 15 actual anomalies, we correctly labeled 7 of them as anomalies. We also marked 76 normal transcations as anomalies, which are our false positives."
   ]
  },
  {
   "cell_type": "code",
   "execution_count": null,
   "id": "4c91ab26",
   "metadata": {},
   "outputs": [
    {
     "data": {
      "text/plain": [
       "<sklearn.metrics._plot.confusion_matrix.ConfusionMatrixDisplay at 0x16ca3ef10>"
      ]
     },
     "execution_count": 11,
     "metadata": {},
     "output_type": "execute_result"
    },
    {
     "data": {
      "image/png": "[encoded data removed]",
      "text/plain": [
       "<Figure size 640x480 with 2 Axes>"
      ]
     },
     "metadata": {},
     "output_type": "display_data"
    }
   ],
   "source": [
    "ConfusionMatrixDisplay.from_predictions(\n",
    "    df_predictions[\"Class\"],\n",
    "    df_predictions[\"ml_results\"]\n",
    "    .apply(json.loads)\n",
    "    .apply(lambda x: x[\"predictions\"][\"is_anomaly\"]),\n",
    ")"
   ]
  },
  {
   "cell_type": "markdown",
   "id": "b9850bd7",
   "metadata": {},
   "source": [
    "We invite you to try [HeatWave AutoML and GenAI](https://www.oracle.com/heatwave/free/). If you’re new to Oracle Cloud Infrastructure, try Oracle Cloud Free Trial, a free 30-day trial with US$300 in credits."
   ]
  }
 ],
 "metadata": {
  "kernelspec": {
   "display_name": ".venv",
   "language": "python",
   "name": "python3"
  },
  "language_info": {
   "codemirror_mode": {
    "name": "ipython",
    "version": 3
   },
   "file_extension": ".py",
   "mimetype": "text/x-python",
   "name": "python",
   "nbconvert_exporter": "python",
   "pygments_lexer": "ipython3",
   "version": "3.9.6"
  }
 },
 "nbformat": 4,
 "nbformat_minor": 5
}
