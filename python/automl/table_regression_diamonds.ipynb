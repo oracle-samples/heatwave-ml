{
 "cells": [
  {
   "cell_type": "markdown",
   "id": "50bcff27",
   "metadata": {},
   "source": [
    "### Machine Learning with Diamonds Dataset Notebook\n",
    "This notebook explores the application of machine learning techniques to the Diamonds dataset is a classic dataset in the field of machine learning, often used for practicing regression and data analysis techniques. It contains information about approximately 54,000 diamonds, including their prices and various attributes.\n",
    "\n",
    "The dataset provides a rich source of information for understanding the factors that influence diamond prices. It's a great resource for beginners learning data analysis and visualization, as well as for more advanced machine learning tasks like predictive modeling.\n",
    "\n",
    "The dataset includes the following columns:\n",
    "\n",
    "- price: The price of the diamond in US dollars ($326 - $18,823)\n",
    "- carat: The weight of the diamond (0.2 - 5.01)\n",
    "- cut: The quality of the cut (Fair, Good, Very Good, Premium, Ideal)\n",
    "- color: Diamond color, from J (worst) to D (best)\n",
    "- clarity: A measurement of how clear the diamond is (I1 (worst), SI2, SI1, VS2, VS1, VVS2, VVS1, IF (best))   \n",
    "- x: Length in mm (0 - 10.74)\n",
    "- y: Width in mm (0 - 58.9)\n",
    "- z: Depth in mm (0 - 31.8)\n",
    "- depth: Total depth percentage = z / mean(x, y) = 2 * z / (x + y) (43 - 79)\n",
    "- table: Width of top of diamond relative to widest point (43 - 95)\n",
    "\n",
    "Throughout this notebook, we will use HeatWave AutoML to predict the price of a diamond based on its characteristics and prior prices of other diamonds."
   ]
  },
  {
   "cell_type": "markdown",
   "id": "a7926d29",
   "metadata": {},
   "source": [
    "### Prerequistises\n",
    "Install the necessary packages\n",
    "\n",
    "- mysql-connector-python\n",
    "- pandas \n",
    "- seaborn \n",
    "- sshtunnel \n",
    "- scikit-learn\n",
    "- sqlalchemy"
   ]
  },
  {
   "cell_type": "code",
   "execution_count": 1,
   "id": "16a028ef",
   "metadata": {},
   "outputs": [],
   "source": [
    "import json\n",
    "import os\n",
    "import mysql.connector\n",
    "import pandas as pd\n",
    "import numpy as np\n",
    "from sklearn.model_selection import train_test_split\n",
    "import sqlalchemy"
   ]
  },
  {
   "cell_type": "markdown",
   "id": "d452f97d",
   "metadata": {},
   "source": [
    "### Connect to the HeatWave instance\n",
    "We create a connection to an active [HeatWave](https://www.oracle.com/mysql/) instance using the [MySQL Connector/Python](https://dev.mysql.com/doc/connector-python/en/). We also define an API to execute a SQL query using a cursor, and the result is returned as a Pandas DataFrame. Modify the below variables to point to your HeatWave instance. On AWS, set USE_BASTION to False. On OCI, please create a tunnel on your machine using the below command by substituting the variable with their respective values\n",
    "\n",
    "ssh -o ServerAliveInterval=60 -i BASTION_PKEY -L LOCAL_PORT:DBSYSTEM_IP:DBSYSTEM_PORT BASTION_USER@BASTION_IP"
   ]
  },
  {
   "cell_type": "code",
   "execution_count": null,
   "id": "5256a035",
   "metadata": {},
   "outputs": [],
   "source": [
    "BASTION_IP = \"ip_address\"\n",
    "BASTION_USER = \"opc\"\n",
    "BASTION_PKEY = \"private_key_file\"\n",
    "DBSYSTEM_IP = \"ip_address\"\n",
    "DBSYSTEM_PORT = 3306\n",
    "DBSYSTEM_USER = \"username\"\n",
    "DBSYSTEM_PASSWORD = \"password\"\n",
    "DBSYSTEM_SCHEMA = \"ml_benchmark\"\n",
    "LOCAL_PORT = 31231\n",
    "USE_BASTION = True\n",
    "\n",
    "if USE_BASTION is True:\n",
    "    DBSYSTEM_IP = \"127.0.0.1\"\n",
    "else:\n",
    "    LOCAL_PORT = DBSYSTEM_PORT\n",
    "\n",
    "mydb = mysql.connector.connect(\n",
    "    host=DBSYSTEM_IP,\n",
    "    port=LOCAL_PORT,\n",
    "    user=DBSYSTEM_USER,\n",
    "    password=DBSYSTEM_PASSWORD,\n",
    "    database=DBSYSTEM_SCHEMA,\n",
    "    allow_local_infile=True,\n",
    "    use_pure=True,\n",
    "    autocommit=True,\n",
    ")\n",
    "mycursor = mydb.cursor()\n",
    "\n",
    "\n",
    "# Helper function to execute SQL queries and return the results as a Pandas DataFrame\n",
    "def execute_sql(sql: str) -> pd.DataFrame:\n",
    "    mycursor.execute(sql)\n",
    "    return pd.DataFrame(mycursor.fetchall(), columns=mycursor.column_names)"
   ]
  },
  {
   "cell_type": "markdown",
   "id": "92642ba6",
   "metadata": {},
   "source": [
    " ### Download the Diamonds dataset and load it into Python\n",
    " We download the diamonds dataset from [OpenML](https://www.openml.org/search?type=data&status=active&id=42225). We load into Python using Pandas."
   ]
  },
  {
   "cell_type": "code",
   "execution_count": 3,
   "id": "170acdcd",
   "metadata": {},
   "outputs": [
    {
     "name": "stdout",
     "output_type": "stream",
     "text": [
      "  % Total    % Received % Xferd  Average Speed   Time    Time     Time  Current\n",
      "                                 Dload  Upload   Total   Spent    Left  Speed\n",
      "100 2535k    0 2535k    0     0   714k      0 --:--:--  0:00:03 --:--:--  714k\n"
     ]
    }
   ],
   "source": [
    "# Download the diamonds dataset to a local folder\n",
    "!curl -O https://www.openml.org/data/get_csv/21792853/dataset.csv\n",
    "\n",
    "# Create a Pandas dataframe from the data\n",
    "df = pd.read_csv(\"dataset.csv\", header=0, sep=\",\", encoding=\"utf-8\")\n",
    "\n",
    "# Now that we have loaded the data in Python, we don't need the local files anymore\n",
    "os.remove(\"dataset.csv\")"
   ]
  },
  {
   "cell_type": "markdown",
   "id": "d8fb03b2",
   "metadata": {},
   "source": [
    "### Split the data into a training set and an evaluation set\n",
    "In machine learning, the train-test split is a crucial technique used to evaluate the performance of a model on unseen data. It involves dividing the available dataset into two distinct subsets:   \n",
    "\n",
    "- Training set: This subset is used to train the machine learning model. The model learns the underlying patterns and relationships in the data by analyzing this set.   \n",
    "- Test set: This subset is held back and not used during the training process. Once the model is trained, it's applied to the test set to assess its ability to generalize to new, unseen data."
   ]
  },
  {
   "cell_type": "code",
   "execution_count": 4,
   "id": "896be451",
   "metadata": {},
   "outputs": [],
   "source": [
    "df_train, df_test = train_test_split(\n",
    "    df, test_size=0.30, random_state=1\n",
    ")\n",
    "df_train = df_train.replace({np.nan: \"NULL\"})\n",
    "df_test = df_test.replace({np.nan: \"NULL\"})"
   ]
  },
  {
   "cell_type": "markdown",
   "id": "bd8f4886",
   "metadata": {},
   "source": [
    " ### Load the Diamonds dataset into a HeatWave table\n",
    " We connect to the MySQL database using SQLAlchemy, map Pandas data types to their corresponding MySQL dialects, and writes two DataFrames (df_train and df_test) to separate tables (diamonds_train and diamonds_test) in the database, replacing any existing tables."
   ]
  },
  {
   "cell_type": "code",
   "execution_count": 5,
   "id": "b0f1b82b",
   "metadata": {},
   "outputs": [
    {
     "data": {
      "text/plain": [
       "16182"
      ]
     },
     "execution_count": 5,
     "metadata": {},
     "output_type": "execute_result"
    }
   ],
   "source": [
    "# Create a SQLAlchemy engine instance to connect to the MySQL database\n",
    "sql_engine = sqlalchemy.create_engine(\n",
    "    f\"mysql+mysqlconnector://{DBSYSTEM_USER}:{DBSYSTEM_PASSWORD}@{DBSYSTEM_IP}:{LOCAL_PORT}/{DBSYSTEM_SCHEMA}\",\n",
    "    echo=False,\n",
    "    echo_pool=False,\n",
    "    pool_pre_ping=True,\n",
    "    pool_recycle=3600,\n",
    ")\n",
    "\n",
    "# Define a dictionary mapping pandas data types to their corresponding SQLAlchemy dialects\n",
    "dtype_mapping = {\n",
    "    \"uint64\": sqlalchemy.dialects.mysql.INTEGER(unsigned=True),\n",
    "    \"int64\": sqlalchemy.dialects.mysql.INTEGER(),\n",
    "    \"float64\": sqlalchemy.dialects.mysql.FLOAT(),\n",
    "    \"object\": sqlalchemy.dialects.mysql.VARCHAR(length=255),\n",
    "    \"datetime64[ns]\": sqlalchemy.dialects.mysql.DATETIME(timezone=False),\n",
    "    \"bool\": sqlalchemy.dialects.mysql.TINYINT(),\n",
    "}\n",
    "# Prepare the dtype dict for sqlalchemy/pd.DataFrame.to_sql\n",
    "dtypes = {col: dtype_mapping[str(dtype)] for col, dtype in zip(df.columns, df.dtypes)}\n",
    "\n",
    "# Write the training DataFrame to the 'diamonds_train' table in the database\n",
    "df_train.to_sql(\n",
    "    f\"diamonds_train\",\n",
    "    con=sql_engine,\n",
    "    if_exists=\"replace\",\n",
    "    dtype=dtypes,\n",
    "    chunksize=100000,\n",
    "    index=False,\n",
    ")\n",
    "# Write the testing DataFrame to the 'diamonds_test' table in the database\n",
    "df_test.to_sql(\n",
    "    f\"diamonds_test\",\n",
    "    con=sql_engine,\n",
    "    if_exists=\"replace\",\n",
    "    dtype=dtypes,\n",
    "    chunksize=100000,\n",
    "    index=False,\n",
    ")"
   ]
  },
  {
   "cell_type": "markdown",
   "id": "2baf5ee8",
   "metadata": {},
   "source": [
    "### Create a HeatWave AutoML model from the Diamonds training dataset\n",
    "We create a machine learning model on the diamonds dataset using the ML_TRAIN API. The column price in the data contains what the price of the diamond is. We specify price as the column that we are trying to learn on, since we need to predict for a new diamond what its price will be. The model handle generated at the end of training is stored in the model variable. We will use this handle to refer to the model in our future interactions"
   ]
  },
  {
   "cell_type": "code",
   "execution_count": 6,
   "id": "9f549e3f",
   "metadata": {},
   "outputs": [
    {
     "name": "stderr",
     "output_type": "stream",
     "text": [
      "/var/folders/10/ptwbrcrx57g8d9yqgv5n4kym0000gn/T/ipykernel_56245/3269961095.py:5: FutureWarning: Series.__getitem__ treating keys as positions is deprecated. In a future version, integer keys will always be treated as labels (consistent with DataFrame behavior). To access a value by position, use `ser.iloc[pos]`\n",
      "  model = execute_sql(\"\"\"SELECT @model;\"\"\").iloc[0][0]\n"
     ]
    },
    {
     "data": {
      "text/html": [
       "<div>\n",
       "<style scoped>\n",
       "    .dataframe tbody tr th:only-of-type {\n",
       "        vertical-align: middle;\n",
       "    }\n",
       "\n",
       "    .dataframe tbody tr th {\n",
       "        vertical-align: top;\n",
       "    }\n",
       "\n",
       "    .dataframe thead th {\n",
       "        text-align: right;\n",
       "    }\n",
       "</style>\n",
       "<table border=\"1\" class=\"dataframe\">\n",
       "  <thead>\n",
       "    <tr style=\"text-align: right;\">\n",
       "      <th></th>\n",
       "    </tr>\n",
       "  </thead>\n",
       "  <tbody>\n",
       "  </tbody>\n",
       "</table>\n",
       "</div>"
      ],
      "text/plain": [
       "Empty DataFrame\n",
       "Columns: []\n",
       "Index: []"
      ]
     },
     "execution_count": 6,
     "metadata": {},
     "output_type": "execute_result"
    }
   ],
   "source": [
    "execute_sql(\"\"\"SET @model = NULL;\"\"\")\n",
    "execute_sql(\n",
    "    f\"\"\"CALL sys.ML_TRAIN('{DBSYSTEM_SCHEMA}.diamonds_train', 'price', JSON_OBJECT('task', 'regression'), @model)\"\"\"\n",
    ")\n",
    "model = execute_sql(\"\"\"SELECT @model;\"\"\").iloc[0][0]\n",
    "execute_sql(f\"\"\"CALL sys.ML_MODEL_LOAD('{model}', NULL)\"\"\")"
   ]
  },
  {
   "cell_type": "markdown",
   "id": "9466af07",
   "metadata": {},
   "source": [
    "### Evaluate the model\n",
    "We look at the overall performance of the model on unseen data by using the ML_SCORE routine to compute the average error in price across predictions. The error metric tells us on average how much the prediction of the model will vary from the actual price on the diamonds_test data."
   ]
  },
  {
   "cell_type": "code",
   "execution_count": 7,
   "id": "b6b211f8-8153-4ac6-a151-083624acef64",
   "metadata": {},
   "outputs": [
    {
     "name": "stdout",
     "output_type": "stream",
     "text": [
      "The model error is 271.07\n"
     ]
    },
    {
     "name": "stderr",
     "output_type": "stream",
     "text": [
      "/var/folders/10/ptwbrcrx57g8d9yqgv5n4kym0000gn/T/ipykernel_56245/3845455505.py:4: FutureWarning: Series.__getitem__ treating keys as positions is deprecated. In a future version, integer keys will always be treated as labels (consistent with DataFrame behavior). To access a value by position, use `ser.iloc[pos]`\n",
      "  score = execute_sql(\"\"\"SELECT @score;\"\"\").iloc[0][0]\n"
     ]
    }
   ],
   "source": [
    "execute_sql(\n",
    "    f\"\"\"CALL sys.ML_SCORE('{DBSYSTEM_SCHEMA}.diamonds_test', 'price', '{model}', 'neg_mean_absolute_error', @score, NULL);\"\"\"\n",
    ")\n",
    "score = execute_sql(\"\"\"SELECT @score;\"\"\").iloc[0][0]\n",
    "print(f\"The model error is {-score:.2f}\")"
   ]
  },
  {
   "cell_type": "markdown",
   "id": "59149aaf",
   "metadata": {},
   "source": [
    "### Generating predictions to evaluate model performance on unseen test data\n",
    "We invoke the ML_PREDICT_TABLE API to generate prediction for the above model on our test data. The output table contains 2 extra columns \n",
    "- Prediction: Contains the actual prediction from the model. This is what the model thinks the customer will do based on the data it has learned from earlier.\n",
    "- ml_results: This contains more details about the prediction"
   ]
  },
  {
   "cell_type": "code",
   "execution_count": 8,
   "id": "ddbcfc41",
   "metadata": {},
   "outputs": [
    {
     "data": {
      "text/html": [
       "<div>\n",
       "<style scoped>\n",
       "    .dataframe tbody tr th:only-of-type {\n",
       "        vertical-align: middle;\n",
       "    }\n",
       "\n",
       "    .dataframe tbody tr th {\n",
       "        vertical-align: top;\n",
       "    }\n",
       "\n",
       "    .dataframe thead th {\n",
       "        text-align: right;\n",
       "    }\n",
       "</style>\n",
       "<table border=\"1\" class=\"dataframe\">\n",
       "  <thead>\n",
       "    <tr style=\"text-align: right;\">\n",
       "      <th></th>\n",
       "      <th>_4aad19ca6e_pk_id</th>\n",
       "      <th>carat</th>\n",
       "      <th>cut</th>\n",
       "      <th>color</th>\n",
       "      <th>clarity</th>\n",
       "      <th>depth</th>\n",
       "      <th>table</th>\n",
       "      <th>price</th>\n",
       "      <th>x</th>\n",
       "      <th>y</th>\n",
       "      <th>z</th>\n",
       "      <th>Prediction</th>\n",
       "      <th>ml_results</th>\n",
       "    </tr>\n",
       "  </thead>\n",
       "  <tbody>\n",
       "    <tr>\n",
       "      <th>0</th>\n",
       "      <td>1</td>\n",
       "      <td>0.33</td>\n",
       "      <td>Ideal</td>\n",
       "      <td>H</td>\n",
       "      <td>SI1</td>\n",
       "      <td>61.7</td>\n",
       "      <td>55.0</td>\n",
       "      <td>564</td>\n",
       "      <td>4.43</td>\n",
       "      <td>4.46</td>\n",
       "      <td>2.74</td>\n",
       "      <td>529.931</td>\n",
       "      <td>{\"predictions\": {\"price\": 529.931046581464}}</td>\n",
       "    </tr>\n",
       "    <tr>\n",
       "      <th>1</th>\n",
       "      <td>2</td>\n",
       "      <td>1.20</td>\n",
       "      <td>Ideal</td>\n",
       "      <td>I</td>\n",
       "      <td>VS2</td>\n",
       "      <td>62.1</td>\n",
       "      <td>57.0</td>\n",
       "      <td>5914</td>\n",
       "      <td>6.78</td>\n",
       "      <td>6.71</td>\n",
       "      <td>4.19</td>\n",
       "      <td>5491.580</td>\n",
       "      <td>{\"predictions\": {\"price\": 5491.582223491808}}</td>\n",
       "    </tr>\n",
       "    <tr>\n",
       "      <th>2</th>\n",
       "      <td>3</td>\n",
       "      <td>0.62</td>\n",
       "      <td>Ideal</td>\n",
       "      <td>D</td>\n",
       "      <td>VS1</td>\n",
       "      <td>61.0</td>\n",
       "      <td>57.0</td>\n",
       "      <td>2562</td>\n",
       "      <td>5.51</td>\n",
       "      <td>5.54</td>\n",
       "      <td>3.37</td>\n",
       "      <td>2512.580</td>\n",
       "      <td>{\"predictions\": {\"price\": 2512.576859453025}}</td>\n",
       "    </tr>\n",
       "    <tr>\n",
       "      <th>3</th>\n",
       "      <td>4</td>\n",
       "      <td>0.34</td>\n",
       "      <td>Good</td>\n",
       "      <td>H</td>\n",
       "      <td>VS2</td>\n",
       "      <td>63.1</td>\n",
       "      <td>56.0</td>\n",
       "      <td>537</td>\n",
       "      <td>4.41</td>\n",
       "      <td>4.46</td>\n",
       "      <td>2.80</td>\n",
       "      <td>561.117</td>\n",
       "      <td>{\"predictions\": {\"price\": 561.117092017122}}</td>\n",
       "    </tr>\n",
       "    <tr>\n",
       "      <th>4</th>\n",
       "      <td>5</td>\n",
       "      <td>1.20</td>\n",
       "      <td>Ideal</td>\n",
       "      <td>E</td>\n",
       "      <td>SI2</td>\n",
       "      <td>62.5</td>\n",
       "      <td>55.0</td>\n",
       "      <td>5964</td>\n",
       "      <td>6.77</td>\n",
       "      <td>6.84</td>\n",
       "      <td>4.25</td>\n",
       "      <td>6030.390</td>\n",
       "      <td>{\"predictions\": {\"price\": 6030.391241736642}}</td>\n",
       "    </tr>\n",
       "  </tbody>\n",
       "</table>\n",
       "</div>"
      ],
      "text/plain": [
       "   _4aad19ca6e_pk_id  carat    cut color clarity  depth  table  price     x  \\\n",
       "0                  1   0.33  Ideal     H     SI1   61.7   55.0    564  4.43   \n",
       "1                  2   1.20  Ideal     I     VS2   62.1   57.0   5914  6.78   \n",
       "2                  3   0.62  Ideal     D     VS1   61.0   57.0   2562  5.51   \n",
       "3                  4   0.34   Good     H     VS2   63.1   56.0    537  4.41   \n",
       "4                  5   1.20  Ideal     E     SI2   62.5   55.0   5964  6.77   \n",
       "\n",
       "      y     z  Prediction                                     ml_results  \n",
       "0  4.46  2.74     529.931   {\"predictions\": {\"price\": 529.931046581464}}  \n",
       "1  6.71  4.19    5491.580  {\"predictions\": {\"price\": 5491.582223491808}}  \n",
       "2  5.54  3.37    2512.580  {\"predictions\": {\"price\": 2512.576859453025}}  \n",
       "3  4.46  2.80     561.117   {\"predictions\": {\"price\": 561.117092017122}}  \n",
       "4  6.84  4.25    6030.390  {\"predictions\": {\"price\": 6030.391241736642}}  "
      ]
     },
     "execution_count": 8,
     "metadata": {},
     "output_type": "execute_result"
    }
   ],
   "source": [
    "execute_sql(f\"\"\"DROP TABLE IF EXISTS diamonds_test_predictions\"\"\")\n",
    "execute_sql(\n",
    "    f\"\"\"CALL sys.ML_PREDICT_TABLE('{DBSYSTEM_SCHEMA}.diamonds_test', '{model}', '{DBSYSTEM_SCHEMA}.diamonds_test_predictions', NULL)\"\"\"\n",
    ")\n",
    "df_predictions = execute_sql(f\"\"\"SELECT * FROM diamonds_test_predictions\"\"\")\n",
    "execute_sql(f\"\"\"DROP TABLE IF EXISTS diamonds_test_predictions\"\"\")\n",
    "df_predictions.head()"
   ]
  },
  {
   "cell_type": "markdown",
   "id": "85a963d1",
   "metadata": {},
   "source": [
    "### Getting a deeper understanding of the model's predictions"
   ]
  },
  {
   "cell_type": "markdown",
   "id": "2eb80ffb",
   "metadata": {},
   "source": [
    "Regression models predict on continous values, so we would like to understand how close the model was to predicting the actual price. We use a regression plot, where the X axis shows the actual price of a diamond, and the y axis shows the predicted price for the same diamond. So the closer each point is to the X=Y line across the center, the more accurate the model is. "
   ]
  },
  {
   "cell_type": "code",
   "execution_count": 9,
   "id": "4c91ab26",
   "metadata": {},
   "outputs": [
    {
     "data": {
      "text/plain": [
       "<Axes: xlabel='Actual price', ylabel='Predicted price'>"
      ]
     },
     "execution_count": 9,
     "metadata": {},
     "output_type": "execute_result"
    },
    {
     "data": {
      "image/png": "[encoded data removed]",
      "text/plain": [
       "<Figure size 640x480 with 1 Axes>"
      ]
     },
     "metadata": {},
     "output_type": "display_data"
    }
   ],
   "source": [
    "df = pd.DataFrame()\n",
    "df['Predicted price'] = df_predictions['Prediction']\n",
    "df['Actual price'] = df_predictions['price'].astype(float)\n",
    "df.plot.scatter(x='Actual price', y='Predicted price')"
   ]
  },
  {
   "cell_type": "markdown",
   "id": "21122cdf",
   "metadata": {},
   "source": [
    "### Model explanations"
   ]
  },
  {
   "cell_type": "markdown",
   "id": "5539a086",
   "metadata": {},
   "source": [
    "HeatWave AutoML also provides [model explanations](https://dev.mysql.com/doc/heatwave/en/mys-hwaml-model-explanations.html) which provide a global view of which columns contributed the most to create the model. Interesting the carat and the width of the diamond (y) seem to be the most important factors in deciding the price."
   ]
  },
  {
   "cell_type": "code",
   "execution_count": 10,
   "id": "bc58a627",
   "metadata": {},
   "outputs": [
    {
     "name": "stderr",
     "output_type": "stream",
     "text": [
      "/var/folders/10/ptwbrcrx57g8d9yqgv5n4kym0000gn/T/ipykernel_56245/4254255408.py:4: FutureWarning: Series.__getitem__ treating keys as positions is deprecated. In a future version, integer keys will always be treated as labels (consistent with DataFrame behavior). To access a value by position, use `ser.iloc[pos]`\n",
      "  pd.Series(json.loads(df.iloc[0][0])[\"permutation_importance\"]).sort_values(\n"
     ]
    },
    {
     "data": {
      "text/plain": [
       "<Axes: >"
      ]
     },
     "execution_count": 10,
     "metadata": {},
     "output_type": "execute_result"
    },
    {
     "data": {
      "image/png": "[encoded data removed]",
      "text/plain": [
       "<Figure size 640x480 with 1 Axes>"
      ]
     },
     "metadata": {},
     "output_type": "display_data"
    }
   ],
   "source": [
    "df = execute_sql(\n",
    "    f\"\"\"SELECT model_explanation FROM ML_SCHEMA_{DBSYSTEM_USER}.MODEL_CATALOG WHERE model_handle = '{model}'\"\"\"\n",
    ")\n",
    "pd.Series(json.loads(df.iloc[0][0])[\"permutation_importance\"]).sort_values(\n",
    "    axis=0, ascending=False\n",
    ").plot(kind=\"bar\", color=\"r\", alpha=0.5)"
   ]
  },
  {
   "cell_type": "markdown",
   "id": "b9850bd7",
   "metadata": {},
   "source": [
    "We invite you to try [HeatWave AutoML and GenAI](https://www.oracle.com/heatwave/free/). If you’re new to Oracle Cloud Infrastructure, try Oracle Cloud Free Trial, a free 30-day trial with US$300 in credits."
   ]
  }
 ],
 "metadata": {
  "kernelspec": {
   "display_name": ".venv",
   "language": "python",
   "name": "python3"
  },
  "language_info": {
   "codemirror_mode": {
    "name": "ipython",
    "version": 3
   },
   "file_extension": ".py",
   "mimetype": "text/x-python",
   "name": "python",
   "nbconvert_exporter": "python",
   "pygments_lexer": "ipython3",
   "version": "3.9.6"
  }
 },
 "nbformat": 4,
 "nbformat_minor": 5
}
