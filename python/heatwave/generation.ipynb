{
 "cells": [
  {
   "cell_type": "markdown",
   "id": "559d8a94-55eb-43c9-bebe-33d3953216a7",
   "metadata": {},
   "source": [
    "# HeatWave GenAI"
   ]
  },
  {
   "cell_type": "markdown",
   "id": "d2313fd6-aca0-422a-8697-abc8bfe20d15",
   "metadata": {},
   "source": [
    "HeatWave GenAI is the industry's first automated in-database Generative AI service. Seamlessly integrating large language models (LLMs) and embedding generation within the database, it allows you to effortlessly generate new and realistic content, speed up manual or repetitive tasks like summarizing large documents, perform Retrieval Augmented Generation (RAG), and engage in natural language interactions. Refer to https://www.oracle.com/heatwave/genai for further details on Heatwave GenAI."
   ]
  },
  {
   "cell_type": "markdown",
   "id": "1842993b-68d9-4e39-8b34-826ff34e9dac",
   "metadata": {},
   "source": [
    "This notebook demonstrates the application of [ML_GENERATE](https://dev.mysql.com/doc/heatwave/en/mys-hwgenai-ml-generate.html) for content generation using data from the 2024 Olympic Games.\n",
    "\n",
    "### References\n",
    "- https://www.economicsobservatory.com/what-happened-at-the-2024-olympics\n",
    "- https://en.wikipedia.org/wiki/2024_Summer_Olympics\n",
    "\n",
    "### Prerequistises\n",
    "Install the necessary packages\n",
    "\n",
    "- mysql-connector-python\n",
    "- pandas "
   ]
  },
  {
   "cell_type": "markdown",
   "id": "cdfdf43d-fa00-418b-950c-379cdb9d51a1",
   "metadata": {},
   "source": [
    "##### Import Python packages"
   ]
  },
  {
   "cell_type": "code",
   "execution_count": 1,
   "id": "e9509e32-7ae6-440e-a1dc-85100bfe8976",
   "metadata": {},
   "outputs": [],
   "source": [
    "# import Python packages\n",
    "import time\n",
    "import json\n",
    "import numpy as np\n",
    "import pandas as pd\n",
    "import mysql.connector\n",
    "from mysql.connector.errors import OperationalError, InterfaceError"
   ]
  },
  {
   "cell_type": "markdown",
   "id": "27c0c921-7a0c-4b41-a5c0-81da052e0856",
   "metadata": {},
   "source": [
    "### Connect to the HeatWave instance\n",
    "We create a connection to an active [HeatWave](https://www.oracle.com/mysql/) instance using the [MySQL Connector/Python](https://dev.mysql.com/doc/connector-python/en/). We also define an API to execute a SQL query using a cursor, and the result is returned as a Pandas DataFrame. Modify the below variables to point to your HeatWave instance. On AWS, set USE_BASTION to False. On OCI, please create a tunnel on your machine using the below command by substituting the variable with their respective values\n",
    "\n",
    "ssh -o ServerAliveInterval=60 -i BASTION_PKEY -L LOCAL_PORT:DBSYSTEM_IP:DBSYSTEM_PORT BASTION_USER@BASTION_IP"
   ]
  },
  {
   "cell_type": "code",
   "execution_count": null,
   "id": "5caf4bd2-db0f-4ce2-b18f-a442af4ba58b",
   "metadata": {},
   "outputs": [],
   "source": [
    "BASTION_IP =\"ip_address\"\n",
    "BASTION_USER = \"opc\"\n",
    "BASTION_PKEY = \"private_key_file\"\n",
    "DBSYSTEM_IP = \"ip_address\"\n",
    "DBSYSTEM_PORT = 3306\n",
    "DBSYSTEM_USER = \"username\"\n",
    "DBSYSTEM_PASSWORD = \"password\"\n",
    "DBSYSTEM_SCHEMA = \"mlcorpus\"\n",
    "LOCAL_PORT = 3306\n",
    "USE_BASTION = True\n",
    "\n",
    "if USE_BASTION is True:\n",
    "    DBSYSTEM_IP = \"127.0.0.1\"\n",
    "else:\n",
    "    LOCAL_PORT = DBSYSTEM_PORT\n",
    "    \n",
    "mydb = None  # global handle we keep fresh\n",
    "\n",
    "def _get_conn():\n",
    "    \"\"\"Return a live MySQL connection, recreating it if needed.\"\"\"\n",
    "    global mydb\n",
    "    if mydb is None or not mydb.is_connected():\n",
    "        try:\n",
    "            if mydb:\n",
    "                mydb.close()\n",
    "        except Exception:\n",
    "            pass\n",
    "        mydb = mysql.connector.connect(\n",
    "            host=DBSYSTEM_IP,\n",
    "            port=LOCAL_PORT,\n",
    "            user=DBSYSTEM_USER,\n",
    "            password=DBSYSTEM_PASSWORD,\n",
    "            database=DBSYSTEM_SCHEMA,\n",
    "            autocommit=True,\n",
    "            connection_timeout=10,\n",
    "        )\n",
    "    return mydb\n",
    "\n",
    "# Helper function to execute SQL queries and return the results as a Pandas DataFrame\n",
    "def execute_sql(sql: str, _retry=True) -> pd.DataFrame:\n",
    "    \"\"\"\n",
    "    Execute SQL and return a DataFrame. Empty DF for DDL/DML without result sets.\n",
    "    Ensures connection is alive; retries once on OperationalError.\n",
    "    \"\"\"\n",
    "    conn = _get_conn()\n",
    "    try:\n",
    "        with conn.cursor() as cur:\n",
    "            cur.execute(sql)\n",
    "            if cur.description is None:\n",
    "                return pd.DataFrame()\n",
    "            rows = cur.fetchall()\n",
    "            cols = [d[0] for d in cur.description]\n",
    "            return pd.DataFrame(rows, columns=cols)\n",
    "    except (OperationalError, InterfaceError) as e:\n",
    "        if _retry:\n",
    "            time.sleep(0.5)\n",
    "            try:\n",
    "                conn.close()\n",
    "            except Exception:\n",
    "                pass\n",
    "            global mydb\n",
    "            mydb = None\n",
    "            return execute_sql(sql, _retry=False)\n",
    "        raise\n"
   ]
  },
  {
   "cell_type": "markdown",
   "id": "2fd376b2-d27f-4745-802b-d7aac2e81ff2",
   "metadata": {},
   "source": [
    "# ML_GENERATE operation"
   ]
  },
  {
   "cell_type": "markdown",
   "id": "0db8cf1d-c602-41e4-a6b3-a71e749d84e5",
   "metadata": {},
   "source": [
    "You can perform content generation using the [ML_GENERATE](https://dev.mysql.com/doc/heatwave/en/mys-hwgenai-ml-generate.html) procedure."
   ]
  },
  {
   "cell_type": "markdown",
   "id": "e8314df1-3a03-4767-a207-46048ae7c94c",
   "metadata": {},
   "source": [
    "### Content generation"
   ]
  },
  {
   "cell_type": "markdown",
   "id": "b8efca09-1155-4fcb-ace0-5bd9731a5d72",
   "metadata": {},
   "source": [
    "Invoke the [ML_GENERATE](https://dev.mysql.com/doc/heatwave/en/mys-hwgenai-ml-generate.html) procedure to query the LLM."
   ]
  },
  {
   "cell_type": "code",
   "execution_count": 3,
   "id": "40227923",
   "metadata": {},
   "outputs": [
    {
     "data": {
      "text/plain": [
       "'The first modern Olympic Games were held in 1896, in Athens, Greece. They were organized by the International Olympic Committee (IOC) and took place from April 6 to April 15, 1896.'"
      ]
     },
     "execution_count": 3,
     "metadata": {},
     "output_type": "execute_result"
    }
   ],
   "source": [
    "df = execute_sql(f\"\"\"SELECT JSON_PRETTY(sys.ML_GENERATE(\"In which year were the first modern Olympic Games held?\", NULL));\"\"\")\n",
    "json.loads(df.iat[0,0])[\"text\"]"
   ]
  },
  {
   "cell_type": "code",
   "execution_count": 4,
   "id": "9c3ddf9b-20a1-4488-af92-413349971f66",
   "metadata": {},
   "outputs": [
    {
     "data": {
      "text/plain": [
       "\"I don't have information about the number of Olympians who will participate in the 2024 Games, as my training data is current up to 2021 and I do not have real-time access to future events. However, I can suggest checking the official Olympic website or other reliable news sources for the most up-to-date information on the participants of the 2024 Paris Olympics.\""
      ]
     },
     "execution_count": 4,
     "metadata": {},
     "output_type": "execute_result"
    }
   ],
   "source": [
    "df = execute_sql(f\"\"\"SELECT JSON_PRETTY(sys.ML_GENERATE(\"How many Olympians participated in the 2024 Games?\", NULL));\"\"\")\n",
    "json.loads(df.iat[0,0])[\"text\"]"
   ]
  },
  {
   "cell_type": "markdown",
   "id": "3c9e8154-a3d1-4c48-b2ac-447135d70c37",
   "metadata": {},
   "source": [
    "The model is unable to answer the above question because its training data extends only up to 2022.\n",
    "\n",
    "Let's provide the model with up-to-date information by using the 'context' option in the command."
   ]
  },
  {
   "cell_type": "code",
   "execution_count": 5,
   "id": "306038a5-3a81-4ac8-8906-54ff2f37f3ee",
   "metadata": {},
   "outputs": [
    {
     "data": {
      "text/plain": [
       "'According to the text, there were 10,500 Olympians who competed in the 2024 Olympic Games.'"
      ]
     },
     "execution_count": 5,
     "metadata": {},
     "output_type": "execute_result"
    }
   ],
   "source": [
    "df = execute_sql(f\"\"\"SELECT JSON_PRETTY(sys.ML_GENERATE(\"How many Olympians participated in the 2024 Games?\", JSON_OBJECT(\"context\", \"Paris has been the host for the 2024 Olympic and Paralympic Games. Over the course of the summer, the city – and other venues across France – have welcomed 10,500 Olympians (competing in 32 sports) and over 4,000 Paralympians (competing in 22 sports).\")));\"\"\")\n",
    "json.loads(df.iat[0,0])[\"text\"]"
   ]
  }
 ],
 "metadata": {
  "kernelspec": {
   "display_name": "pyvenv_sara_8",
   "language": "python",
   "name": "python3"
  },
  "language_info": {
   "codemirror_mode": {
    "name": "ipython",
    "version": 3
   },
   "file_extension": ".py",
   "mimetype": "text/x-python",
   "name": "python",
   "nbconvert_exporter": "python",
   "pygments_lexer": "ipython3",
   "version": "3.11.11"
  }
 },
 "nbformat": 4,
 "nbformat_minor": 5
}
