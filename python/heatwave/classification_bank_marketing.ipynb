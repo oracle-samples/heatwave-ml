{
 "cells": [
  {
   "cell_type": "markdown",
   "id": "50bcff27",
   "metadata": {},
   "source": [
    "### Machine Learning with Bank Marketing Dataset Notebook\n",
    "This notebook explores the application of machine learning techniques to the Bank Marketing dataset, a popular dataset in machine learning, particularly for classification tasks. It's often used to practice and demonstrate techniques related to predicting customer behavior, specifically in the context of marketing campaigns.\n",
    "\n",
    "The dataset originates from a Portuguese banking institution and is related to direct marketing campaigns (phone calls). The goal is to predict whether a customer will subscribe to a term deposit (a type of savings account) after being contacted by the bank.\n",
    "\n",
    "The dataset contains information about customers, their demographics, financial status, and the outcomes of marketing campaigns. It includes a mix of numerical and categorical features. Here are some of the key attributes:\n",
    "\n",
    "- age: Age of the customer (numeric)\n",
    "- job: Type of job (categorical, e.g., 'admin.', 'blue-collar', 'management')\n",
    "- marital: Marital status (categorical, e.g., 'married', 'single', 'divorced')\n",
    "- education: Education level (categorical, e.g., 'high school', 'university degree')\n",
    "- default: Has credit in default? (categorical, 'yes', 'no')\n",
    "- housing: Has housing loan? (categorical, 'yes', 'no')\n",
    "- loan: Has personal loan? (categorical, 'yes', 'no')\n",
    "- contact: Contact communication type (categorical, e.g., 'cellular', 'telephone')   \n",
    "- month: Last contact month of year (categorical, e.g., 'jan', 'feb', ..., 'dec')\n",
    "- day_of_week: Last contact day of the week (categorical, e.g., 'mon', 'tue', ..., 'fri')\n",
    "- duration: Last contact duration, in seconds (numeric) - Note: This feature is often excluded from realistic predictive models because it's only known after the call is made.\n",
    "- campaign: Number of contacts performed during this campaign and for this client (numeric, includes last contact)\n",
    "- pdays: Number of days that passed by after the client was last contacted from a previous campaign (numeric; 999 means client was not previously contacted)\n",
    "- previous: Number of contacts performed before this campaign and for this client (numeric)   \n",
    "- poutcome: Outcome of the previous marketing campaign (categorical, e.g., 'failure', 'success')   \n",
    "- y: Has the client subscribed a term deposit? (binary, 'yes', 'no') - This is the target variable.\n",
    "\n",
    "Throughout this notebook, we will use HeatWave AutoML to predict whether a customer will subscribe to a term deposit based on their characteristics and past interactions with the bank."
   ]
  },
  {
   "cell_type": "markdown",
   "id": "a7926d29",
   "metadata": {},
   "source": [
    "### Prerequistises\n",
    "Install the necessary packages\n",
    "\n",
    "- mysql-connector-python\n",
    "- pandas \n",
    "- scikit-learn\n",
    "- sqlalchemy"
   ]
  },
  {
   "cell_type": "code",
   "execution_count": 1,
   "id": "16a028ef",
   "metadata": {},
   "outputs": [],
   "source": [
    "import json\n",
    "import os\n",
    "import zipfile\n",
    "import mysql.connector\n",
    "import pandas as pd\n",
    "import numpy as np\n",
    "from sklearn.model_selection import train_test_split\n",
    "from sklearn.metrics import ConfusionMatrixDisplay\n",
    "import sqlalchemy"
   ]
  },
  {
   "cell_type": "markdown",
   "id": "d452f97d",
   "metadata": {},
   "source": [
    "### Connect to the HeatWave instance\n",
    "We create a connection to an active [HeatWave](https://www.oracle.com/mysql/) instance using the [MySQL Connector/Python](https://dev.mysql.com/doc/connector-python/en/). We also define an API to execute a SQL query using a cursor, and the result is returned as a Pandas DataFrame. Modify the below variables to point to your HeatWave instance. On AWS, set USE_BASTION to False. On OCI, please create a tunnel on your machine using the below command by substituting the variable with their respective values\n",
    "\n",
    "ssh -o ServerAliveInterval=60 -i BASTION_PKEY -L LOCAL_PORT:DBSYSTEM_IP:DBSYSTEM_PORT BASTION_USER@BASTION_IP"
   ]
  },
  {
   "cell_type": "code",
   "execution_count": null,
   "id": "5256a035",
   "metadata": {},
   "outputs": [],
   "source": [
    "BASTION_IP =\"ip_address\"\n",
    "BASTION_USER = \"opc\"\n",
    "BASTION_PKEY = \"private_key_file\"\n",
    "DBSYSTEM_IP = \"ip_address\"\n",
    "DBSYSTEM_PORT = 3306\n",
    "DBSYSTEM_USER = \"username\"\n",
    "DBSYSTEM_PASSWORD = \"password\"\n",
    "DBSYSTEM_SCHEMA = \"mlcorpus\"\n",
    "LOCAL_PORT = 3306\n",
    "USE_BASTION = True\n",
    "\n",
    "if USE_BASTION is True:\n",
    "    DBSYSTEM_IP = \"127.0.0.1\"\n",
    "else:\n",
    "    LOCAL_PORT = DBSYSTEM_PORT\n",
    "\n",
    "mydb = mysql.connector.connect(\n",
    "    host=DBSYSTEM_IP,\n",
    "    port=LOCAL_PORT,\n",
    "    user=DBSYSTEM_USER,\n",
    "    password=DBSYSTEM_PASSWORD,\n",
    "    database=DBSYSTEM_SCHEMA,\n",
    "    allow_local_infile=True,\n",
    "    use_pure=True,\n",
    "    autocommit=True,\n",
    ")\n",
    "mycursor = mydb.cursor()\n",
    "\n",
    "\n",
    "# Helper function to execute SQL queries and return the results as a Pandas DataFrame\n",
    "def execute_sql(sql: str) -> pd.DataFrame:\n",
    "    mycursor.execute(sql)\n",
    "    return pd.DataFrame(mycursor.fetchall(), columns=mycursor.column_names)"
   ]
  },
  {
   "cell_type": "markdown",
   "id": "92642ba6",
   "metadata": {},
   "source": [
    " ### Download the Bank Marketing dataset and load it into Python\n",
    " We download the bank marketing dataset from [UCI](https://archive.ics.uci.edu/). We extract the zipfile, and load into Python using Pandas."
   ]
  },
  {
   "cell_type": "code",
   "execution_count": 3,
   "id": "bb7882ad-0a70-4c24-b322-aa0589234fdc",
   "metadata": {},
   "outputs": [
    {
     "name": "stdout",
     "output_type": "stream",
     "text": [
      "  % Total    % Received % Xferd  Average Speed   Time    Time     Time  Current\n",
      "                                 Dload  Upload   Total   Spent    Left  Speed\n",
      "  0     0    0     0    0     0      0      0 --:--:-- --:--:-- --:--:--     0"
     ]
    },
    {
     "name": "stdout",
     "output_type": "stream",
     "text": [
      "100  565k    0  565k    0     0   341k      0 --:--:--  0:00:01 --:--:--  341k\n"
     ]
    }
   ],
   "source": [
    "# Download the bank marketing dataset to a local folder\n",
    "!curl -O https://archive.ics.uci.edu/ml/machine-learning-databases/00222/bank.zip\n",
    "# Extract the dataset. This creates 3 files: bank.csv, bank-full.csv and bank-names.txt\n",
    "zipfile.ZipFile(\"bank.zip\", \"r\").extractall()\n",
    "\n",
    "# Create a Pandas dataframe from the data\n",
    "df = pd.read_csv(\"bank-full.csv\", header=0, sep=\";\", encoding=\"utf-8\")\n",
    "\n",
    "# Now that we have loaded the data in Python, we don't need the local files anymore\n",
    "os.remove(\"bank.zip\")\n",
    "os.remove(\"bank.csv\")\n",
    "os.remove(\"bank-full.csv\")\n",
    "os.remove(\"bank-names.txt\")"
   ]
  },
  {
   "cell_type": "markdown",
   "id": "d8fb03b2",
   "metadata": {},
   "source": [
    "### Split the data into a training set and an evaluation set\n",
    "In machine learning, the train-test split is a crucial technique used to evaluate the performance of a model on unseen data. It involves dividing the available dataset into two distinct subsets:   \n",
    "\n",
    "- Training set: This subset is used to train the machine learning model. The model learns the underlying patterns and relationships in the data by analyzing this set.   \n",
    "- Test set: This subset is held back and not used during the training process. Once the model is trained, it's applied to the test set to assess its ability to generalize to new, unseen data."
   ]
  },
  {
   "cell_type": "code",
   "execution_count": 4,
   "id": "896be451",
   "metadata": {},
   "outputs": [],
   "source": [
    "df_train, df_test = train_test_split(\n",
    "    df, test_size=0.30, random_state=1, stratify=df[\"y\"]\n",
    ")\n",
    "df_train = df_train.replace({np.nan: \"NULL\"})\n",
    "df_test = df_test.replace({np.nan: \"NULL\"})"
   ]
  },
  {
   "cell_type": "markdown",
   "id": "bd8f4886",
   "metadata": {},
   "source": [
    " ### Load the Bank Marketing dataset into a HeatWave table\n",
    " We connect to the MySQL database using SQLAlchemy, map Pandas data types to their corresponding MySQL dialects, and writes two DataFrames (df_train and df_test) to separate tables (bank_marketing_train and bank_marketing_test) in the database, replacing any existing tables."
   ]
  },
  {
   "cell_type": "code",
   "execution_count": null,
   "id": "b0f1b82b",
   "metadata": {},
   "outputs": [
    {
     "data": {
      "text/plain": [
       "13564"
      ]
     },
     "execution_count": 5,
     "metadata": {},
     "output_type": "execute_result"
    }
   ],
   "source": [
    "# Create a SQLAlchemy engine instance to connect to the MySQL database\n",
    "sql_engine = sqlalchemy.create_engine(\n",
    "    f\"mysql+mysqlconnector://{DBSYSTEM_USER}:{DBSYSTEM_PASSWORD}@{DBSYSTEM_IP}:{LOCAL_PORT}/{DBSYSTEM_SCHEMA}\",\n",
    "    echo=False,\n",
    "    echo_pool=False,\n",
    "    pool_pre_ping=True,\n",
    "    pool_recycle=3600,\n",
    ")\n",
    "\n",
    "# Define a dictionary mapping pandas data types to their corresponding SQLAlchemy dialects\n",
    "dtype_mapping = {\n",
    "    \"uint64\": sqlalchemy.dialects.mysql.INTEGER(unsigned=True),\n",
    "    \"int64\": sqlalchemy.dialects.mysql.INTEGER(),\n",
    "    \"float64\": sqlalchemy.dialects.mysql.FLOAT(),\n",
    "    \"object\": sqlalchemy.dialects.mysql.VARCHAR(length=255),\n",
    "    \"datetime64[ns]\": sqlalchemy.dialects.mysql.DATETIME(timezone=False),\n",
    "    \"bool\": sqlalchemy.dialects.mysql.TINYINT(),\n",
    "}\n",
    "# Prepare the dtype dict for sqlalchemy/pd.DataFrame.to_sql\n",
    "dtypes = {col: dtype_mapping[str(dtype)] for col, dtype in zip(df.columns, df.dtypes)}\n",
    "\n",
    "# Write the training DataFrame to the 'bank_marketing_train' table in the database\n",
    "df_train.to_sql(\n",
    "    f\"bank_marketing_train\",\n",
    "    con=sql_engine,\n",
    "    if_exists=\"replace\",\n",
    "    dtype=dtypes,\n",
    "    chunksize=5000,\n",
    "    index=False,\n",
    ")\n",
    "# Write the testing DataFrame to the 'bank_marketing_test' table in the database\n",
    "df_test.to_sql(\n",
    "    f\"bank_marketing_test\",\n",
    "    con=sql_engine,\n",
    "    if_exists=\"replace\",\n",
    "    dtype=dtypes,\n",
    "    chunksize=5000,\n",
    "    index=False,\n",
    ")"
   ]
  },
  {
   "cell_type": "markdown",
   "id": "2baf5ee8",
   "metadata": {},
   "source": [
    "### Create a HeatWave AutoML model from the Bank Marketing training dataset\n",
    "We create a machine learning model on the Bank Marketing dataset using the [ML_TRAIN](https://dev.mysql.com/doc/heatwave/en/mys-hwaml-ml-train.html) API. The column y in the data contains whether the customer subscribes to a term deposit. We specify y as the column that we are trying to learn on, since we need to predict for new sample what the value of y will be. The model handle generated at the end of training is stored in the model variable. We will use this handle to refer to the model in our future interactions"
   ]
  },
  {
   "cell_type": "code",
   "execution_count": 6,
   "id": "9f549e3f",
   "metadata": {},
   "outputs": [
    {
     "data": {
      "text/html": [
       "<div>\n",
       "<style scoped>\n",
       "    .dataframe tbody tr th:only-of-type {\n",
       "        vertical-align: middle;\n",
       "    }\n",
       "\n",
       "    .dataframe tbody tr th {\n",
       "        vertical-align: top;\n",
       "    }\n",
       "\n",
       "    .dataframe thead th {\n",
       "        text-align: right;\n",
       "    }\n",
       "</style>\n",
       "<table border=\"1\" class=\"dataframe\">\n",
       "  <thead>\n",
       "    <tr style=\"text-align: right;\">\n",
       "      <th></th>\n",
       "    </tr>\n",
       "  </thead>\n",
       "  <tbody>\n",
       "  </tbody>\n",
       "</table>\n",
       "</div>"
      ],
      "text/plain": [
       "Empty DataFrame\n",
       "Columns: []\n",
       "Index: []"
      ]
     },
     "execution_count": 6,
     "metadata": {},
     "output_type": "execute_result"
    }
   ],
   "source": [
    "execute_sql(\"\"\"SET @model = NULL;\"\"\")\n",
    "execute_sql(\n",
    "    f\"\"\"CALL sys.ML_TRAIN('{DBSYSTEM_SCHEMA}.bank_marketing_train', 'y', NULL, @model)\"\"\"\n",
    ")\n",
    "model = execute_sql(\"\"\"SELECT @model;\"\"\").iat[0,0]\n",
    "execute_sql(f\"\"\"CALL sys.ML_MODEL_LOAD('{model}', NULL)\"\"\")"
   ]
  },
  {
   "cell_type": "markdown",
   "id": "9466af07",
   "metadata": {},
   "source": [
    "### Evaluate the model\n",
    "We look at the overall performance of the model on unseen data by using the [ML_SCORE](https://dev.mysql.com/doc/heatwave/en/mys-hwaml-ml-score.html) routine to compute the accuracy. The accuracy metric tells us what percentage of predictions the model answered correctly on the bank_marketing_test data."
   ]
  },
  {
   "cell_type": "code",
   "execution_count": 7,
   "id": "b6b211f8-8153-4ac6-a151-083624acef64",
   "metadata": {},
   "outputs": [
    {
     "name": "stdout",
     "output_type": "stream",
     "text": [
      "The model accuracy is 90.73\n"
     ]
    }
   ],
   "source": [
    "execute_sql(\n",
    "    f\"\"\"CALL sys.ML_SCORE('{DBSYSTEM_SCHEMA}.bank_marketing_test', 'y', '{model}', 'accuracy', @score, NULL);\"\"\"\n",
    ")\n",
    "score = execute_sql(\"\"\"SELECT @score;\"\"\").iat[0,0]\n",
    "print(f\"The model accuracy is {score*100:.2f}\")"
   ]
  },
  {
   "cell_type": "markdown",
   "id": "59149aaf",
   "metadata": {},
   "source": [
    "### Generating predictions to evaluate model performance on unseen test data\n",
    "We invoke the [ML_PREDICT_TABLE](https://dev.mysql.com/doc/heatwave/en/mys-hwaml-ml-predict-table.html) API to generate prediction for the above model on our test data. The output table contains 2 extra columns \n",
    "- Prediction: Contains the actual prediction from the model. This is what the model thinks the customer will do based on the data it has learned from earlier.\n",
    "- ml_results: This contains more details about the prediction"
   ]
  },
  {
   "cell_type": "code",
   "execution_count": 8,
   "id": "ddbcfc41",
   "metadata": {},
   "outputs": [
    {
     "data": {
      "text/html": [
       "<div>\n",
       "<style scoped>\n",
       "    .dataframe tbody tr th:only-of-type {\n",
       "        vertical-align: middle;\n",
       "    }\n",
       "\n",
       "    .dataframe tbody tr th {\n",
       "        vertical-align: top;\n",
       "    }\n",
       "\n",
       "    .dataframe thead th {\n",
       "        text-align: right;\n",
       "    }\n",
       "</style>\n",
       "<table border=\"1\" class=\"dataframe\">\n",
       "  <thead>\n",
       "    <tr style=\"text-align: right;\">\n",
       "      <th></th>\n",
       "      <th>_4aad19ca6e_pk_id</th>\n",
       "      <th>age</th>\n",
       "      <th>job</th>\n",
       "      <th>marital</th>\n",
       "      <th>education</th>\n",
       "      <th>default</th>\n",
       "      <th>balance</th>\n",
       "      <th>housing</th>\n",
       "      <th>loan</th>\n",
       "      <th>contact</th>\n",
       "      <th>day</th>\n",
       "      <th>month</th>\n",
       "      <th>duration</th>\n",
       "      <th>campaign</th>\n",
       "      <th>pdays</th>\n",
       "      <th>previous</th>\n",
       "      <th>poutcome</th>\n",
       "      <th>y</th>\n",
       "      <th>Prediction</th>\n",
       "      <th>ml_results</th>\n",
       "    </tr>\n",
       "  </thead>\n",
       "  <tbody>\n",
       "    <tr>\n",
       "      <th>0</th>\n",
       "      <td>1</td>\n",
       "      <td>30</td>\n",
       "      <td>services</td>\n",
       "      <td>married</td>\n",
       "      <td>secondary</td>\n",
       "      <td>no</td>\n",
       "      <td>7032</td>\n",
       "      <td>no</td>\n",
       "      <td>no</td>\n",
       "      <td>cellular</td>\n",
       "      <td>17</td>\n",
       "      <td>jul</td>\n",
       "      <td>102</td>\n",
       "      <td>1</td>\n",
       "      <td>-1</td>\n",
       "      <td>0</td>\n",
       "      <td>unknown</td>\n",
       "      <td>no</td>\n",
       "      <td>no</td>\n",
       "      <td>{\"predictions\": {\"y\": \"no\"}, \"probabilities\": ...</td>\n",
       "    </tr>\n",
       "    <tr>\n",
       "      <th>1</th>\n",
       "      <td>2</td>\n",
       "      <td>34</td>\n",
       "      <td>management</td>\n",
       "      <td>married</td>\n",
       "      <td>tertiary</td>\n",
       "      <td>no</td>\n",
       "      <td>676</td>\n",
       "      <td>no</td>\n",
       "      <td>no</td>\n",
       "      <td>telephone</td>\n",
       "      <td>11</td>\n",
       "      <td>nov</td>\n",
       "      <td>486</td>\n",
       "      <td>1</td>\n",
       "      <td>-1</td>\n",
       "      <td>0</td>\n",
       "      <td>unknown</td>\n",
       "      <td>yes</td>\n",
       "      <td>yes</td>\n",
       "      <td>{\"predictions\": {\"y\": \"yes\"}, \"probabilities\":...</td>\n",
       "    </tr>\n",
       "    <tr>\n",
       "      <th>2</th>\n",
       "      <td>3</td>\n",
       "      <td>34</td>\n",
       "      <td>blue-collar</td>\n",
       "      <td>single</td>\n",
       "      <td>secondary</td>\n",
       "      <td>no</td>\n",
       "      <td>869</td>\n",
       "      <td>no</td>\n",
       "      <td>no</td>\n",
       "      <td>cellular</td>\n",
       "      <td>31</td>\n",
       "      <td>aug</td>\n",
       "      <td>89</td>\n",
       "      <td>1</td>\n",
       "      <td>-1</td>\n",
       "      <td>0</td>\n",
       "      <td>unknown</td>\n",
       "      <td>no</td>\n",
       "      <td>no</td>\n",
       "      <td>{\"predictions\": {\"y\": \"no\"}, \"probabilities\": ...</td>\n",
       "    </tr>\n",
       "    <tr>\n",
       "      <th>3</th>\n",
       "      <td>4</td>\n",
       "      <td>38</td>\n",
       "      <td>housemaid</td>\n",
       "      <td>married</td>\n",
       "      <td>secondary</td>\n",
       "      <td>no</td>\n",
       "      <td>-278</td>\n",
       "      <td>yes</td>\n",
       "      <td>no</td>\n",
       "      <td>cellular</td>\n",
       "      <td>28</td>\n",
       "      <td>jul</td>\n",
       "      <td>143</td>\n",
       "      <td>2</td>\n",
       "      <td>-1</td>\n",
       "      <td>0</td>\n",
       "      <td>unknown</td>\n",
       "      <td>no</td>\n",
       "      <td>no</td>\n",
       "      <td>{\"predictions\": {\"y\": \"no\"}, \"probabilities\": ...</td>\n",
       "    </tr>\n",
       "    <tr>\n",
       "      <th>4</th>\n",
       "      <td>5</td>\n",
       "      <td>32</td>\n",
       "      <td>admin.</td>\n",
       "      <td>single</td>\n",
       "      <td>tertiary</td>\n",
       "      <td>no</td>\n",
       "      <td>594</td>\n",
       "      <td>yes</td>\n",
       "      <td>no</td>\n",
       "      <td>unknown</td>\n",
       "      <td>13</td>\n",
       "      <td>may</td>\n",
       "      <td>134</td>\n",
       "      <td>2</td>\n",
       "      <td>-1</td>\n",
       "      <td>0</td>\n",
       "      <td>unknown</td>\n",
       "      <td>no</td>\n",
       "      <td>no</td>\n",
       "      <td>{\"predictions\": {\"y\": \"no\"}, \"probabilities\": ...</td>\n",
       "    </tr>\n",
       "  </tbody>\n",
       "</table>\n",
       "</div>"
      ],
      "text/plain": [
       "   _4aad19ca6e_pk_id  age          job  marital  education default  balance  \\\n",
       "0                  1   30     services  married  secondary      no     7032   \n",
       "1                  2   34   management  married   tertiary      no      676   \n",
       "2                  3   34  blue-collar   single  secondary      no      869   \n",
       "3                  4   38    housemaid  married  secondary      no     -278   \n",
       "4                  5   32       admin.   single   tertiary      no      594   \n",
       "\n",
       "  housing loan    contact  day month  duration  campaign  pdays  previous  \\\n",
       "0      no   no   cellular   17   jul       102         1     -1         0   \n",
       "1      no   no  telephone   11   nov       486         1     -1         0   \n",
       "2      no   no   cellular   31   aug        89         1     -1         0   \n",
       "3     yes   no   cellular   28   jul       143         2     -1         0   \n",
       "4     yes   no    unknown   13   may       134         2     -1         0   \n",
       "\n",
       "  poutcome    y Prediction                                         ml_results  \n",
       "0  unknown   no         no  {\"predictions\": {\"y\": \"no\"}, \"probabilities\": ...  \n",
       "1  unknown  yes        yes  {\"predictions\": {\"y\": \"yes\"}, \"probabilities\":...  \n",
       "2  unknown   no         no  {\"predictions\": {\"y\": \"no\"}, \"probabilities\": ...  \n",
       "3  unknown   no         no  {\"predictions\": {\"y\": \"no\"}, \"probabilities\": ...  \n",
       "4  unknown   no         no  {\"predictions\": {\"y\": \"no\"}, \"probabilities\": ...  "
      ]
     },
     "execution_count": 8,
     "metadata": {},
     "output_type": "execute_result"
    }
   ],
   "source": [
    "execute_sql(f\"\"\"DROP TABLE IF EXISTS bank_marketing_test_predictions\"\"\")\n",
    "execute_sql(\n",
    "    f\"\"\"CALL sys.ML_PREDICT_TABLE('{DBSYSTEM_SCHEMA}.bank_marketing_test', '{model}', '{DBSYSTEM_SCHEMA}.bank_marketing_test_predictions', NULL)\"\"\"\n",
    ")\n",
    "df_predictions = execute_sql(f\"\"\"SELECT * FROM bank_marketing_test_predictions\"\"\")\n",
    "execute_sql(f\"\"\"DROP TABLE IF EXISTS bank_marketing_test_predictions\"\"\")\n",
    "df_predictions.head()"
   ]
  },
  {
   "cell_type": "markdown",
   "id": "85a963d1",
   "metadata": {},
   "source": [
    "### Getting a deeper understanding of the model's predictions"
   ]
  },
  {
   "cell_type": "markdown",
   "id": "2eb80ffb",
   "metadata": {},
   "source": [
    "Evaluating a classification model is slightly more involved. Essentially we would like to know when the model was wrong and when the model was right. We use a [Confusion Matrix](https://en.wikipedia.org/wiki/Confusion_matrix) to help us visualize the model's behavior."
   ]
  },
  {
   "cell_type": "code",
   "execution_count": 9,
   "id": "4c91ab26",
   "metadata": {},
   "outputs": [
    {
     "data": {
      "text/plain": [
       "<sklearn.metrics._plot.confusion_matrix.ConfusionMatrixDisplay at 0x7f7503d39390>"
      ]
     },
     "execution_count": 9,
     "metadata": {},
     "output_type": "execute_result"
    },
    {
     "data": {
      "image/png": "[encoded data removed]",
      "text/plain": [
       "<Figure size 640x480 with 2 Axes>"
      ]
     },
     "metadata": {},
     "output_type": "display_data"
    }
   ],
   "source": [
    "ConfusionMatrixDisplay.from_predictions(\n",
    "    df_predictions[\"y\"], df_predictions[\"Prediction\"]\n",
    ")"
   ]
  },
  {
   "cell_type": "markdown",
   "id": "21122cdf",
   "metadata": {},
   "source": [
    "### Model explanations"
   ]
  },
  {
   "cell_type": "markdown",
   "id": "5539a086",
   "metadata": {},
   "source": [
    "HeatWave AutoML also provides [model explanations](https://dev.mysql.com/doc/heatwave/en/mys-hwaml-model-viewing.html) which provide a global view of which columns contributed the most to create the model. The duration of the call is the most important predictor for whether a customer will subscribe to a term deposit, which makes sense since the longer the customer is engaged, the higher the chances of them liking the product."
   ]
  },
  {
   "cell_type": "code",
   "execution_count": 10,
   "id": "bc58a627",
   "metadata": {},
   "outputs": [
    {
     "data": {
      "text/plain": [
       "<Axes: >"
      ]
     },
     "execution_count": 10,
     "metadata": {},
     "output_type": "execute_result"
    },
    {
     "data": {
      "image/png": "[encoded data removed]",
      "text/plain": [
       "<Figure size 640x480 with 1 Axes>"
      ]
     },
     "metadata": {},
     "output_type": "display_data"
    }
   ],
   "source": [
    "df = execute_sql(\n",
    "    f\"\"\"SELECT model_explanation FROM ML_SCHEMA_{DBSYSTEM_USER}.MODEL_CATALOG WHERE model_handle = '{model}'\"\"\"\n",
    ")\n",
    "pd.Series(json.loads(df.iat[0,0])[\"permutation_importance\"]).sort_values(\n",
    "    axis=0, ascending=False\n",
    ").plot(kind=\"bar\", color=\"r\", alpha=0.5)"
   ]
  },
  {
   "cell_type": "markdown",
   "id": "b9850bd7",
   "metadata": {},
   "source": [
    "We invite you to try [HeatWave AutoML and GenAI](https://www.oracle.com/heatwave/free/). If you’re new to Oracle Cloud Infrastructure, try Oracle Cloud Free Trial, a free 30-day trial with US$300 in credits."
   ]
  }
 ],
 "metadata": {
  "kernelspec": {
   "display_name": "pyvenv_sara_8",
   "language": "python",
   "name": "python3"
  },
  "language_info": {
   "codemirror_mode": {
    "name": "ipython",
    "version": 3
   },
   "file_extension": ".py",
   "mimetype": "text/x-python",
   "name": "python",
   "nbconvert_exporter": "python",
   "pygments_lexer": "ipython3",
   "version": "3.11.11"
  }
 },
 "nbformat": 4,
 "nbformat_minor": 5
}
