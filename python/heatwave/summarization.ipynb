{
 "cells": [
  {
   "cell_type": "markdown",
   "id": "559d8a94-55eb-43c9-bebe-33d3953216a7",
   "metadata": {},
   "source": [
    "# HeatWave GenAI"
   ]
  },
  {
   "cell_type": "markdown",
   "id": "cb0875ec",
   "metadata": {},
   "source": [
    "HeatWave GenAI is the industry's first automated in-database Generative AI service. Seamlessly integrating large language models (LLMs) and embedding generation within the database, it allows you to effortlessly generate new and realistic content, speed up manual or repetitive tasks like summarizing large documents, perform Retrieval Augmented Generation (RAG), and engage in natural language interactions. Refer to https://www.oracle.com/heatwave/genai for further details on Heatwave GenAI."
   ]
  },
  {
   "cell_type": "markdown",
   "id": "1842993b-68d9-4e39-8b34-826ff34e9dac",
   "metadata": {},
   "source": [
    "\n",
    "This notebook demonstrates the application of [ML_GENERATE](https://dev.mysql.com/doc/heatwave/en/mys-hwgenai-ml-generate.html) for summarization using data from the 2024 Olympic Games.\n",
    "\n",
    "### References\n",
    "- https://www.economicsobservatory.com/what-happened-at-the-2024-olympics\n",
    "- https://en.wikipedia.org/wiki/2024_Summer_Olympics\n",
    "\n",
    "\n",
    "### Prerequistises\n",
    "Install the necessary packages\n",
    "\n",
    "- mysql-connector-python\n",
    "- pandas \n",
    "- langchain_community"
   ]
  },
  {
   "cell_type": "markdown",
   "id": "cdfdf43d-fa00-418b-950c-379cdb9d51a1",
   "metadata": {},
   "source": [
    "##### Import Python packages"
   ]
  },
  {
   "cell_type": "code",
   "execution_count": 15,
   "id": "e9509e32-7ae6-440e-a1dc-85100bfe8976",
   "metadata": {},
   "outputs": [],
   "source": [
    "# import Python packages\n",
    "import time\n",
    "import json\n",
    "import numpy as np\n",
    "import pandas as pd\n",
    "import mysql.connector\n",
    "from mysql.connector.errors import OperationalError, InterfaceError\n",
    "from langchain_community.document_loaders import WebBaseLoader"
   ]
  },
  {
   "cell_type": "markdown",
   "id": "27c0c921-7a0c-4b41-a5c0-81da052e0856",
   "metadata": {},
   "source": [
    "### Connect to the HeatWave instance\n",
    "We create a connection to an active [HeatWave](https://www.oracle.com/mysql/) instance using the [MySQL Connector/Python](https://dev.mysql.com/doc/connector-python/en/). We also define an API to execute a SQL query using a cursor, and the result is returned as a Pandas DataFrame. Modify the below variables to point to your HeatWave instance. On AWS, set USE_BASTION to False. On OCI, please create a tunnel on your machine using the below command by substituting the variable with their respective values\n",
    "\n",
    "ssh -o ServerAliveInterval=60 -i BASTION_PKEY -L LOCAL_PORT:DBSYSTEM_IP:DBSYSTEM_PORT BASTION_USER@BASTION_IP"
   ]
  },
  {
   "cell_type": "code",
   "execution_count": null,
   "id": "5caf4bd2-db0f-4ce2-b18f-a442af4ba58b",
   "metadata": {},
   "outputs": [],
   "source": [
    "BASTION_IP =\"ip_address\"\n",
    "BASTION_USER = \"opc\"\n",
    "BASTION_PKEY = \"private_key_file\"\n",
    "DBSYSTEM_IP = \"ip_address\"\n",
    "DBSYSTEM_PORT = 3306\n",
    "DBSYSTEM_USER = \"username\"\n",
    "DBSYSTEM_PASSWORD = \"password\"\n",
    "DBSYSTEM_SCHEMA = \"mlcorpus\"\n",
    "LOCAL_PORT = 3306\n",
    "USE_BASTION = True\n",
    "\n",
    "if USE_BASTION is True:\n",
    "    DBSYSTEM_IP = \"127.0.0.1\"\n",
    "else:\n",
    "    LOCAL_PORT = DBSYSTEM_PORT\n",
    "    \n",
    "mydb = None  # global handle we keep fresh\n",
    "\n",
    "def _get_conn():\n",
    "    \"\"\"Return a live MySQL connection, recreating it if needed.\"\"\"\n",
    "    global mydb\n",
    "    if mydb is None or not mydb.is_connected():\n",
    "        try:\n",
    "            if mydb:\n",
    "                mydb.close()\n",
    "        except Exception:\n",
    "            pass\n",
    "        mydb = mysql.connector.connect(\n",
    "            host=DBSYSTEM_IP,\n",
    "            port=LOCAL_PORT,\n",
    "            user=DBSYSTEM_USER,\n",
    "            password=DBSYSTEM_PASSWORD,\n",
    "            database=DBSYSTEM_SCHEMA,\n",
    "            autocommit=True,\n",
    "            connection_timeout=10,\n",
    "        )\n",
    "    return mydb\n",
    "\n",
    "# Helper function to execute SQL queries and return the results as a Pandas DataFrame\n",
    "def execute_sql(sql: str, _retry=True) -> pd.DataFrame:\n",
    "    \"\"\"\n",
    "    Execute SQL and return a DataFrame. Empty DF for DDL/DML without result sets.\n",
    "    Ensures connection is alive; retries once on OperationalError.\n",
    "    \"\"\"\n",
    "    conn = _get_conn()\n",
    "    try:\n",
    "        with conn.cursor() as cur:\n",
    "            cur.execute(sql)\n",
    "            if cur.description is None:\n",
    "                return pd.DataFrame()\n",
    "            rows = cur.fetchall()\n",
    "            cols = [d[0] for d in cur.description]\n",
    "            return pd.DataFrame(rows, columns=cols)\n",
    "    except (OperationalError, InterfaceError) as e:\n",
    "        if _retry:\n",
    "            time.sleep(0.5)\n",
    "            try:\n",
    "                conn.close()\n",
    "            except Exception:\n",
    "                pass\n",
    "            global mydb\n",
    "            mydb = None\n",
    "            return execute_sql(sql, _retry=False)\n",
    "        raise"
   ]
  },
  {
   "cell_type": "markdown",
   "id": "2fd376b2-d27f-4745-802b-d7aac2e81ff2",
   "metadata": {},
   "source": [
    "# ML_GENERATE operation"
   ]
  },
  {
   "cell_type": "markdown",
   "id": "0db8cf1d-c602-41e4-a6b3-a71e749d84e5",
   "metadata": {},
   "source": [
    "You can perform content summarization using the [ML_GENERATE](https://dev.mysql.com/doc/heatwave/en/mys-hwgenai-ml-generate.html) procedure (by specifying the task type as summarization)."
   ]
  },
  {
   "cell_type": "markdown",
   "id": "5d31dfc5-91cb-445c-a029-2c090b8d4df1",
   "metadata": {},
   "source": [
    "### Text summarization"
   ]
  },
  {
   "cell_type": "markdown",
   "id": "5d67d5c6",
   "metadata": {},
   "source": [
    "Load the 2024 Olympic data from the URL."
   ]
  },
  {
   "cell_type": "code",
   "execution_count": 17,
   "id": "cd58c4bc",
   "metadata": {},
   "outputs": [],
   "source": [
    "# Initialize loader with the webpage URL\n",
    "loader = WebBaseLoader(web_paths=(\"https://www.economicsobservatory.com/what-happened-at-the-2024-olympics\",))\n",
    "\n",
    "# Load and parse content into Documents\n",
    "docs = loader.load()"
   ]
  },
  {
   "cell_type": "markdown",
   "id": "18849016",
   "metadata": {},
   "source": [
    "Set a variable (@document, in this example) to the content of the document you want to summarize."
   ]
  },
  {
   "cell_type": "code",
   "execution_count": 18,
   "id": "41075024-deee-4d5a-8855-de3e04a44774",
   "metadata": {},
   "outputs": [
    {
     "data": {
      "text/html": [
       "<div>\n",
       "<style scoped>\n",
       "    .dataframe tbody tr th:only-of-type {\n",
       "        vertical-align: middle;\n",
       "    }\n",
       "\n",
       "    .dataframe tbody tr th {\n",
       "        vertical-align: top;\n",
       "    }\n",
       "\n",
       "    .dataframe thead th {\n",
       "        text-align: right;\n",
       "    }\n",
       "</style>\n",
       "<table border=\"1\" class=\"dataframe\">\n",
       "  <thead>\n",
       "    <tr style=\"text-align: right;\">\n",
       "      <th></th>\n",
       "    </tr>\n",
       "  </thead>\n",
       "  <tbody>\n",
       "  </tbody>\n",
       "</table>\n",
       "</div>"
      ],
      "text/plain": [
       "Empty DataFrame\n",
       "Columns: []\n",
       "Index: []"
      ]
     },
     "execution_count": 18,
     "metadata": {},
     "output_type": "execute_result"
    }
   ],
   "source": [
    "execute_sql(f\"\"\"SET @document = '{docs[0].page_content}';\"\"\")"
   ]
  },
  {
   "cell_type": "markdown",
   "id": "6265602c-4030-43a0-8a3c-16dc7328f753",
   "metadata": {},
   "source": [
    "Invoke [ML_GENERATE](https://dev.mysql.com/doc/heatwave/en/mys-hwgenai-ml-generate.html) with your variable @document and specifying the task as \"summarization\"."
   ]
  },
  {
   "cell_type": "code",
   "execution_count": 19,
   "id": "47ff188f-4053-4eaa-8e85-59981ee1a5da",
   "metadata": {},
   "outputs": [
    {
     "data": {
      "text/plain": [
       "'The 2024 Summer Olympic Games were held in Paris, France, with over 10,500 athletes from 206 territories participating in 32 sports. The games saw a significant increase in representation, with more countries competing than ever before. China and the United States had the largest delegations, while smaller countries like Bangladesh, Myanmar, and Pakistan had fewer athletes.\\n\\nThe games also highlighted issues around representation, equality, cost control, and home advantage. Despite efforts to achieve gender parity, women still made up only 49% of competitors, with some countries having more female athletes than male. The distribution of medals was also uneven, with the top ten countries winning 63% of available medals.\\n\\nThe games saw several new sports, including breaking (break-dancing), which was introduced for the first time at the Olympics. The prize money for athletes varied widely, with some countries offering generous compensation schemes and others having little to no funding.\\n\\nThe cost of hosting the games was significant, with estimates suggesting that Paris 2024 cost around $8.7 billion. This has raised questions about the economic benefits of hosting the Olympics and whether they outweigh the costs.\\n\\nOverall, the 2024 Summer Olympic Games were a significant event that highlighted both the achievements and challenges of international sports competition.'"
      ]
     },
     "execution_count": 19,
     "metadata": {},
     "output_type": "execute_result"
    }
   ],
   "source": [
    "df = execute_sql(f\"\"\"SELECT JSON_PRETTY(sys.ML_GENERATE(@document, JSON_OBJECT(\"task\", \"summarization\", \"max_tokens\", 512)));\"\"\")\n",
    "json.loads(df.iat[0,0])[\"text\"]"
   ]
  },
  {
   "cell_type": "code",
   "execution_count": 25,
   "id": "60828563-dc76-4c63-880e-26109e1c36ef",
   "metadata": {},
   "outputs": [
    {
     "data": {
      "text/html": [
       "<div>\n",
       "<style scoped>\n",
       "    .dataframe tbody tr th:only-of-type {\n",
       "        vertical-align: middle;\n",
       "    }\n",
       "\n",
       "    .dataframe tbody tr th {\n",
       "        vertical-align: top;\n",
       "    }\n",
       "\n",
       "    .dataframe thead th {\n",
       "        text-align: right;\n",
       "    }\n",
       "</style>\n",
       "<table border=\"1\" class=\"dataframe\">\n",
       "  <thead>\n",
       "    <tr style=\"text-align: right;\">\n",
       "      <th></th>\n",
       "    </tr>\n",
       "  </thead>\n",
       "  <tbody>\n",
       "  </tbody>\n",
       "</table>\n",
       "</div>"
      ],
      "text/plain": [
       "Empty DataFrame\n",
       "Columns: []\n",
       "Index: []"
      ]
     },
     "execution_count": 25,
     "metadata": {},
     "output_type": "execute_result"
    }
   ],
   "source": [
    "# Delete the vector_store_data_1 table if exists\n",
    "execute_sql(f\"\"\"DROP TABLE if exists vector_store_data_1;\"\"\")"
   ]
  },
  {
   "cell_type": "markdown",
   "id": "b92da584-432a-4f1a-91ab-4ef58c5b2dc5",
   "metadata": {},
   "source": [
    "### Use vector_store_load to load the files that contain the proprietary data from object storage into the HeatWave cluster."
   ]
  },
  {
   "cell_type": "code",
   "execution_count": 26,
   "id": "89a1c9d4-5105-4b91-b6b8-8836f1c03577",
   "metadata": {},
   "outputs": [],
   "source": [
    "df = execute_sql(\"\"\"CALL sys.VECTOR_STORE_LOAD(\"oci://hwml-test-bucket@lrsrfayerklw/2024_Summer_Olympics_Wikipedia.pdf\", JSON_OBJECT(\"schema_name\",\"mlcorpus\",\"table_name\",\"vector_store_data_1\"))\"\"\")"
   ]
  },
  {
   "cell_type": "markdown",
   "id": "11eaa3ce",
   "metadata": {},
   "source": [
    "Monitor the progress of VECTOR_STORE_LOAD"
   ]
  },
  {
   "cell_type": "code",
   "execution_count": 27,
   "id": "b0dfdcae",
   "metadata": {},
   "outputs": [
    {
     "name": "stdout",
     "output_type": "stream",
     "text": [
      "Not started yet\n",
      "Status:RUNNING, Progress:0%\n",
      "Status:RUNNING, Progress:0%\n",
      "Status:RUNNING, Progress:10%\n",
      "Status:RUNNING, Progress:10%\n",
      "Status:RUNNING, Progress:40%\n",
      "Status:RUNNING, Progress:40%\n",
      "Status:RUNNING, Progress:40%\n",
      "Status:RUNNING, Progress:40%\n",
      "Status:RUNNING, Progress:40%\n",
      "Status:RUNNING, Progress:70%\n",
      "Status:COMPLETED, Progress:100%\n"
     ]
    }
   ],
   "source": [
    "while True:\n",
    "    df_status = execute_sql(f\"\"\"{df['task_status_query'][0]}\"\"\")\n",
    "    if df_status is not None and not df_status.empty:\n",
    "        status = json.loads(df_status.iloc[0,0])['status']\n",
    "        progress = json.loads(df_status.iloc[0,0])['progress']\n",
    "        print(f\"Status:{status}, Progress:{progress}%\")\n",
    "        if status == \"COMPLETED\" or status == \"ERROR\":\n",
    "            break\n",
    "    else:\n",
    "        print(\"Not started yet\")\n",
    "    time.sleep(5)"
   ]
  },
  {
   "cell_type": "markdown",
   "id": "a6f68a27",
   "metadata": {},
   "source": [
    "We can also summarize the documnet that is parsed using vector_store_load."
   ]
  },
  {
   "cell_type": "code",
   "execution_count": 28,
   "id": "7edc5684",
   "metadata": {},
   "outputs": [
    {
     "data": {
      "text/html": [
       "<div>\n",
       "<style scoped>\n",
       "    .dataframe tbody tr th:only-of-type {\n",
       "        vertical-align: middle;\n",
       "    }\n",
       "\n",
       "    .dataframe tbody tr th {\n",
       "        vertical-align: top;\n",
       "    }\n",
       "\n",
       "    .dataframe thead th {\n",
       "        text-align: right;\n",
       "    }\n",
       "</style>\n",
       "<table border=\"1\" class=\"dataframe\">\n",
       "  <thead>\n",
       "    <tr style=\"text-align: right;\">\n",
       "      <th></th>\n",
       "    </tr>\n",
       "  </thead>\n",
       "  <tbody>\n",
       "  </tbody>\n",
       "</table>\n",
       "</div>"
      ],
      "text/plain": [
       "Empty DataFrame\n",
       "Columns: []\n",
       "Index: []"
      ]
     },
     "execution_count": 28,
     "metadata": {},
     "output_type": "execute_result"
    }
   ],
   "source": [
    "execute_sql(\"\"\"SELECT GROUP_CONCAT(segment ORDER BY segment_number SEPARATOR ' ') INTO @parsed_document FROM (SELECT segment, segment_number FROM mlcorpus.vector_store_data_1 ORDER BY segment_number LIMIT 10) AS limited_segments;\"\"\")"
   ]
  },
  {
   "cell_type": "code",
   "execution_count": 29,
   "id": "0cacc0a9",
   "metadata": {},
   "outputs": [
    {
     "data": {
      "text/plain": [
       "'Here is a summary of the text:\\n\\nThe 2024 Summer Olympics, officially known as Paris 2024, will be an international multi-sport event held in France from July 26 to August 11, 204. The games will feature 204 participating nations and 10,714 athletes competing in 329 events across 32 sports. The opening ceremony will take place at the Jardins du Trocadéro and Seine, while the closing ceremony will be held at the Stade de France.'"
      ]
     },
     "execution_count": 29,
     "metadata": {},
     "output_type": "execute_result"
    }
   ],
   "source": [
    "df = execute_sql(f\"\"\"SELECT JSON_PRETTY(sys.ML_GENERATE(@parsed_document, JSON_OBJECT(\"task\", \"summarization\", \"max_tokens\", 512)));\"\"\")\n",
    "json.loads(df.iat[0,0])[\"text\"]"
   ]
  }
 ],
 "metadata": {
  "kernelspec": {
   "display_name": "pyvenv_sara_8",
   "language": "python",
   "name": "python3"
  },
  "language_info": {
   "codemirror_mode": {
    "name": "ipython",
    "version": 3
   },
   "file_extension": ".py",
   "mimetype": "text/x-python",
   "name": "python",
   "nbconvert_exporter": "python",
   "pygments_lexer": "ipython3",
   "version": "3.11.11"
  }
 },
 "nbformat": 4,
 "nbformat_minor": 5
}
