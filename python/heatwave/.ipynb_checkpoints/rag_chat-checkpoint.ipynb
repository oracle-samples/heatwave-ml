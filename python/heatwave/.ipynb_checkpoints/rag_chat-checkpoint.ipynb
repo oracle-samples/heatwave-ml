{
 "cells": [
  {
   "cell_type": "markdown",
   "id": "559d8a94-55eb-43c9-bebe-33d3953216a7",
   "metadata": {},
   "source": [
    "# HeatWave GenAI"
   ]
  },
  {
   "cell_type": "markdown",
   "id": "d2313fd6-aca0-422a-8697-abc8bfe20d15",
   "metadata": {},
   "source": [
    "HeatWave GenAI is the industry's first automated in-database Generative AI service. Seamlessly integrating large language models (LLMs) and embedding generation within the database, it allows you to effortlessly generate new and realistic content, speed up manual or repetitive tasks like summarizing large documents, perform Retrieval Augmented Generation (RAG), and engage in natural language interactions. Refer to https://www.oracle.com/heatwave/genai for further details on Heatwave GenAI."
   ]
  },
  {
   "cell_type": "markdown",
   "id": "1842993b-68d9-4e39-8b34-826ff34e9dac",
   "metadata": {},
   "source": [
    "This notebook will showcase the use of [ML_RAG](https://dev.mysql.com/doc/heatwave/en/mys-hwgenai-ml-rag.html) for Retrieval Augmented Generation (RAG) and [HEATWAVE_CHAT](https://dev.mysql.com/doc/heatwave/en/mys-hwgenai-hw-chat.html) for engaging in natural language interactions using data from the 2024 Olympic Games.\n",
    "\n",
    "### References\n",
    "- https://www.economicsobservatory.com/what-happened-at-the-2024-olympics\n",
    "- https://en.wikipedia.org/wiki/2024_Summer_Olympics\n",
    "\n",
    "### Prerequistises\n",
    "Install the necessary packages\n",
    "\n",
    "- mysql-connector-python\n",
    "- pandas "
   ]
  },
  {
   "cell_type": "markdown",
   "id": "cdfdf43d-fa00-418b-950c-379cdb9d51a1",
   "metadata": {},
   "source": [
    "##### Import Python packages"
   ]
  },
  {
   "cell_type": "code",
   "execution_count": null,
   "id": "e9509e32-7ae6-440e-a1dc-85100bfe8976",
   "metadata": {},
   "outputs": [],
   "source": [
    "# import Python packages\n",
    "import time\n",
    "import json\n",
    "import numpy as np\n",
    "import pandas as pd\n",
    "import mysql.connector\n",
    "from mysql.connector.errors import OperationalError, InterfaceError\n"
   ]
  },
  {
   "cell_type": "markdown",
   "id": "27c0c921-7a0c-4b41-a5c0-81da052e0856",
   "metadata": {},
   "source": [
    "### Connect to the HeatWave instance\n",
    "We create a connection to an active [HeatWave](https://www.oracle.com/mysql/) instance using the [MySQL Connector/Python](https://dev.mysql.com/doc/connector-python/en/). We also define an API to execute a SQL query using a cursor, and the result is returned as a Pandas DataFrame. Modify the below variables to point to your HeatWave instance. On AWS, set USE_BASTION to False. On OCI, please create a tunnel on your machine using the below command by substituting the variable with their respective values\n",
    "\n",
    "ssh -o ServerAliveInterval=60 -i BASTION_PKEY -L LOCAL_PORT:DBSYSTEM_IP:DBSYSTEM_PORT BASTION_USER@BASTION_IP"
   ]
  },
  {
   "cell_type": "code",
   "execution_count": null,
   "id": "5caf4bd2-db0f-4ce2-b18f-a442af4ba58b",
   "metadata": {},
   "outputs": [],
   "source": [
    "BASTION_IP =\"ip_address\"\n",
    "BASTION_USER = \"opc\"\n",
    "BASTION_PKEY = \"private_key_file\"\n",
    "DBSYSTEM_IP = \"ip_address\"\n",
    "DBSYSTEM_PORT = 3306\n",
    "DBSYSTEM_USER = \"username\"\n",
    "DBSYSTEM_PASSWORD = \"password\"\n",
    "DBSYSTEM_SCHEMA = \"mlcorpus\"\n",
    "LOCAL_PORT = 3306\n",
    "USE_BASTION = True\n",
    "\n",
    "if USE_BASTION is True:\n",
    "    DBSYSTEM_IP = \"127.0.0.1\"\n",
    "else:\n",
    "    LOCAL_PORT = DBSYSTEM_PORT\n",
    "    \n",
    "mydb = None  # global handle we keep fresh\n",
    "\n",
    "def _get_conn():\n",
    "    \"\"\"Return a live MySQL connection, recreating it if needed.\"\"\"\n",
    "    global mydb\n",
    "    if mydb is None or not mydb.is_connected():\n",
    "        try:\n",
    "            if mydb:\n",
    "                mydb.close()\n",
    "        except Exception:\n",
    "            pass\n",
    "        mydb = mysql.connector.connect(\n",
    "            host=DBSYSTEM_IP,\n",
    "            port=LOCAL_PORT,\n",
    "            user=DBSYSTEM_USER,\n",
    "            password=DBSYSTEM_PASSWORD,\n",
    "            database=DBSYSTEM_SCHEMA,\n",
    "            autocommit=True,\n",
    "            connection_timeout=10,\n",
    "        )\n",
    "    return mydb\n",
    "\n",
    "# Helper function to execute SQL queries and return the results as a Pandas DataFrame\n",
    "def execute_sql(sql: str, _retry=True) -> pd.DataFrame:\n",
    "    \"\"\"\n",
    "    Execute SQL and return a DataFrame. Empty DF for DDL/DML without result sets.\n",
    "    Ensures connection is alive; retries once on OperationalError.\n",
    "    \"\"\"\n",
    "    conn = _get_conn()\n",
    "    try:\n",
    "        with conn.cursor() as cur:\n",
    "            cur.execute(sql)\n",
    "            if cur.description is None:\n",
    "                return pd.DataFrame()\n",
    "            rows = cur.fetchall()\n",
    "            cols = [d[0] for d in cur.description]\n",
    "            return pd.DataFrame(rows, columns=cols)\n",
    "    except (OperationalError, InterfaceError) as e:\n",
    "        if _retry:\n",
    "            time.sleep(0.5)\n",
    "            try:\n",
    "                conn.close()\n",
    "            except Exception:\n",
    "                pass\n",
    "            global mydb\n",
    "            mydb = None\n",
    "            return execute_sql(sql, _retry=False)\n",
    "        raise"
   ]
  },
  {
   "cell_type": "markdown",
   "id": "540b31c5-28f6-440e-aeb2-4494a557feba",
   "metadata": {},
   "source": [
    "# ML_RAG operation"
   ]
  },
  {
   "cell_type": "markdown",
   "id": "448d2e37-18bf-40a7-a920-bc79cecd0d35",
   "metadata": {},
   "source": [
    "The available in-database LLMs have the limitation of being trained on public datasets. However, you can leverage Heatwave GenAI to generate content based on your own proprietary data through Retrieval Augmented Generation (RAG). Heatwave can convert your data into embeddings and store them in a vector store, and these embeddings can be used to provide your enterprise's specific context to the LLMs."
   ]
  },
  {
   "cell_type": "code",
   "execution_count": 3,
   "id": "60828563-dc76-4c63-880e-26109e1c36ef",
   "metadata": {},
   "outputs": [
    {
     "data": {
      "text/html": [
       "<div>\n",
       "<style scoped>\n",
       "    .dataframe tbody tr th:only-of-type {\n",
       "        vertical-align: middle;\n",
       "    }\n",
       "\n",
       "    .dataframe tbody tr th {\n",
       "        vertical-align: top;\n",
       "    }\n",
       "\n",
       "    .dataframe thead th {\n",
       "        text-align: right;\n",
       "    }\n",
       "</style>\n",
       "<table border=\"1\" class=\"dataframe\">\n",
       "  <thead>\n",
       "    <tr style=\"text-align: right;\">\n",
       "      <th></th>\n",
       "    </tr>\n",
       "  </thead>\n",
       "  <tbody>\n",
       "  </tbody>\n",
       "</table>\n",
       "</div>"
      ],
      "text/plain": [
       "Empty DataFrame\n",
       "Columns: []\n",
       "Index: []"
      ]
     },
     "execution_count": 3,
     "metadata": {},
     "output_type": "execute_result"
    }
   ],
   "source": [
    "# Delete the vector_store_data_1 table if exists\n",
    "execute_sql(f\"\"\"DROP TABLE if exists vector_store_data_1;\"\"\")"
   ]
  },
  {
   "cell_type": "markdown",
   "id": "b92da584-432a-4f1a-91ab-4ef58c5b2dc5",
   "metadata": {},
   "source": [
    "### Use vector_store_load to load the files that contain the proprietary data from object storage into the HeatWave cluster."
   ]
  },
  {
   "cell_type": "code",
   "execution_count": 4,
   "id": "89a1c9d4-5105-4b91-b6b8-8836f1c03577",
   "metadata": {},
   "outputs": [],
   "source": [
    "df = execute_sql(\"\"\"CALL sys.VECTOR_STORE_LOAD(\"oci://hwml-test-bucket@lrsrfayerklw/2024_Summer_Olympics_Wikipedia.pdf\", JSON_OBJECT(\"schema_name\",\"mlcorpus\",\"table_name\",\"vector_store_data_1\"))\"\"\")"
   ]
  },
  {
   "cell_type": "markdown",
   "id": "3467ee51",
   "metadata": {},
   "source": [
    "Monitor the progress of VECTOR_STORE_LOAD"
   ]
  },
  {
   "cell_type": "code",
   "execution_count": 5,
   "id": "61cf74fa",
   "metadata": {},
   "outputs": [
    {
     "name": "stdout",
     "output_type": "stream",
     "text": [
      "Not started yet\n",
      "Status:RUNNING, Progress:0%\n",
      "Status:RUNNING, Progress:0%\n",
      "Status:RUNNING, Progress:2%\n",
      "Status:RUNNING, Progress:10%\n",
      "Status:RUNNING, Progress:40%\n",
      "Status:RUNNING, Progress:40%\n",
      "Status:RUNNING, Progress:40%\n",
      "Status:RUNNING, Progress:40%\n",
      "Status:RUNNING, Progress:40%\n",
      "Status:RUNNING, Progress:40%\n",
      "Status:RUNNING, Progress:100%\n",
      "Status:COMPLETED, Progress:100%\n"
     ]
    }
   ],
   "source": [
    "while True:\n",
    "    df_status = execute_sql(f\"\"\"{df['task_status_query'][0]}\"\"\")\n",
    "    if df_status is not None and not df_status.empty:\n",
    "        status = json.loads(df_status.iloc[0,0])['status']\n",
    "        progress = json.loads(df_status.iloc[0,0])['progress']\n",
    "        print(f\"Status:{status}, Progress:{progress}%\")\n",
    "        if status == \"COMPLETED\" or status == \"ERROR\":\n",
    "            break\n",
    "    else:\n",
    "        print(\"Not started yet\")\n",
    "    time.sleep(5)"
   ]
  },
  {
   "cell_type": "markdown",
   "id": "a647fe97-841f-4e75-8414-927781abc76b",
   "metadata": {},
   "source": [
    "Invoke the [ML_RAG](https://dev.mysql.com/doc/heatwave/en/mys-hwgenai-ml-rag.html) procedure with your query."
   ]
  },
  {
   "cell_type": "code",
   "execution_count": 6,
   "id": "b8d19536-0104-4e06-bafc-7d674d8d016c",
   "metadata": {},
   "outputs": [
    {
     "data": {
      "text/plain": [
       "'The 2024 Summer Olympics were held in France.'"
      ]
     },
     "execution_count": 6,
     "metadata": {},
     "output_type": "execute_result"
    }
   ],
   "source": [
    "execute_sql(f\"\"\"CALL sys.ML_RAG(\"Where were the 2024 Summer Olympics held?\", @output, NULL);\"\"\")\n",
    "df = execute_sql(f\"\"\"SELECT JSON_PRETTY(@output);\"\"\")\n",
    "json.loads(df.iat[0,0])[\"text\"]"
   ]
  },
  {
   "cell_type": "code",
   "execution_count": 7,
   "id": "c6a21853",
   "metadata": {},
   "outputs": [
    {
     "data": {
      "text/plain": [
       "'The opening date of the 2024 Summer Olympics was July 26, 2024, and the closing date was August 11, 2024.'"
      ]
     },
     "execution_count": 7,
     "metadata": {},
     "output_type": "execute_result"
    }
   ],
   "source": [
    "execute_sql(f\"\"\"CALL sys.ML_RAG(\"What were the opening and closing dates of the Games?\", @output, NULL);\"\"\")\n",
    "df = execute_sql(f\"\"\"SELECT JSON_PRETTY(@output);\"\"\")\n",
    "json.loads(df.iat[0,0])[\"text\"]"
   ]
  },
  {
   "cell_type": "code",
   "execution_count": 8,
   "id": "a4539864",
   "metadata": {},
   "outputs": [
    {
     "data": {
      "text/plain": [
       "'According to the text, one sport that made its Olympic debut in 2024 is breaking (also known as breakdancing).'"
      ]
     },
     "execution_count": 8,
     "metadata": {},
     "output_type": "execute_result"
    }
   ],
   "source": [
    "execute_sql(f\"\"\"CALL sys.ML_RAG(\"Which sports made their Olympic debut in 2024?\", @output, NULL);\"\"\")\n",
    "df = execute_sql(f\"\"\"SELECT JSON_PRETTY(@output);\"\"\")\n",
    "json.loads(df.iat[0,0])[\"text\"]"
   ]
  },
  {
   "cell_type": "markdown",
   "id": "e57c3983-adf3-4463-b897-92784a4347ab",
   "metadata": {},
   "source": [
    "# HEATWAVE_CHAT operation"
   ]
  },
  {
   "cell_type": "markdown",
   "id": "77b2b4e0-a7cd-418c-b15e-d5e8e69be152",
   "metadata": {},
   "source": [
    "Thanks to the native support for vector store and Retrival Augmented Generation (RAG), you can load and query unstructured documents using natural language within the HeatWave ecosystem.\n",
    "This will be a brief demonstration of HeatWave Chat, a built-in chatbot that utilizes LLMs to understand and respond to your inputs."
   ]
  },
  {
   "cell_type": "markdown",
   "id": "ca0a3ae6-3b65-4a7d-bf2c-9c96d7c6dcf7",
   "metadata": {},
   "source": [
    "Use VECTOR_STORE_LOAD to create a vector store from the files that contain the proprietary data (see previous section), and then, use the [HEATWAVE_CHAT](https://dev.mysql.com/doc/heatwave/en/mys-hwgenai-hw-chat.html) procedure to start a conversation with HeatWave."
   ]
  },
  {
   "cell_type": "code",
   "execution_count": 9,
   "id": "a779f8d5-f4b1-49f2-af98-5a7e15189264",
   "metadata": {},
   "outputs": [
    {
     "data": {
      "text/plain": [
       "'The opening date of the 2024 Summer Olympics was July 26, 2024, and the closing date was August 11, 2024.'"
      ]
     },
     "execution_count": 9,
     "metadata": {},
     "output_type": "execute_result"
    }
   ],
   "source": [
    "df = execute_sql(\"\"\"CALL sys.HEATWAVE_CHAT('What were the opening and closing dates of the Games?')\"\"\")\n",
    "df[\"response\"].iloc[0]"
   ]
  },
  {
   "cell_type": "code",
   "execution_count": 11,
   "id": "c45500e8",
   "metadata": {},
   "outputs": [
    {
     "data": {
      "text/plain": [
       "'The location mentioned in the text is Paris, France.'"
      ]
     },
     "execution_count": 11,
     "metadata": {},
     "output_type": "execute_result"
    }
   ],
   "source": [
    "df = execute_sql(\"\"\"CALL sys.HEATWAVE_CHAT('Where was the location?')\"\"\")\n",
    "df[\"response\"].iloc[0]"
   ]
  }
 ],
 "metadata": {
  "kernelspec": {
   "display_name": "pyvenv_sara_8",
   "language": "python",
   "name": "python3"
  },
  "language_info": {
   "codemirror_mode": {
    "name": "ipython",
    "version": 3
   },
   "file_extension": ".py",
   "mimetype": "text/x-python",
   "name": "python",
   "nbconvert_exporter": "python",
   "pygments_lexer": "ipython3",
   "version": "3.11.11"
  }
 },
 "nbformat": 4,
 "nbformat_minor": 5
}
