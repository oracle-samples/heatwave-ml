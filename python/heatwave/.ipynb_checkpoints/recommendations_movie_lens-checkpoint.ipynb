{
 "cells": [
  {
   "cell_type": "markdown",
   "id": "50bcff27",
   "metadata": {},
   "source": [
    "### Machine Learning with MovieLens Dataset Notebook\n",
    "This notebook explores the application of recommender system techniques using the MovieLens dataset, one of the most iconic and widely adopted benchmarks in recommender systems research.\n",
    "\n",
    "MovieLens data sets were collected by the GroupLens Research Project\n",
    "at the University of Minnesota.\n",
    " \n",
    "This data set consists of:\n",
    "  - 100,000 ratings (1-5) from 943 users on 1682 movies. \n",
    "  - Each user has rated at least 20 movies. \n",
    "    - Simple demographic info for the users (age, gender, occupation, zip)\n",
    "\n",
    "The data was collected through the MovieLens web site\n",
    "(movielens.umn.edu) during the seven-month period from September 19th, \n",
    "1997 through April 22nd, 1998. This data has been cleaned up - users\n",
    "who had less than 20 ratings or did not have complete demographic\n",
    "information were removed from this data set. Detailed descriptions of\n",
    "the data file can be found at the end of this file.\n",
    "\n",
    "Neither the University of Minnesota nor any of the researchers\n",
    "involved can guarantee the correctness of the data, its suitability\n",
    "for any particular purpose, or the validity of results based on the\n",
    "use of the data set.  The data set may be used for any research\n",
    "purposes under the following conditions:\n",
    "\n",
    "  - The user may not state or imply any endorsement from the University of Minnesota or the GroupLens Research Group.\n",
    "\n",
    "  - The user must acknowledge the use of the data set in publications resulting from the use of the data set.\n",
    "\n",
    "  - The user may not redistribute the data without separate permission.\n",
    "\n",
    "  - The user may not use this information for any commercial or revenue-bearing purposes without first obtaining permission from a faculty member of the GroupLens Research Project at the University of Minnesota.\n",
    "\n",
    "The ml-100k dataset includes the following key files:\n",
    "- u.data (ratings): Contains user–item interactions in the form\n",
    "\n",
    "    user_id | item_id | rating | timestamp (tab-separated).\n",
    "\n",
    "- u.item (movies): Contains metadata such as movie titles, release dates, IMDb URLs, and genre indicators (binary flags across multiple genres).\n",
    "- u.user (users): Contains demographic information for each user (age, gender, occupation, zip code).\n",
    "- Additional files (e.g., u.genre, u.info) provide auxiliary context and dataset metadata\n",
    "\n",
    "This notebook delves into the application of HeatWave AutoML for building a personalized movie recommendation system using the MovieLens 100K dataset.\n"
   ]
  },
  {
   "cell_type": "markdown",
   "id": "a7926d29",
   "metadata": {},
   "source": [
    "### Prerequistises\n",
    "Install the necessary packages\n",
    "\n",
    "- mysql-connector-python\n",
    "- pandas \n",
    "- scikit-learn\n",
    "- sqlalchemy\n",
    "- matplotlib"
   ]
  },
  {
   "cell_type": "code",
   "execution_count": 1,
   "id": "16a028ef",
   "metadata": {},
   "outputs": [],
   "source": [
    "import os\n",
    "import json\n",
    "import zipfile\n",
    "import shutil\n",
    "import mysql.connector\n",
    "import pandas as pd\n",
    "import numpy as np\n",
    "import matplotlib.pyplot as plt\n",
    "from sklearn.model_selection import train_test_split\n",
    "import sqlalchemy"
   ]
  },
  {
   "cell_type": "markdown",
   "id": "d452f97d",
   "metadata": {},
   "source": [
    "### Connect to the HeatWave instance\n",
    "We create a connection to an active [HeatWave](https://www.oracle.com/mysql/) instance using the [MySQL Connector/Python](https://dev.mysql.com/doc/connector-python/en/). We also define an API to execute a SQL query using a cursor, and the result is returned as a Pandas DataFrame. Modify the below variables to point to your HeatWave instance. On AWS, set USE_BASTION to False. On OCI, please create a tunnel on your machine using the below command by substituting the variable with their respective values\n",
    "\n",
    "ssh -o ServerAliveInterval=60 -i BASTION_PKEY -L LOCAL_PORT:DBSYSTEM_IP:DBSYSTEM_PORT BASTION_USER@BASTION_IP"
   ]
  },
  {
   "cell_type": "code",
   "execution_count": null,
   "id": "5256a035",
   "metadata": {},
   "outputs": [],
   "source": [
    "BASTION_IP =\"ip_address\"\n",
    "BASTION_USER = \"opc\"\n",
    "BASTION_PKEY = \"private_key_file\"\n",
    "DBSYSTEM_IP = \"ip_address\"\n",
    "DBSYSTEM_PORT = 3306\n",
    "DBSYSTEM_USER = \"username\"\n",
    "DBSYSTEM_PASSWORD = \"password\"\n",
    "DBSYSTEM_SCHEMA = \"mlcorpus\"\n",
    "LOCAL_PORT = 3306\n",
    "USE_BASTION = True\n",
    "\n",
    "if USE_BASTION is True:\n",
    "    DBSYSTEM_IP = \"127.0.0.1\"\n",
    "else:\n",
    "    LOCAL_PORT = DBSYSTEM_PORT\n",
    "\n",
    "mydb = mysql.connector.connect(\n",
    "    host=DBSYSTEM_IP,\n",
    "    port=LOCAL_PORT,\n",
    "    user=DBSYSTEM_USER,\n",
    "    password=DBSYSTEM_PASSWORD,\n",
    "    database=DBSYSTEM_SCHEMA,\n",
    "    allow_local_infile=True,\n",
    "    use_pure=True,\n",
    "    autocommit=True,\n",
    ")\n",
    "mycursor = mydb.cursor()\n",
    "\n",
    "\n",
    "# Helper function to execute SQL queries and return the results as a Pandas DataFrame\n",
    "def execute_sql(sql: str) -> pd.DataFrame:\n",
    "    mycursor.execute(sql)\n",
    "    return pd.DataFrame(mycursor.fetchall(), columns=mycursor.column_names)"
   ]
  },
  {
   "cell_type": "markdown",
   "id": "92642ba6",
   "metadata": {},
   "source": [
    " ### Download the MovieLens dataset and load it into Python\n",
    " We download the MovieLens dataset from [GroupLens](https://grouplens.org/datasets/movielens/). We extract the zipfile, and load into Python using Pandas."
   ]
  },
  {
   "cell_type": "code",
   "execution_count": 3,
   "id": "bb7882ad-0a70-4c24-b322-aa0589234fdc",
   "metadata": {},
   "outputs": [
    {
     "name": "stdout",
     "output_type": "stream",
     "text": [
      "  % Total    % Received % Xferd  Average Speed   Time    Time     Time  Current\n",
      "                                 Dload  Upload   Total   Spent    Left  Speed\n",
      "  0     0    0     0    0     0      0      0 --:--:-- --:--:-- --:--:--     0"
     ]
    },
    {
     "name": "stdout",
     "output_type": "stream",
     "text": [
      "100 4808k  100 4808k    0     0  2366k      0  0:00:02  0:00:02 --:--:-- 2366k\n"
     ]
    }
   ],
   "source": [
    "# Download the MovieLens 100k dataset\n",
    "zip_path = \"ml-100k.zip\"\n",
    "\n",
    "if not os.path.exists(zip_path):\n",
    "    !curl -O \"https://files.grouplens.org/datasets/movielens/ml-100k.zip\"\n",
    "\n",
    "# Extract the dataset\n",
    "extract_dir = \"ml-100k\"\n",
    "with zipfile.ZipFile(zip_path, \"r\") as zip_ref:\n",
    "    zip_ref.extractall(\".\")\n",
    "\n",
    "# Load the ratings file (u.data)\n",
    "cols = [\"user_id\", \"movie_id\", \"rating\", \"timestamp\"]\n",
    "df = pd.read_csv(os.path.join(extract_dir, \"u.data\"), \n",
    "                      sep=\"\\t\", names=cols, encoding=\"utf-8\")\n",
    "\n",
    "df[\"user_id\"] = df[\"user_id\"].astype(\"object\")\n",
    "df[\"movie_id\"] = df[\"movie_id\"].astype(\"object\")\n",
    "\n",
    "# Now that we have loaded the data in Python, we don't need the local files anymore\n",
    "os.remove(zip_path)\n",
    "shutil.rmtree(extract_dir)"
   ]
  },
  {
   "cell_type": "markdown",
   "id": "d8fb03b2",
   "metadata": {},
   "source": [
    "### Split the data into a training set and an evaluation set\n",
    "In machine learning, the train-test split is a crucial technique used to evaluate the performance of a model on unseen data. It involves dividing the available dataset into two distinct subsets:   \n",
    "\n",
    "- Training set: This subset is used to train the machine learning model. The model learns the underlying patterns and relationships in the data by analyzing this set.   \n",
    "- Test set: This subset is held back and not used during the training process. Once the model is trained, it's applied to the test set to assess its ability to generalize to new, unseen data."
   ]
  },
  {
   "cell_type": "code",
   "execution_count": 4,
   "id": "896be451",
   "metadata": {},
   "outputs": [],
   "source": [
    "df_train, df_test = train_test_split(\n",
    "    df, test_size=0.30, random_state=1, stratify=df[\"rating\"]\n",
    ")"
   ]
  },
  {
   "cell_type": "markdown",
   "id": "bd8f4886",
   "metadata": {},
   "source": [
    " ### Load the MovieLens dataset into a HeatWave table\n",
    " We connect to the MySQL database using SQLAlchemy, map Pandas data types to their corresponding MySQL dialects, and writes two DataFrames (df_train and df_test) to separate tables (movielens_train and movielens_test) in the database, replacing any existing tables."
   ]
  },
  {
   "cell_type": "code",
   "execution_count": 5,
   "id": "b0f1b82b",
   "metadata": {},
   "outputs": [
    {
     "data": {
      "text/plain": [
       "30000"
      ]
     },
     "execution_count": 5,
     "metadata": {},
     "output_type": "execute_result"
    }
   ],
   "source": [
    "# Create a SQLAlchemy engine instance to connect to the MySQL database\n",
    "sql_engine = sqlalchemy.create_engine(\n",
    "    f\"mysql+mysqlconnector://{DBSYSTEM_USER}:{DBSYSTEM_PASSWORD}@{DBSYSTEM_IP}:{LOCAL_PORT}/{DBSYSTEM_SCHEMA}\",\n",
    "    echo=False,\n",
    "    echo_pool=False,\n",
    "    pool_pre_ping=True,\n",
    "    pool_recycle=3600,\n",
    ")\n",
    "\n",
    "# Define a dictionary mapping pandas data types to their corresponding SQLAlchemy dialects\n",
    "dtype_mapping = {\n",
    "    \"uint64\": sqlalchemy.dialects.mysql.INTEGER(unsigned=True),\n",
    "    \"int64\": sqlalchemy.dialects.mysql.INTEGER(),\n",
    "    \"float64\": sqlalchemy.dialects.mysql.FLOAT(),\n",
    "    \"object\": sqlalchemy.dialects.mysql.VARCHAR(length=255),\n",
    "    \"datetime64[ns]\": sqlalchemy.dialects.mysql.DATETIME(timezone=False),\n",
    "    \"bool\": sqlalchemy.dialects.mysql.TINYINT(),\n",
    "}\n",
    "# Prepare the dtype dict for sqlalchemy/pd.DataFrame.to_sql\n",
    "dtypes = {col: dtype_mapping[str(dtype)] for col, dtype in zip(df.columns, df.dtypes)}\n",
    "\n",
    "# Write the training DataFrame to the 'movielens_train' table in the database\n",
    "df_train.to_sql(\n",
    "    f\"movielens_train\",\n",
    "    con=sql_engine,\n",
    "    if_exists=\"replace\",\n",
    "    dtype=dtypes,\n",
    "    chunksize=5000,\n",
    "    index=False,\n",
    ")\n",
    "# Write the testing DataFrame to the 'movielens_test' table in the database\n",
    "df_test.to_sql(\n",
    "    f\"movielens_test\",\n",
    "    con=sql_engine,\n",
    "    if_exists=\"replace\",\n",
    "    dtype=dtypes,\n",
    "    chunksize=5000,\n",
    "    index=False,\n",
    ")"
   ]
  },
  {
   "cell_type": "markdown",
   "id": "2baf5ee8",
   "metadata": {},
   "source": [
    "### Create a HeatWave AutoML model from the MovieLens training dataset\n",
    "We create a machine learning model on the MovieLens dataset using the [ML_TRAIN](https://dev.mysql.com/doc/heatwave/en/mys-hwaml-ml-train.html) API. The target variable for this model is the rating column, which represents the explicit ratings provided by users for various movies. By specifying rating as the target, the model aims to learn the underlying patterns that determine how users rate movies. This enables the generation of personalized recommendations for unseen movies based on user preferences. The model handle generated at the end of training is stored in the model variable. We will use this handle to refer to the model in our future interactions"
   ]
  },
  {
   "cell_type": "code",
   "execution_count": 6,
   "id": "ce812a5a",
   "metadata": {},
   "outputs": [
    {
     "data": {
      "text/html": [
       "<div>\n",
       "<style scoped>\n",
       "    .dataframe tbody tr th:only-of-type {\n",
       "        vertical-align: middle;\n",
       "    }\n",
       "\n",
       "    .dataframe tbody tr th {\n",
       "        vertical-align: top;\n",
       "    }\n",
       "\n",
       "    .dataframe thead th {\n",
       "        text-align: right;\n",
       "    }\n",
       "</style>\n",
       "<table border=\"1\" class=\"dataframe\">\n",
       "  <thead>\n",
       "    <tr style=\"text-align: right;\">\n",
       "      <th></th>\n",
       "    </tr>\n",
       "  </thead>\n",
       "  <tbody>\n",
       "  </tbody>\n",
       "</table>\n",
       "</div>"
      ],
      "text/plain": [
       "Empty DataFrame\n",
       "Columns: []\n",
       "Index: []"
      ]
     },
     "execution_count": 6,
     "metadata": {},
     "output_type": "execute_result"
    }
   ],
   "source": [
    "execute_sql(\"\"\"SET @model = NULL;\"\"\")\n",
    "execute_sql(\n",
    "    f\"\"\"CALL sys.ML_TRAIN('{DBSYSTEM_SCHEMA}.movielens_train', 'rating', JSON_OBJECT('task', 'recommendation', 'users', 'user_id', 'items', 'movie_id'), @model)\"\"\"\n",
    ")\n",
    "model = execute_sql(\"\"\"SELECT @model;\"\"\").iat[0,0]\n",
    "execute_sql(f\"\"\"CALL sys.ML_MODEL_LOAD('{model}', NULL)\"\"\")"
   ]
  },
  {
   "cell_type": "markdown",
   "id": "9466af07",
   "metadata": {},
   "source": [
    "### Evaluate the model\n",
    "We look at the overall performance of the model on unseen data by using the [ML_SCORE](https://dev.mysql.com/doc/heatwave/en/mys-hwaml-ml-score.html) routine. It allows us to quantify the quality of the predictions. The user needs to provide which metrics he wants to use. \n",
    "\n",
    "For Recommender Systems, the possible metrics are: \n",
    "- neg_mean_squared_error\n",
    "- neg_root_mean_squared_error\n",
    "- neg_mean_absolute_error\n",
    "- r2\n",
    "\n",
    "The result is stored in the @score variable. "
   ]
  },
  {
   "cell_type": "code",
   "execution_count": 7,
   "id": "b6b211f8-8153-4ac6-a151-083624acef64",
   "metadata": {},
   "outputs": [
    {
     "name": "stdout",
     "output_type": "stream",
     "text": [
      "The model score is -0.88\n"
     ]
    }
   ],
   "source": [
    "execute_sql(\n",
    "    f\"\"\"CALL sys.ML_SCORE('{DBSYSTEM_SCHEMA}.movielens_test', 'rating', '{model}', 'neg_mean_squared_error', @score, NULL);\"\"\"\n",
    ")\n",
    "score = execute_sql(\"\"\"SELECT @score;\"\"\").iat[0,0]\n",
    "print(f\"The model score is {score:.2f}\")"
   ]
  },
  {
   "cell_type": "markdown",
   "id": "59149aaf",
   "metadata": {},
   "source": [
    "### Generating predictions to evaluate model performance on unseen test data\n",
    "We invoke the [ML_PREDICT_TABLE](https://dev.mysql.com/doc/heatwave/en/mys-hwaml-ml-predict-table.html) API to generate prediction for the above model on our test data. The output table contains an extra column ml_results which contins the predicted ratings."
   ]
  },
  {
   "cell_type": "code",
   "execution_count": 8,
   "id": "ddbcfc41",
   "metadata": {},
   "outputs": [
    {
     "data": {
      "text/html": [
       "<div>\n",
       "<style scoped>\n",
       "    .dataframe tbody tr th:only-of-type {\n",
       "        vertical-align: middle;\n",
       "    }\n",
       "\n",
       "    .dataframe tbody tr th {\n",
       "        vertical-align: top;\n",
       "    }\n",
       "\n",
       "    .dataframe thead th {\n",
       "        text-align: right;\n",
       "    }\n",
       "</style>\n",
       "<table border=\"1\" class=\"dataframe\">\n",
       "  <thead>\n",
       "    <tr style=\"text-align: right;\">\n",
       "      <th></th>\n",
       "      <th>_4aad19ca6e_pk_id</th>\n",
       "      <th>user_id</th>\n",
       "      <th>movie_id</th>\n",
       "      <th>rating</th>\n",
       "      <th>timestamp</th>\n",
       "      <th>ml_results</th>\n",
       "    </tr>\n",
       "  </thead>\n",
       "  <tbody>\n",
       "    <tr>\n",
       "      <th>0</th>\n",
       "      <td>1</td>\n",
       "      <td>655</td>\n",
       "      <td>942</td>\n",
       "      <td>4</td>\n",
       "      <td>888685850</td>\n",
       "      <td>{\"predictions\": {\"rating\": 2.94}}</td>\n",
       "    </tr>\n",
       "    <tr>\n",
       "      <th>1</th>\n",
       "      <td>2</td>\n",
       "      <td>21</td>\n",
       "      <td>299</td>\n",
       "      <td>1</td>\n",
       "      <td>874950931</td>\n",
       "      <td>{\"predictions\": {\"rating\": 2.43}}</td>\n",
       "    </tr>\n",
       "    <tr>\n",
       "      <th>2</th>\n",
       "      <td>3</td>\n",
       "      <td>114</td>\n",
       "      <td>195</td>\n",
       "      <td>4</td>\n",
       "      <td>881260861</td>\n",
       "      <td>{\"predictions\": {\"rating\": 3.43}}</td>\n",
       "    </tr>\n",
       "    <tr>\n",
       "      <th>3</th>\n",
       "      <td>4</td>\n",
       "      <td>416</td>\n",
       "      <td>140</td>\n",
       "      <td>4</td>\n",
       "      <td>886317030</td>\n",
       "      <td>{\"predictions\": {\"rating\": 3.64}}</td>\n",
       "    </tr>\n",
       "    <tr>\n",
       "      <th>4</th>\n",
       "      <td>5</td>\n",
       "      <td>303</td>\n",
       "      <td>147</td>\n",
       "      <td>4</td>\n",
       "      <td>879467816</td>\n",
       "      <td>{\"predictions\": {\"rating\": 3.48}}</td>\n",
       "    </tr>\n",
       "  </tbody>\n",
       "</table>\n",
       "</div>"
      ],
      "text/plain": [
       "   _4aad19ca6e_pk_id user_id movie_id  rating  timestamp  \\\n",
       "0                  1     655      942       4  888685850   \n",
       "1                  2      21      299       1  874950931   \n",
       "2                  3     114      195       4  881260861   \n",
       "3                  4     416      140       4  886317030   \n",
       "4                  5     303      147       4  879467816   \n",
       "\n",
       "                          ml_results  \n",
       "0  {\"predictions\": {\"rating\": 2.94}}  \n",
       "1  {\"predictions\": {\"rating\": 2.43}}  \n",
       "2  {\"predictions\": {\"rating\": 3.43}}  \n",
       "3  {\"predictions\": {\"rating\": 3.64}}  \n",
       "4  {\"predictions\": {\"rating\": 3.48}}  "
      ]
     },
     "execution_count": 8,
     "metadata": {},
     "output_type": "execute_result"
    }
   ],
   "source": [
    "execute_sql(f\"\"\"DROP TABLE IF EXISTS movielens_test_test_predictions\"\"\")\n",
    "execute_sql(\n",
    "    f\"\"\"CALL sys.ML_PREDICT_TABLE('{DBSYSTEM_SCHEMA}.movielens_test', '{model}', '{DBSYSTEM_SCHEMA}.movielens_test_test_predictions', JSON_OBJECT(\"recommend\", \"ratings\"))\"\"\"\n",
    ")\n",
    "df_predictions = execute_sql(f\"\"\"SELECT * FROM movielens_test_test_predictions\"\"\")\n",
    "execute_sql(f\"\"\"DROP TABLE IF EXISTS movielens_test_test_predictions\"\"\")\n",
    "df_predictions.head()"
   ]
  },
  {
   "cell_type": "markdown",
   "id": "85a963d1",
   "metadata": {},
   "source": [
    "### Getting a deeper understanding of the model's predictions"
   ]
  },
  {
   "cell_type": "markdown",
   "id": "2eb80ffb",
   "metadata": {},
   "source": [
    "Let's visualize how close the predictions are to the real ratings."
   ]
  },
  {
   "cell_type": "code",
   "execution_count": 9,
   "id": "a2c8138a",
   "metadata": {},
   "outputs": [
    {
     "data": {
      "image/png": "[encoded data removed]",
      "text/plain": [
       "<Figure size 640x480 with 1 Axes>"
      ]
     },
     "metadata": {},
     "output_type": "display_data"
    }
   ],
   "source": [
    "predicted_ratings = df_predictions['ml_results'].apply(json.loads).apply(lambda x: x[\"predictions\"]).apply(pd.Series)\n",
    "ratings = df_predictions[[\"rating\"]]\n",
    "\n",
    "difference = (ratings- predicted_ratings).values\n",
    "num_bins = 100\n",
    "plt.hist(difference, num_bins,  density = 1, alpha = 0.7)\n",
    "plt.xlabel('Error')\n",
    "plt.ylabel('Distribution')\n",
    "plt.title('Distribution of the error in predictions')\n",
    "plt.show()"
   ]
  }
 ],
 "metadata": {
  "kernelspec": {
   "display_name": "pyvenv_sara_8",
   "language": "python",
   "name": "python3"
  },
  "language_info": {
   "codemirror_mode": {
    "name": "ipython",
    "version": 3
   },
   "file_extension": ".py",
   "mimetype": "text/x-python",
   "name": "python",
   "nbconvert_exporter": "python",
   "pygments_lexer": "ipython3",
   "version": "3.11.11"
  }
 },
 "nbformat": 4,
 "nbformat_minor": 5
}
