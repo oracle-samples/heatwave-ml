{
    "cells": [
        {
            "cell_type": "markdown",
            "id": "d2313fd6-aca0-422a-8697-abc8bfe20d15",
            "metadata": {},
            "source": [
                "# MySQL AI\n",
                "MySQL AI provides developers to build rich applications with MySQL leveraging built in machine learning, GenAI, LLMs and semantic search. They can create vectors from documents stored in a local file system. Customers can deploy these AI applications on premise or migrate them to MySQL HeatWave for lower cost, higher performance, richer functionality and latest LLMs with no change to their application. This gives developers the flexibility to build their applications on MySQL EE and then deploy them either on premise or in the cloud."
            ]
        },
        {
            "cell_type": "markdown",
            "id": "1842993b-68d9-4e39-8b34-826ff34e9dac",
            "metadata": {},
            "source": [
                "This notebook will showcase the use of [ML_RAG](https://dev.mysql.com/doc/heatwave/en/mys-hwgenai-ml-rag.html) for Retrieval Augmented Generation (RAG) and [HEATWAVE_CHAT](https://dev.mysql.com/doc/heatwave/en/mys-hwgenai-hw-chat.html) for engaging in natural language interactions using data from the 2024 Olympic Games.\n",
                "\n",
                "### References\n",
                "- https://blogs.oracle.com/mysql/post/announcing-mysql-ai\n",
                "- https://dev.mysql.com/doc/mysql-ai/9.4/en/\n",
                "- https://dev.mysql.com/doc/dev/mysql-studio/latest/#overview\n",
                "- https://www.economicsobservatory.com/what-happened-at-the-2024-olympics\n",
                "- https://en.wikipedia.org/wiki/2024_Summer_Olympics\n",
                "\n",
                "### Prerequistises\n",
                "\n",
                "- mysql-connector-python\n",
                "- pandas "
            ]
        },
        {
            "cell_type": "markdown",
            "id": "cdfdf43d-fa00-418b-950c-379cdb9d51a1",
            "metadata": {},
            "source": [
                "##### Import Python packages"
            ]
        },
        {
            "cell_type": "code",
            "execution_count": 1,
            "id": "e9509e32-7ae6-440e-a1dc-85100bfe8976",
            "metadata": {},
            "outputs": [],
            "source": [
                "# import Python packages\n",
                "import os\n",
                "import json\n",
                "import mysql.connector\n",
                "import pandas as pd\n",
                "import matplotlib.pyplot as plt\n",
                "import numpy as np"
            ]
        },
        {
            "cell_type": "markdown",
            "id": "27c0c921-7a0c-4b41-a5c0-81da052e0856",
            "metadata": {},
            "source": [
                "### Connect to the MySQL AI instance\n",
                "We create a connection to an active MySQL AI instance using the [MySQL Connector/Python](https://dev.mysql.com/doc/connector-python/en/). We also define an API to execute a SQL query using a cursor, and the result is returned as a Pandas DataFrame. Modify the below variables to point to your MySQL AI instance.\n",
                "\n",
                " - In MySQL Studio, connections are restricted to only allow localhost as the host. \n",
                " - In MySQL Studio, the only accepted password values are the string unused or None. "
            ]
        },
        {
            "cell_type": "code",
            "execution_count": null,
            "id": "5caf4bd2-db0f-4ce2-b18f-a442af4ba58b",
            "metadata": {},
            "outputs": [],
            "source": [
                "HOST = 'localhost'\n",
                "PORT = 3306\n",
                "USER = 'root'\n",
                "PASSWORD = 'unused'\n",
                "DATABASE = 'mlcorpus'\n",
                "\n",
                "\n",
                "myconn = mysql.connector.connect(\n",
                "    host=HOST,\n",
                "    port=PORT,\n",
                "    user=USER,\n",
                "    password=PASSWORD,\n",
                "    database=DATABASE,\n",
                "    allow_local_infile=True,\n",
                "    use_pure=True,\n",
                "    autocommit=True,\n",
                ")\n",
                "mycursor = myconn.cursor()\n",
                "\n",
                "\n",
                "# Helper function to execute SQL queries and return the results as a Pandas DataFrame\n",
                "def execute_sql(sql: str) -> pd.DataFrame:\n",
                "    mycursor.execute(sql)\n",
                "    return pd.DataFrame(mycursor.fetchall(), columns=mycursor.column_names)"
            ]
        },
        {
            "cell_type": "markdown",
            "id": "540b31c5-28f6-440e-aeb2-4494a557feba",
            "metadata": {},
            "source": [
                "# ML_RAG operation"
            ]
        },
        {
            "cell_type": "markdown",
            "id": "448d2e37-18bf-40a7-a920-bc79cecd0d35",
            "metadata": {},
            "source": [
                "The available LLMs have the limitation of being trained on public datasets. However, you can leverage MySQL AI to generate content based on your own proprietary data through Retrieval Augmented Generation (RAG). MySQL AI can convert your data into embeddings and store them in a vector store, and these embeddings can be used to provide your enterprise's specific context to the LLMs."
            ]
        },
        {
            "cell_type": "code",
            "execution_count": 3,
            "id": "60828563-dc76-4c63-880e-26109e1c36ef",
            "metadata": {},
            "outputs": [
                {
                    "output_type": "display_data",
                    "data": {
                        "text/plain": "Empty DataFrame\nColumns: []\nIndex: []",
                        "text/html": "<div>\n<style scoped>\n    .dataframe tbody tr th:only-of-type {\n        vertical-align: middle;\n    }\n\n    .dataframe tbody tr th {\n        vertical-align: top;\n    }\n\n    .dataframe thead th {\n        text-align: right;\n    }\n</style>\n<table border=\"1\" class=\"dataframe\">\n  <thead>\n    <tr style=\"text-align: right;\">\n      <th></th>\n    </tr>\n  </thead>\n  <tbody>\n  </tbody>\n</table>\n</div>",
                        "application/vnd.mysql.notebook.dataframe+json": {
                            "columns": [],
                            "dtypes": [],
                            "index": [],
                            "rows": []
                        }
                    },
                    "metadata": {},
                    "execution_count": 0
                }
            ],
            "source": [
                "# Delete the vector_store_data_1 table if exists\n",
                "execute_sql(f\"\"\"DROP TABLE if exists mlcorpus.vector_store_data_1;\"\"\")"
            ]
        },
        {
            "cell_type": "markdown",
            "id": "b92da584-432a-4f1a-91ab-4ef58c5b2dc5",
            "metadata": {},
            "source": [
                "### Use VECTOR_STORE_LOAD to create a vector store from the files that contain the proprietary data.\n",
                "\n",
                "To do that first copy the files into /var/lib/mysql-files folder\n",
                "\n",
                "Example: sudo cp /home/john_doe/Olympics_2024.pdf /var/lib/mysql-files"
            ]
        },
        {
            "cell_type": "code",
            "execution_count": 4,
            "id": "89a1c9d4-5105-4b91-b6b8-8836f1c03577",
            "metadata": {},
            "outputs": [],
            "source": [
                "df = execute_sql(\"\"\"CALL sys.VECTOR_STORE_LOAD('file:///var/lib/mysql-files/2024_Summer_Olympics_Wikipedia.pdf', JSON_OBJECT(\"schema_name\",\"mlcorpus\",\"table_name\",\"vector_store_data_1\"))\"\"\")"
            ]
        },
        {
            "cell_type": "code",
            "id": "86c15cbb-024d-4bc4-80ff-5f801fc91aa7",
            "metadata": {},
            "source": [
                "\t\n",
                "df_status = execute_sql(f\"\"\"{df['task_status_query'][0]}\"\"\")\n",
                "print(f\"Progress:{json.loads(df_status.iloc[0,0])['progress']}%\")"
            ],
            "execution_count": 0,
            "outputs": [
                {
                    "output_type": "stream",
                    "text": [
                        "Progress:100%\n"
                    ]
                }
            ]
        },
        {
            "cell_type": "markdown",
            "id": "a647fe97-841f-4e75-8414-927781abc76b",
            "metadata": {},
            "source": [
                "Invoke the [ML_RAG](https://dev.mysql.com/doc/heatwave/en/mys-hwgenai-ml-rag.html) procedure with your query."
            ]
        },
        {
            "cell_type": "code",
            "execution_count": 24,
            "id": "b8d19536-0104-4e06-bafc-7d674d8d016c",
            "metadata": {},
            "outputs": [
                {
                    "output_type": "display_data",
                    "data": {
                        "text/plain": "'The 2024 Summer Olympics were held in France.'"
                    },
                    "metadata": {},
                    "execution_count": 0
                }
            ],
            "source": [
                "execute_sql(f\"\"\"CALL sys.ML_RAG(\"Where were the 2024 Summer Olympics held?\", @output, NULL);\"\"\")\n",
                "df = execute_sql(f\"\"\"SELECT JSON_PRETTY(@output);\"\"\")\n",
                "json.loads(df.iat[0,0])[\"text\"]"
            ]
        },
        {
            "cell_type": "code",
            "execution_count": 25,
            "id": "c6a21853",
            "metadata": {},
            "outputs": [
                {
                    "output_type": "display_data",
                    "data": {
                        "text/plain": "'The opening date of the 2024 Summer Olympics was July 26, 2024, and the closing date was August 11, 2024.'"
                    },
                    "metadata": {},
                    "execution_count": 0
                }
            ],
            "source": [
                "execute_sql(f\"\"\"CALL sys.ML_RAG(\"What were the opening and closing dates of the Games?\", @output, NULL);\"\"\")\n",
                "df = execute_sql(f\"\"\"SELECT JSON_PRETTY(@output);\"\"\")\n",
                "json.loads(df.iat[0,0])[\"text\"]"
            ]
        },
        {
            "cell_type": "code",
            "execution_count": 26,
            "id": "a4539864",
            "metadata": {},
            "outputs": [
                {
                    "output_type": "display_data",
                    "data": {
                        "text/plain": "'According to the text, one sport that made its Olympic debut in 2024 is \"breaking\" (also known as breakdancing).'"
                    },
                    "metadata": {},
                    "execution_count": 0
                }
            ],
            "source": [
                "execute_sql(f\"\"\"CALL sys.ML_RAG(\"Which sports made their Olympic debut in 2024?\", @output, NULL);\"\"\")\n",
                "df = execute_sql(f\"\"\"SELECT JSON_PRETTY(@output);\"\"\")\n",
                "json.loads(df.iat[0,0])[\"text\"]"
            ]
        },
        {
            "cell_type": "markdown",
            "id": "e57c3983-adf3-4463-b897-92784a4347ab",
            "metadata": {},
            "source": [
                "# HEATWAVE_CHAT operation"
            ]
        },
        {
            "cell_type": "markdown",
            "id": "77b2b4e0-a7cd-418c-b15e-d5e8e69be152",
            "metadata": {},
            "source": [
                "Thanks to the native support for vector store and Retrival Augmented Generation (RAG), you can load and query unstructured documents using natural language within the MySQL AI ecosystem.\n",
                "This will be a brief demonstration of HeatWave Chat, a built-in chatbot that utilizes LLMs to understand and respond to your inputs."
            ]
        },
        {
            "cell_type": "markdown",
            "id": "ca0a3ae6-3b65-4a7d-bf2c-9c96d7c6dcf7",
            "metadata": {},
            "source": [
                "Use VECTOR_STORE_LOAD to create a vector store from the files that contain the proprietary data (see previous section), and then, use the [HEATWAVE_CHAT](https://dev.mysql.com/doc/heatwave/en/mys-hwgenai-hw-chat.html) procedure to start a conversation with HeatWave."
            ]
        },
        {
            "cell_type": "code",
            "execution_count": 27,
            "id": "a779f8d5-f4b1-49f2-af98-5a7e15189264",
            "metadata": {},
            "outputs": [
                {
                    "output_type": "display_data",
                    "data": {
                        "text/plain": "'The opening date of the 2024 Summer Olympics was July 26, 2024, and the closing date was August 11, 2024.'"
                    },
                    "metadata": {},
                    "execution_count": 0
                }
            ],
            "source": [
                "df = execute_sql(\"\"\"CALL sys.HEATWAVE_CHAT('What were the opening and closing dates of the Olympic Games?')\"\"\")\n",
                "df[\"response\"].iloc[0]"
            ]
        },
        {
            "cell_type": "code",
            "id": "aa9b2c75-8d2f-4dc7-89ec-75e0c38ecbbb",
            "metadata": {},
            "source": [
                "df = execute_sql(\"\"\"CALL sys.HEATWAVE_CHAT('Where was the location?')\"\"\")\n",
                "df[\"response\"].iloc[0]"
            ],
            "execution_count": 0,
            "outputs": [
                {
                    "output_type": "display_data",
                    "data": {
                        "text/plain": "'The location of the 2024 Summer Olympics was France.'"
                    },
                    "metadata": {},
                    "execution_count": 0
                }
            ]
        }
    ],
    "metadata": {
        "kernelspec": {
            "display_name": "pyvenv311",
            "language": "python",
            "name": "python3"
        },
        "language_info": {
            "codemirror_mode": {
                "name": "ipython",
                "version": 3
            },
            "file_extension": ".py",
            "mimetype": "text/x-python",
            "name": "python",
            "nbconvert_exporter": "python",
            "pygments_lexer": "ipython3",
            "version": "3.11.13"
        },
        "mysql": {}
    },
    "nbformat": 4,
    "nbformat_minor": 4
}