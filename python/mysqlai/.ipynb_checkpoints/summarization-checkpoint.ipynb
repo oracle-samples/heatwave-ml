{
    "cells": [
        {
            "cell_type": "markdown",
            "id": "cb0875ec",
            "metadata": {},
            "source": [
                "# MySQL AI\n",
                "MySQL AI provides developers to build rich applications with MySQL leveraging built in machine learning, GenAI, LLMs and semantic search. They can create vectors from documents stored in a local file system. Customers can deploy these AI applications on premise or migrate them to MySQL HeatWave for lower cost, higher performance, richer functionality and latest LLMs with no change to their application. This gives developers the flexibility to build their applications on MySQL EE and then deploy them either on premise or in the cloud."
            ]
        },
        {
            "cell_type": "markdown",
            "id": "1842993b-68d9-4e39-8b34-826ff34e9dac",
            "metadata": {},
            "source": [
                "\n",
                "This notebook demonstrates the application of [ML_GENERATE](https://dev.mysql.com/doc/heatwave/en/mys-hwgenai-ml-generate.html) for summarization using data from the 2024 Olympic Games.\n",
                "\n",
                "### References\n",
                "- https://blogs.oracle.com/mysql/post/announcing-mysql-ai\n",
                "- https://dev.mysql.com/doc/mysql-ai/9.4/en/\n",
                "- https://dev.mysql.com/doc/dev/mysql-studio/latest/#overview\n",
                "- https://www.economicsobservatory.com/what-happened-at-the-2024-olympics\n",
                "- https://en.wikipedia.org/wiki/2024_Summer_Olympics\n",
                "\n",
                "### Prerequistises\n",
                "\n",
                "- mysql-connector-python\n",
                "- pandas "
            ]
        },
        {
            "cell_type": "markdown",
            "id": "cdfdf43d-fa00-418b-950c-379cdb9d51a1",
            "metadata": {},
            "source": [
                "##### Import Python packages"
            ]
        },
        {
            "cell_type": "code",
            "execution_count": 17,
            "id": "e9509e32-7ae6-440e-a1dc-85100bfe8976",
            "metadata": {},
            "outputs": [],
            "source": [
                "# import Python packages\n",
                "import os\n",
                "import json\n",
                "import numpy as np\n",
                "import pandas as pd\n",
                "import mysql.connector"
            ]
        },
        {
            "cell_type": "markdown",
            "id": "27c0c921-7a0c-4b41-a5c0-81da052e0856",
            "metadata": {},
            "source": [
                "### Connect to the MySQL AI instance\n",
                "We create a connection to an active MySQL AI instance using the [MySQL Connector/Python](https://dev.mysql.com/doc/connector-python/en/). We also define an API to execute a SQL query using a cursor, and the result is returned as a Pandas DataFrame. Modify the below variables to point to your MySQL AI instance.\n",
                "\n",
                " - In MySQL Studio, connections are restricted to only allow localhost as the host. \n",
                " - In MySQL Studio, the only accepted password values are the string unused or None. "
            ]
        },
        {
            "cell_type": "code",
            "execution_count": null,
            "id": "5caf4bd2-db0f-4ce2-b18f-a442af4ba58b",
            "metadata": {},
            "outputs": [],
            "source": [
                "HOST = 'localhost'\n",
                "PORT = 3306\n",
                "USER = 'root'\n",
                "PASSWORD = 'unused'\n",
                "DATABASE = 'mlcorpus'\n",
                "\n",
                "\n",
                "myconn = mysql.connector.connect(\n",
                "    host=HOST,\n",
                "    port=PORT,\n",
                "    user=USER,\n",
                "    password=PASSWORD,\n",
                "    database=DATABASE,\n",
                "    allow_local_infile=True,\n",
                "    use_pure=True,\n",
                "    autocommit=True,\n",
                ")\n",
                "mycursor = myconn.cursor()\n",
                "\n",
                "\n",
                "# Helper function to execute SQL queries and return the results as a Pandas DataFrame\n",
                "def execute_sql(sql: str) -> pd.DataFrame:\n",
                "    mycursor.execute(sql)\n",
                "    return pd.DataFrame(mycursor.fetchall(), columns=mycursor.column_names)\n",
                ""
            ]
        },
        {
            "cell_type": "markdown",
            "id": "2fd376b2-d27f-4745-802b-d7aac2e81ff2",
            "metadata": {},
            "source": [
                "# ML_GENERATE operation"
            ]
        },
        {
            "cell_type": "markdown",
            "id": "0db8cf1d-c602-41e4-a6b3-a71e749d84e5",
            "metadata": {},
            "source": [
                "You can perform content summarization using the [ML_GENERATE](https://dev.mysql.com/doc/heatwave/en/mys-hwgenai-ml-generate.html) procedure (by specifying the task type as summarization)."
            ]
        },
        {
            "cell_type": "markdown",
            "id": "5d31dfc5-91cb-445c-a029-2c090b8d4df1",
            "metadata": {},
            "source": [
                "### Text summarization\n",
                "Set a variable (@document, in this example) to the content of the document you want to summarize."
            ]
        },
        {
            "cell_type": "code",
            "id": "42499704-637c-47f7-85c4-aa621aadc150",
            "metadata": {},
            "source": [
                "document = \"Paris has been the host for the 2024 Olympic and Paralympic Games. Over the course of the summer, the city – and other venues across France – have welcomed 10,500 Olympians (competing in 32 sports) and over 4,000 Paralympians (competing in 22 sports). In the Paris games, 206 territories were represented, alongside the International Olympic Committee (IOC) Refugee Olympic Team. Comparably, the 1900 Olympics – also hosted by Paris – featured athletes from only 24 nations. The American-led boycott of that edition was instigated by political tensions with the Soviet Union over its occupation of Afghanistan. Approximately 60 countries joined the United States in boycotting the games, resulting in only 81 countries sending athletes.\"\n",
                "execute_sql(f\"\"\"SET @document = '{document}';\"\"\")"
            ],
            "execution_count": 0,
            "outputs": [
                {
                    "output_type": "display_data",
                    "data": {
                        "text/plain": "Empty DataFrame\nColumns: []\nIndex: []",
                        "text/html": "<div>\n<style scoped>\n    .dataframe tbody tr th:only-of-type {\n        vertical-align: middle;\n    }\n\n    .dataframe tbody tr th {\n        vertical-align: top;\n    }\n\n    .dataframe thead th {\n        text-align: right;\n    }\n</style>\n<table border=\"1\" class=\"dataframe\">\n  <thead>\n    <tr style=\"text-align: right;\">\n      <th></th>\n    </tr>\n  </thead>\n  <tbody>\n  </tbody>\n</table>\n</div>",
                        "application/vnd.mysql.notebook.dataframe+json": {
                            "columns": [],
                            "dtypes": [],
                            "index": [],
                            "rows": []
                        }
                    },
                    "metadata": {},
                    "execution_count": 0
                }
            ]
        },
        {
            "cell_type": "markdown",
            "attachments": {},
            "id": "fe64fba1-0ed6-45b3-acc6-0f39dd8bffc5",
            "metadata": {},
            "source": [
                "Invoke [ML_GENERATE](https://dev.mysql.com/doc/heatwave/en/mys-hwgenai-ml-generate.html) with your variable @document and specifying the task as \"summarization\"."
            ]
        },
        {
            "cell_type": "code",
            "id": "e2d9ca21-0ae8-4037-baee-b7fc7ff42ab3",
            "metadata": {},
            "source": [
                "df = execute_sql(f\"\"\"SELECT JSON_PRETTY(sys.ML_GENERATE(@document, JSON_OBJECT(\"task\", \"summarization\", \"max_tokens\", 512)));\"\"\")\n",
                "json.loads(df.iat[0,0])[\"text\"]"
            ],
            "execution_count": 0,
            "outputs": [
                {
                    "output_type": "display_data",
                    "data": {
                        "text/plain": "\"Here is a summary:\\n\\nThe 2024 Olympic and Paralympic Games were held in Paris, welcoming 10,500 Olympians from 206 territories and 4,000 Paralympians from 22 sports. This marked a significant increase from the 1900 Olympics, which featured athletes from only 24 nations due to an American-led boycott of the Soviet Union's occupation of Afghanistan.\""
                    },
                    "metadata": {},
                    "execution_count": 0
                }
            ]
        },
        {
            "cell_type": "markdown",
            "id": "b92da584-432a-4f1a-91ab-4ef58c5b2dc5",
            "metadata": {},
            "source": [
                "### Use VECTOR_STORE_LOAD to parse the documents that contain the proprietary data.\n",
                "\n",
                "To do that first copy the files into /var/lib/mysql-files folder\n",
                "\n",
                "Example: sudo cp /home/john_doe/2024_Summer_Olympics_Wikipedia.pdf /var/lib/mysql-files"
            ]
        },
        {
            "cell_type": "code",
            "execution_count": 26,
            "id": "60828563-dc76-4c63-880e-26109e1c36ef",
            "metadata": {},
            "outputs": [
                {
                    "output_type": "display_data",
                    "data": {
                        "text/plain": "Empty DataFrame\nColumns: []\nIndex: []",
                        "text/html": "<div>\n<style scoped>\n    .dataframe tbody tr th:only-of-type {\n        vertical-align: middle;\n    }\n\n    .dataframe tbody tr th {\n        vertical-align: top;\n    }\n\n    .dataframe thead th {\n        text-align: right;\n    }\n</style>\n<table border=\"1\" class=\"dataframe\">\n  <thead>\n    <tr style=\"text-align: right;\">\n      <th></th>\n    </tr>\n  </thead>\n  <tbody>\n  </tbody>\n</table>\n</div>",
                        "application/vnd.mysql.notebook.dataframe+json": {
                            "columns": [],
                            "dtypes": [],
                            "index": [],
                            "rows": []
                        }
                    },
                    "metadata": {},
                    "execution_count": 0
                }
            ],
            "source": [
                "# Delete the parsed_document table if exists\n",
                "execute_sql(f\"\"\"DROP TABLE if exists mlcorpus.parsed_document_segments;\"\"\")"
            ]
        },
        {
            "cell_type": "code",
            "execution_count": 27,
            "id": "89a1c9d4-5105-4b91-b6b8-8836f1c03577",
            "metadata": {},
            "outputs": [],
            "source": [
                "df = execute_sql(\"\"\"CALL sys.VECTOR_STORE_LOAD('file:///var/lib/mysql-files/2024_Summer_Olympics_Wikipedia.pdf', JSON_OBJECT(\"schema_name\",\"mlcorpus\",\"table_name\",\"parsed_document_segments\"))\"\"\")"
            ]
        },
        {
            "cell_type": "code",
            "id": "83a1e131-8a62-4a76-89af-a75effb86044",
            "metadata": {},
            "source": [
                "df_status = execute_sql(f\"\"\"{df['task_status_query'][0]}\"\"\")\n",
                "print(f\"Progress:{json.loads(df_status.iloc[0,0])['progress']}%\")"
            ],
            "execution_count": 0,
            "outputs": [
                {
                    "output_type": "stream",
                    "text": [
                        "Progress:100%\n"
                    ]
                }
            ]
        },
        {
            "cell_type": "markdown",
            "id": "a6f68a27",
            "metadata": {},
            "source": [
                "We can also summarize the documnet that is parsed using vector_store_load."
            ]
        },
        {
            "cell_type": "code",
            "execution_count": 28,
            "id": "7edc5684",
            "metadata": {},
            "outputs": [
                {
                    "output_type": "display_data",
                    "data": {
                        "text/plain": "Empty DataFrame\nColumns: []\nIndex: []",
                        "text/html": "<div>\n<style scoped>\n    .dataframe tbody tr th:only-of-type {\n        vertical-align: middle;\n    }\n\n    .dataframe tbody tr th {\n        vertical-align: top;\n    }\n\n    .dataframe thead th {\n        text-align: right;\n    }\n</style>\n<table border=\"1\" class=\"dataframe\">\n  <thead>\n    <tr style=\"text-align: right;\">\n      <th></th>\n    </tr>\n  </thead>\n  <tbody>\n  </tbody>\n</table>\n</div>",
                        "application/vnd.mysql.notebook.dataframe+json": {
                            "columns": [],
                            "dtypes": [],
                            "index": [],
                            "rows": []
                        }
                    },
                    "metadata": {},
                    "execution_count": 0
                }
            ],
            "source": [
                "execute_sql(\"\"\"SELECT GROUP_CONCAT(segment ORDER BY segment_number SEPARATOR ' ') INTO @parsed_document FROM (SELECT segment, segment_number FROM mlcorpus.parsed_document_segments ORDER BY segment_number LIMIT 10) AS limited_segments;\"\"\")"
            ]
        },
        {
            "cell_type": "markdown",
            "attachments": {},
            "id": "f68bddae-6abb-400c-be6f-52e844f06834",
            "metadata": {},
            "source": [
                "Invoke [ML_GENERATE](https://dev.mysql.com/doc/heatwave/en/mys-hwgenai-ml-generate.html) with your variable @parsed_document and specifying the task as \"summarization\"."
            ]
        },
        {
            "cell_type": "code",
            "execution_count": 29,
            "id": "0cacc0a9",
            "metadata": {},
            "outputs": [
                {
                    "output_type": "display_data",
                    "data": {
                        "text/plain": "'Here is a summary of the text:\\n\\nThe 2024 Summer Olympics, officially known as Paris 2024, will be held in Paris, France from July 26 to August 11, 2024. The event will feature 204 participating nations and 10,714 athletes competing in 329 events across 32 sports. The opening ceremony is scheduled for July 26, while the closing ceremony will take place on August 11.'"
                    },
                    "metadata": {},
                    "execution_count": 0
                }
            ],
            "source": [
                "df = execute_sql(f\"\"\"SELECT JSON_PRETTY(sys.ML_GENERATE(@parsed_document, JSON_OBJECT(\"task\", \"summarization\", \"max_tokens\", 512)));\"\"\")\n",
                "json.loads(df.iat[0,0])[\"text\"]"
            ]
        }
    ],
    "metadata": {
        "kernelspec": {
            "display_name": "pyvenv311",
            "language": "python",
            "name": "python3"
        },
        "language_info": {
            "codemirror_mode": {
                "name": "ipython",
                "version": 3
            },
            "file_extension": ".py",
            "mimetype": "text/x-python",
            "name": "python",
            "nbconvert_exporter": "python",
            "pygments_lexer": "ipython3",
            "version": "3.11.11"
        },
        "mysql": {}
    },
    "nbformat": 4,
    "nbformat_minor": 4
}