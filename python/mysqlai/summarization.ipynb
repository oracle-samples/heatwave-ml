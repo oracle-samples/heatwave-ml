{
 "cells": [
  {
   "cell_type": "markdown",
   "metadata": {},
   "source": [
    "# MySQL AI\n",
    "MySQL AI provides developers to build rich applications with MySQL leveraging built in machine learning, GenAI, LLMs and semantic search. They can create vectors from documents stored in a local file system. Customers can deploy these AI applications on premise or migrate them to MySQL HeatWave for lower cost, higher performance, richer functionality and latest LLMs with no change to their application. This gives developers the flexibility to build their applications on MySQL EE and then deploy them either on premise or in the cloud."
   ]
  },
  {
   "cell_type": "markdown",
   "metadata": {},
   "source": [
    "\n",
    "This notebook demonstrates the application of [ML_GENERATE](https://dev.mysql.com/doc/heatwave/en/mys-hwgenai-ml-generate.html) for summarization using data from the 2024 Olympic Games.\n",
    "\n",
    "### References\n",
    "- https://blogs.oracle.com/mysql/post/announcing-mysql-ai\n",
    "- https://dev.mysql.com/doc/mysql-ai/9.4/en/\n",
    "- https://dev.mysql.com/doc/dev/mysql-studio/latest/#overview\n",
    "- https://www.economicsobservatory.com/what-happened-at-the-2024-olympics\n",
    "- https://en.wikipedia.org/wiki/2024_Summer_Olympics\n",
    "\n",
    "### Prerequistises\n",
    "\n",
    "- mysql-connector-python\n",
    "- pandas "
   ]
  },
  {
   "cell_type": "markdown",
   "metadata": {},
   "source": [
    "##### Import Python packages"
   ]
  },
  {
   "cell_type": "code",
   "execution_count": 17,
   "metadata": {},
   "outputs": [],
   "source": [
    "# import Python packages\n",
    "import os\n",
    "import json\n",
    "import numpy as np\n",
    "import pandas as pd\n",
    "import mysql.connector"
   ]
  },
  {
   "cell_type": "markdown",
   "metadata": {},
   "source": [
    "### Connect to the MySQL AI instance\n",
    "We create a connection to an active MySQL AI instance using the [MySQL Connector/Python](https://dev.mysql.com/doc/connector-python/en/). We also define an API to execute a SQL query using a cursor, and the result is returned as a Pandas DataFrame. Modify the below variables to point to your MySQL AI instance.\n",
    "\n",
    " - In MySQL Studio, connections are restricted to only allow localhost as the host. \n",
    " - In MySQL Studio, the only accepted password values are the string unused or None. "
   ]
  },
  {
   "cell_type": "code",
   "execution_count": null,
   "metadata": {},
   "outputs": [],
   "source": [
    "HOST = 'localhost'\n",
    "PORT = 3306\n",
    "USER = 'root'\n",
    "PASSWORD = 'unused'\n",
    "DATABASE = 'mlcorpus'\n",
    "\n",
    "\n",
    "myconn = mysql.connector.connect(\n",
    "    host=HOST,\n",
    "    port=PORT,\n",
    "    user=USER,\n",
    "    password=PASSWORD,\n",
    "    database=DATABASE,\n",
    "    allow_local_infile=True,\n",
    "    use_pure=True,\n",
    "    autocommit=True,\n",
    ")\n",
    "mycursor = myconn.cursor()\n",
    "\n",
    "\n",
    "# Helper function to execute SQL queries and return the results as a Pandas DataFrame\n",
    "def execute_sql(sql: str) -> pd.DataFrame:\n",
    "    mycursor.execute(sql)\n",
    "    return pd.DataFrame(mycursor.fetchall(), columns=mycursor.column_names)\n"
   ]
  },
  {
   "cell_type": "markdown",
   "metadata": {},
   "source": [
    "# ML_GENERATE operation"
   ]
  },
  {
   "cell_type": "markdown",
   "metadata": {},
   "source": [
    "You can perform content summarization using the [ML_GENERATE](https://dev.mysql.com/doc/heatwave/en/mys-hwgenai-ml-generate.html) procedure (by specifying the task type as summarization)."
   ]
  },
  {
   "cell_type": "markdown",
   "metadata": {},
   "source": [
    "### Text summarization\n",
    "Set a variable (@document, in this example) to the content of the document you want to summarize."
   ]
  },
  {
   "cell_type": "code",
   "execution_count": null,
   "metadata": {},
   "outputs": [
    {
     "data": {
      "application/vnd.mysql.notebook.dataframe+json": {
       "columns": [],
       "dtypes": [],
       "index": [],
       "rows": []
      },
      "text/html": [
       "<div>\n",
       "<style scoped>\n",
       "    .dataframe tbody tr th:only-of-type {\n",
       "        vertical-align: middle;\n",
       "    }\n",
       "\n",
       "    .dataframe tbody tr th {\n",
       "        vertical-align: top;\n",
       "    }\n",
       "\n",
       "    .dataframe thead th {\n",
       "        text-align: right;\n",
       "    }\n",
       "</style>\n",
       "<table border=\"1\" class=\"dataframe\">\n",
       "  <thead>\n",
       "    <tr style=\"text-align: right;\">\n",
       "      <th></th>\n",
       "    </tr>\n",
       "  </thead>\n",
       "  <tbody>\n",
       "  </tbody>\n",
       "</table>\n",
       "</div>"
      ],
      "text/plain": [
       "Empty DataFrame\n",
       "Columns: []\n",
       "Index: []"
      ]
     },
     "execution_count": 0,
     "metadata": {},
     "output_type": "display_data"
    }
   ],
   "source": [
    "document = \"Paris has been the host for the 2024 Olympic and Paralympic Games. Over the course of the summer, the city – and other venues across France – have welcomed 10,500 Olympians (competing in 32 sports) and over 4,000 Paralympians (competing in 22 sports). In the Paris games, 206 territories were represented, alongside the International Olympic Committee (IOC) Refugee Olympic Team. Comparably, the 1900 Olympics – also hosted by Paris – featured athletes from only 24 nations. The American-led boycott of that edition was instigated by political tensions with the Soviet Union over its occupation of Afghanistan. Approximately 60 countries joined the United States in boycotting the games, resulting in only 81 countries sending athletes.\"\n",
    "execute_sql(f\"\"\"SET @document = '{document}';\"\"\")"
   ]
  },
  {
   "attachments": {},
   "cell_type": "markdown",
   "metadata": {},
   "source": [
    "Invoke [ML_GENERATE](https://dev.mysql.com/doc/heatwave/en/mys-hwgenai-ml-generate.html) with your variable @document and specifying the task as \"summarization\"."
   ]
  },
  {
   "cell_type": "code",
   "execution_count": null,
   "metadata": {},
   "outputs": [
    {
     "data": {
      "text/plain": [
       "\"Here is a summary:\\n\\nThe 2024 Olympic and Paralympic Games were held in Paris, welcoming 10,500 Olympians from 206 territories and 4,000 Paralympians from 22 sports. This marked a significant increase from the 1900 Olympics, which featured athletes from only 24 nations due to an American-led boycott of the Soviet Union's occupation of Afghanistan.\""
      ]
     },
     "execution_count": 0,
     "metadata": {},
     "output_type": "display_data"
    }
   ],
   "source": [
    "df = execute_sql(f\"\"\"SELECT JSON_PRETTY(sys.ML_GENERATE(@document, JSON_OBJECT(\"task\", \"summarization\", \"max_tokens\", 512)));\"\"\")\n",
    "json.loads(df.iat[0,0])[\"text\"]"
   ]
  },
  {
   "cell_type": "markdown",
   "metadata": {},
   "source": [
    "### Use VECTOR_STORE_LOAD to parse the documents that contain the proprietary data.\n",
    "\n",
    "To do that first copy the files into /var/lib/mysql-files folder\n",
    "\n",
    "Example: sudo cp /home/john_doe/2024_Summer_Olympics_Wikipedia.pdf /var/lib/mysql-files"
   ]
  },
  {
   "cell_type": "code",
   "execution_count": 26,
   "metadata": {},
   "outputs": [
    {
     "data": {
      "application/vnd.mysql.notebook.dataframe+json": {
       "columns": [],
       "dtypes": [],
       "index": [],
       "rows": []
      },
      "text/html": [
       "<div>\n",
       "<style scoped>\n",
       "    .dataframe tbody tr th:only-of-type {\n",
       "        vertical-align: middle;\n",
       "    }\n",
       "\n",
       "    .dataframe tbody tr th {\n",
       "        vertical-align: top;\n",
       "    }\n",
       "\n",
       "    .dataframe thead th {\n",
       "        text-align: right;\n",
       "    }\n",
       "</style>\n",
       "<table border=\"1\" class=\"dataframe\">\n",
       "  <thead>\n",
       "    <tr style=\"text-align: right;\">\n",
       "      <th></th>\n",
       "    </tr>\n",
       "  </thead>\n",
       "  <tbody>\n",
       "  </tbody>\n",
       "</table>\n",
       "</div>"
      ],
      "text/plain": [
       "Empty DataFrame\n",
       "Columns: []\n",
       "Index: []"
      ]
     },
     "execution_count": 0,
     "metadata": {},
     "output_type": "display_data"
    }
   ],
   "source": [
    "# Delete the parsed_document table if exists\n",
    "execute_sql(f\"\"\"DROP TABLE if exists mlcorpus.parsed_document_segments;\"\"\")"
   ]
  },
  {
   "cell_type": "code",
   "execution_count": 27,
   "metadata": {},
   "outputs": [],
   "source": [
    "df = execute_sql(\"\"\"CALL sys.VECTOR_STORE_LOAD('file:///var/lib/mysql-files/2024_Summer_Olympics_Wikipedia.pdf', JSON_OBJECT(\"schema_name\",\"mlcorpus\",\"table_name\",\"parsed_document_segments\"))\"\"\")"
   ]
  },
  {
   "cell_type": "code",
   "execution_count": null,
   "metadata": {},
   "outputs": [
    {
     "output_type": "stream",
     "text": [
      "Progress:100%\n"
     ]
    }
   ],
   "source": [
    "df_status = execute_sql(f\"\"\"{df['task_status_query'][0]}\"\"\")\n",
    "print(f\"Progress:{json.loads(df_status.iloc[0,0])['progress']}%\")"
   ]
  },
  {
   "cell_type": "markdown",
   "metadata": {},
   "source": [
    "We can also summarize the documnet that is parsed using vector_store_load."
   ]
  },
  {
   "cell_type": "code",
   "execution_count": 28,
   "metadata": {},
   "outputs": [
    {
     "data": {
      "application/vnd.mysql.notebook.dataframe+json": {
       "columns": [],
       "dtypes": [],
       "index": [],
       "rows": []
      },
      "text/html": [
       "<div>\n",
       "<style scoped>\n",
       "    .dataframe tbody tr th:only-of-type {\n",
       "        vertical-align: middle;\n",
       "    }\n",
       "\n",
       "    .dataframe tbody tr th {\n",
       "        vertical-align: top;\n",
       "    }\n",
       "\n",
       "    .dataframe thead th {\n",
       "        text-align: right;\n",
       "    }\n",
       "</style>\n",
       "<table border=\"1\" class=\"dataframe\">\n",
       "  <thead>\n",
       "    <tr style=\"text-align: right;\">\n",
       "      <th></th>\n",
       "    </tr>\n",
       "  </thead>\n",
       "  <tbody>\n",
       "  </tbody>\n",
       "</table>\n",
       "</div>"
      ],
      "text/plain": [
       "Empty DataFrame\n",
       "Columns: []\n",
       "Index: []"
      ]
     },
     "execution_count": 0,
     "metadata": {},
     "output_type": "display_data"
    }
   ],
   "source": [
    "execute_sql(\"\"\"SELECT GROUP_CONCAT(segment ORDER BY segment_number SEPARATOR ' ') INTO @parsed_document FROM (SELECT segment, segment_number FROM mlcorpus.parsed_document_segments ORDER BY segment_number LIMIT 10) AS limited_segments;\"\"\")"
   ]
  },
  {
   "attachments": {},
   "cell_type": "markdown",
   "metadata": {},
   "source": [
    "Invoke [ML_GENERATE](https://dev.mysql.com/doc/heatwave/en/mys-hwgenai-ml-generate.html) with your variable @parsed_document and specifying the task as \"summarization\"."
   ]
  },
  {
   "cell_type": "code",
   "execution_count": 29,
   "metadata": {},
   "outputs": [
    {
     "data": {
      "text/plain": [
       "'Here is a summary of the text:\\n\\nThe 2024 Summer Olympics, officially known as Paris 2024, will be held in Paris, France from July 26 to August 11, 2024. The event will feature 204 participating nations and 10,714 athletes competing in 329 events across 32 sports. The opening ceremony is scheduled for July 26, while the closing ceremony will take place on August 11.'"
      ]
     },
     "execution_count": 0,
     "metadata": {},
     "output_type": "display_data"
    }
   ],
   "source": [
    "df = execute_sql(f\"\"\"SELECT JSON_PRETTY(sys.ML_GENERATE(@parsed_document, JSON_OBJECT(\"task\", \"summarization\", \"max_tokens\", 512)));\"\"\")\n",
    "json.loads(df.iat[0,0])[\"text\"]"
   ]
  }
 ],
 "metadata": {
  "kernelspec": {
   "display_name": "Python 3 (ipykernel)",
   "language": "python",
   "name": "python3"
  },
  "language_info": {
   "codemirror_mode": {
    "name": "ipython",
    "version": 3
   },
   "file_extension": ".py",
   "mimetype": "text/x-python",
   "name": "python",
   "nbconvert_exporter": "python",
   "pygments_lexer": "ipython3",
   "version": "3.8.18"
  },
  "mysql": {}
 },
 "nbformat": 4,
 "nbformat_minor": 4
}
