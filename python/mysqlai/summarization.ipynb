{
 "cells": [
  {
   "cell_type": "markdown",
   "id": "559d8a94-55eb-43c9-bebe-33d3953216a7",
   "metadata": {},
   "source": [
    "# HeatWave GenAI"
   ]
  },
  {
   "cell_type": "markdown",
   "id": "d2313fd6-aca0-422a-8697-abc8bfe20d15",
   "metadata": {},
   "source": [
    "HeatWave GenAI is the industry's first automated in-database Generative AI service. Seamlessly integrating large language models (LLMs) and embedding generation within the database, it allows you to effortlessly generate new and realistic content, speed up manual or repetitive tasks like summarizing large documents, perform Retrieval Augmented Generation (RAG), and engage in natural language interactions. Refer to https://www.oracle.com/heatwave/genai for further details on Heatwave GenAI."
   ]
  },
  {
   "cell_type": "markdown",
   "id": "1842993b-68d9-4e39-8b34-826ff34e9dac",
   "metadata": {},
   "source": [
    "\n",
    "This notebook demonstrates the application of ML_GENERATE for summarization using data from the 2024 Olympic Games.\n",
    "\n",
    "### References\n",
    "- https://www.economicsobservatory.com/what-happened-at-the-2024-olympics\n",
    "- https://en.wikipedia.org/wiki/2024_Summer_Olympics\n",
    "\n",
    "\n",
    "### Prerequistises\n",
    "Install the necessary packages\n",
    "\n",
    "- mysql-connector-python\n",
    "- pandas \n",
    "- langchain_community\n",
    "- unstructured"
   ]
  },
  {
   "cell_type": "markdown",
   "id": "cdfdf43d-fa00-418b-950c-379cdb9d51a1",
   "metadata": {},
   "source": [
    "##### Import Python packages"
   ]
  },
  {
   "cell_type": "code",
   "execution_count": 63,
   "id": "e9509e32-7ae6-440e-a1dc-85100bfe8976",
   "metadata": {},
   "outputs": [],
   "source": [
    "# import Python packages\n",
    "import os\n",
    "import json\n",
    "import numpy as np\n",
    "import pandas as pd\n",
    "import mysql.connector\n",
    "from langchain_community.document_loaders import UnstructuredURLLoader"
   ]
  },
  {
   "cell_type": "markdown",
   "id": "27c0c921-7a0c-4b41-a5c0-81da052e0856",
   "metadata": {},
   "source": [
    "### Connect to the HeatWave instance\n",
    "We create a connection to an active [HeatWave](https://www.oracle.com/mysql/) instance using the [MySQL Connector/Python](https://dev.mysql.com/doc/connector-python/en/). We also define an API to execute a SQL query using a cursor, and the result is returned as a Pandas DataFrame. Modify the below variables to point to your HeatWave instance. On AWS, set USE_BASTION to False. On OCI, please create a tunnel on your machine using the below command by substituting the variable with their respective values\n",
    "\n",
    "ssh -o ServerAliveInterval=60 -i BASTION_PKEY -L LOCAL_PORT:DBSYSTEM_IP:DBSYSTEM_PORT BASTION_USER@BASTION_IP"
   ]
  },
  {
   "cell_type": "code",
   "execution_count": null,
   "id": "5caf4bd2-db0f-4ce2-b18f-a442af4ba58b",
   "metadata": {},
   "outputs": [],
   "source": [
    "BASTION_IP =\"ip_address\"\n",
    "BASTION_USER = \"opc\"\n",
    "BASTION_PKEY = \"private_key_file\"\n",
    "DBSYSTEM_IP = \"ip_address\"\n",
    "DBSYSTEM_PORT = 3306\n",
    "DBSYSTEM_USER = \"username\"\n",
    "DBSYSTEM_PASSWORD = \"password\"\n",
    "DBSYSTEM_SCHEMA = \"mlcorpus\"\n",
    "LOCAL_PORT = 3306\n",
    "USE_BASTION = True\n",
    "\n",
    "if USE_BASTION is True:\n",
    "    DBSYSTEM_IP = \"127.0.0.1\"\n",
    "else:\n",
    "    LOCAL_PORT = DBSYSTEM_PORT\n",
    "\n",
    "mydb = mysql.connector.connect(\n",
    "    host=DBSYSTEM_IP,\n",
    "    port=LOCAL_PORT,\n",
    "    user=DBSYSTEM_USER,\n",
    "    password=DBSYSTEM_PASSWORD,\n",
    "    database=DBSYSTEM_SCHEMA,\n",
    "    allow_local_infile=True,\n",
    "    use_pure=True,\n",
    "    autocommit=True,\n",
    ")\n",
    "mycursor = mydb.cursor()\n",
    "\n",
    "\n",
    "# Helper function to execute SQL queries and return the results as a Pandas DataFrame\n",
    "def execute_sql(sql: str) -> pd.DataFrame:\n",
    "    mycursor.execute(sql)\n",
    "    return pd.DataFrame(mycursor.fetchall(), columns=mycursor.column_names)\n"
   ]
  },
  {
   "cell_type": "markdown",
   "id": "2fd376b2-d27f-4745-802b-d7aac2e81ff2",
   "metadata": {},
   "source": [
    "# ML_GENERATE operation"
   ]
  },
  {
   "cell_type": "markdown",
   "id": "0db8cf1d-c602-41e4-a6b3-a71e749d84e5",
   "metadata": {},
   "source": [
    "You can perform content summarization using the ML_GENERATE procedure (by specifying the task type as summarization)."
   ]
  },
  {
   "cell_type": "markdown",
   "id": "5d31dfc5-91cb-445c-a029-2c090b8d4df1",
   "metadata": {},
   "source": [
    "### Text summarization"
   ]
  },
  {
   "cell_type": "markdown",
   "id": "5d67d5c6",
   "metadata": {},
   "source": [
    "Load the 2024 Olympic data from the URL."
   ]
  },
  {
   "cell_type": "code",
   "execution_count": 65,
   "id": "cd58c4bc",
   "metadata": {},
   "outputs": [],
   "source": [
    "url = \"https://www.economicsobservatory.com/what-happened-at-the-2024-olympics\"\n",
    "loader = UnstructuredURLLoader(urls=[url])\n",
    "docs = loader.load()"
   ]
  },
  {
   "cell_type": "markdown",
   "id": "18849016",
   "metadata": {},
   "source": [
    "Set a variable (@document, in this example) to the content of the document you want to summarize."
   ]
  },
  {
   "cell_type": "code",
   "execution_count": 66,
   "id": "41075024-deee-4d5a-8855-de3e04a44774",
   "metadata": {},
   "outputs": [
    {
     "data": {
      "text/html": [
       "<div>\n",
       "<style scoped>\n",
       "    .dataframe tbody tr th:only-of-type {\n",
       "        vertical-align: middle;\n",
       "    }\n",
       "\n",
       "    .dataframe tbody tr th {\n",
       "        vertical-align: top;\n",
       "    }\n",
       "\n",
       "    .dataframe thead th {\n",
       "        text-align: right;\n",
       "    }\n",
       "</style>\n",
       "<table border=\"1\" class=\"dataframe\">\n",
       "  <thead>\n",
       "    <tr style=\"text-align: right;\">\n",
       "      <th></th>\n",
       "    </tr>\n",
       "  </thead>\n",
       "  <tbody>\n",
       "  </tbody>\n",
       "</table>\n",
       "</div>"
      ],
      "text/plain": [
       "Empty DataFrame\n",
       "Columns: []\n",
       "Index: []"
      ]
     },
     "execution_count": 66,
     "metadata": {},
     "output_type": "execute_result"
    }
   ],
   "source": [
    "execute_sql(f\"\"\"SET @document = '{docs[0].page_content}';\"\"\")"
   ]
  },
  {
   "cell_type": "markdown",
   "id": "6265602c-4030-43a0-8a3c-16dc7328f753",
   "metadata": {},
   "source": [
    "Invoke ML_GENERATE with your variable @document, but this time specifying the task as \"summarization\"."
   ]
  },
  {
   "cell_type": "code",
   "execution_count": 67,
   "id": "47ff188f-4053-4eaa-8e85-59981ee1a5da",
   "metadata": {},
   "outputs": [
    {
     "data": {
      "text/plain": [
       "\"The 2024 Summer Olympic Games, held in Paris, France, saw significant milestones and challenges. The games featured 10,500 Olympians from 206 territories and the International Olympic Committee (IOC) Refugee Olympic Team, with China and the United States having the largest delegations. The games highlighted issues of representation, equality, cost control, and home advantage.\\n\\nThe number of countries participating in the Olympics has increased over time, but there was a notable decrease in 1980 due to the American-led boycott of the Moscow games. The Paris games saw four countries winning their first-ever medals, including Saint Lucia's Julien Alfred who won gold in the women's 100m sprint.\\n\\nThe distribution of medals among top-performing countries reversed slightly from previous Olympics, with China and the United States claiming the most medals. However, when considering victory ratios, Kenya, North Korea, and Saint Lucia outperformed traditional Olympic giants.\\n\\nThe Paris games also saw a significant increase in prize money for athletes, with some sports introducing new compensation policies. The IOC maintains an amateur competition policy, but individual sport federations have autonomy over their allocated funds. Some countries, like Hong Kong, offered generous medal compensation schemes, while others did not compensate their medallists at all.\\n\\nThe games were also marked by concerns about cost control and the economic impact of hosting the Olympics. Paris 2024 is projected to have cost around $8.7 billion, with significant investments in infrastructure and security. The legacy of previous Olympics has shown that investing in infrastructure can have positive effects on local economies, but evidence suggests that success in the Olympics does not necessarily boost public participation in sport.\\n\\nOverall, the 2024 Summer Olympic Games highlighted various issues and trends, including representation, equality, cost control, and home advantage, as well as the economic impact of hosting the games.\""
      ]
     },
     "execution_count": 67,
     "metadata": {},
     "output_type": "execute_result"
    }
   ],
   "source": [
    "df = execute_sql(f\"\"\"SELECT JSON_PRETTY(sys.ML_GENERATE(@document, JSON_OBJECT(\"task\", \"summarization\", \"model_id\", \"llama3.2-3b-instruct-v1\", \"max_tokens\", 512)));\"\"\")\n",
    "json.loads(df.iat[0,0])[\"text\"]"
   ]
  },
  {
   "cell_type": "code",
   "execution_count": 68,
   "id": "60828563-dc76-4c63-880e-26109e1c36ef",
   "metadata": {},
   "outputs": [
    {
     "data": {
      "text/html": [
       "<div>\n",
       "<style scoped>\n",
       "    .dataframe tbody tr th:only-of-type {\n",
       "        vertical-align: middle;\n",
       "    }\n",
       "\n",
       "    .dataframe tbody tr th {\n",
       "        vertical-align: top;\n",
       "    }\n",
       "\n",
       "    .dataframe thead th {\n",
       "        text-align: right;\n",
       "    }\n",
       "</style>\n",
       "<table border=\"1\" class=\"dataframe\">\n",
       "  <thead>\n",
       "    <tr style=\"text-align: right;\">\n",
       "      <th></th>\n",
       "    </tr>\n",
       "  </thead>\n",
       "  <tbody>\n",
       "  </tbody>\n",
       "</table>\n",
       "</div>"
      ],
      "text/plain": [
       "Empty DataFrame\n",
       "Columns: []\n",
       "Index: []"
      ]
     },
     "execution_count": 68,
     "metadata": {},
     "output_type": "execute_result"
    }
   ],
   "source": [
    "# Delete the vector_store_data_1 table if exists\n",
    "execute_sql(f\"\"\"DROP TABLE if exists vector_store_data_1;\"\"\")"
   ]
  },
  {
   "cell_type": "markdown",
   "id": "b92da584-432a-4f1a-91ab-4ef58c5b2dc5",
   "metadata": {},
   "source": [
    "Use vector_store_load to create a vector store from the files that contain the proprietary data.\n",
    "\n",
    "To do that first copy the files into /var/lib/mysql-files folder\n",
    "\n",
    "Example: sudo cp /home/john_doe/2024_Summer_Olympics_Wikipedia.pdf /var/lib/mysql-files"
   ]
  },
  {
   "cell_type": "code",
   "execution_count": 69,
   "id": "89a1c9d4-5105-4b91-b6b8-8836f1c03577",
   "metadata": {},
   "outputs": [
    {
     "data": {
      "text/html": [
       "<div>\n",
       "<style scoped>\n",
       "    .dataframe tbody tr th:only-of-type {\n",
       "        vertical-align: middle;\n",
       "    }\n",
       "\n",
       "    .dataframe tbody tr th {\n",
       "        vertical-align: top;\n",
       "    }\n",
       "\n",
       "    .dataframe thead th {\n",
       "        text-align: right;\n",
       "    }\n",
       "</style>\n",
       "<table border=\"1\" class=\"dataframe\">\n",
       "  <thead>\n",
       "    <tr style=\"text-align: right;\">\n",
       "      <th></th>\n",
       "    </tr>\n",
       "  </thead>\n",
       "  <tbody>\n",
       "  </tbody>\n",
       "</table>\n",
       "</div>"
      ],
      "text/plain": [
       "Empty DataFrame\n",
       "Columns: []\n",
       "Index: []"
      ]
     },
     "execution_count": 69,
     "metadata": {},
     "output_type": "execute_result"
    }
   ],
   "source": [
    "execute_sql(\"\"\"CALL sys.vector_store_load('file:///var/lib/mysql-files/2024_Summer_Olympics_Wikipedia.pdf', JSON_OBJECT(\"schema_name\",\"mlcorpus\",\"table_name\",\"vector_store_data_1\"))\"\"\")\n"
   ]
  },
  {
   "cell_type": "markdown",
   "id": "a6f68a27",
   "metadata": {},
   "source": [
    "We can also summarize the documnet that is parsed using vector_store_load."
   ]
  },
  {
   "cell_type": "code",
   "execution_count": 70,
   "id": "7edc5684",
   "metadata": {},
   "outputs": [
    {
     "data": {
      "text/html": [
       "<div>\n",
       "<style scoped>\n",
       "    .dataframe tbody tr th:only-of-type {\n",
       "        vertical-align: middle;\n",
       "    }\n",
       "\n",
       "    .dataframe tbody tr th {\n",
       "        vertical-align: top;\n",
       "    }\n",
       "\n",
       "    .dataframe thead th {\n",
       "        text-align: right;\n",
       "    }\n",
       "</style>\n",
       "<table border=\"1\" class=\"dataframe\">\n",
       "  <thead>\n",
       "    <tr style=\"text-align: right;\">\n",
       "      <th></th>\n",
       "    </tr>\n",
       "  </thead>\n",
       "  <tbody>\n",
       "  </tbody>\n",
       "</table>\n",
       "</div>"
      ],
      "text/plain": [
       "Empty DataFrame\n",
       "Columns: []\n",
       "Index: []"
      ]
     },
     "execution_count": 70,
     "metadata": {},
     "output_type": "execute_result"
    }
   ],
   "source": [
    "execute_sql(\"\"\"SELECT GROUP_CONCAT(segment ORDER BY segment_number SEPARATOR ' ') INTO @parsed_document FROM (SELECT segment, segment_number FROM mlcorpus.vector_store_data_1 ORDER BY segment_number LIMIT 10) AS limited_segments;\"\"\")"
   ]
  },
  {
   "cell_type": "code",
   "execution_count": 71,
   "id": "0cacc0a9",
   "metadata": {},
   "outputs": [
    {
     "data": {
      "text/plain": [
       "\"Here is a summary of the text:\\n\\nThe 2024 Summer Olympics, officially known as Paris 2024, will be held in Paris, France from July 26 to August 11, 2024. The games will feature 204 nations and 10,714 athletes competing in 32 sports across 329 events. This will be the third time Paris hosts the Summer Olympics, after 1900 and 1924. The games were awarded to Paris at the 2017 IOC Session, with a unique process that allowed both Paris and Los Angeles to bid for the 2024 and 2028 Games. The games will feature several new sports, including breaking, and will be the final Olympics under IOC President Thomas Bach's presidency. The opening ceremony will take place outside of a stadium for the first time in modern Olympic history, with athletes paraded by boat along the Seine. The United States is expected to top the medal table, followed closely by China. The games are expected to cost €9 billion and have broken records for ticket sales, with over 9.5 million tickets sold. Despite some controversies, the games were considered a success upon their conclusion.\""
      ]
     },
     "execution_count": 71,
     "metadata": {},
     "output_type": "execute_result"
    }
   ],
   "source": [
    "df = execute_sql(f\"\"\"SELECT JSON_PRETTY(sys.ML_GENERATE(@parsed_document, JSON_OBJECT(\"task\", \"summarization\", \"model_id\", \"llama3.2-3b-instruct-v1\", \"max_tokens\", 512)));\"\"\")\n",
    "json.loads(df.iat[0,0])[\"text\"]"
   ]
  }
 ],
 "metadata": {
  "kernelspec": {
   "display_name": "Python 3 (ipykernel)",
   "language": "python",
   "name": "python3"
  },
  "language_info": {
   "codemirror_mode": {
    "name": "ipython",
    "version": 3
   },
   "file_extension": ".py",
   "mimetype": "text/x-python",
   "name": "python",
   "nbconvert_exporter": "python",
   "pygments_lexer": "ipython3",
   "version": "3.8.18"
  }
 },
 "nbformat": 4,
 "nbformat_minor": 5
}
