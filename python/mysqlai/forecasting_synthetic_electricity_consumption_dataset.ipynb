{
    "cells": [
        {
            "cell_type": "markdown",
            "attachments": {},
            "id": "f980f4aa-eddc-4976-9af9-13a85263f2db",
            "metadata": {},
            "source": [
                "# MySQL AI\n",
                "MySQL AI provides developers to build rich applications with MySQL leveraging built in machine learning, GenAI, LLMs and semantic search. They can create vectors from documents stored in a local file system. Customers can deploy these AI applications on premise or migrate them to MySQL HeatWave for lower cost, higher performance, richer functionality and latest LLMs with no change to their application. This gives developers the flexibility to build their applications on MySQL EE and then deploy them either on premise or in the cloud."
            ]
        },
        {
            "cell_type": "markdown",
            "id": "50bcff27",
            "metadata": {},
            "source": [
                "### Machine Learning with Electricity Consumption Dataset Notebook\n",
                "This notebook investigates the construction of a time-series forecasting model using a synthetic Electricity Consumption dataset, with the aim of predicting future electricity consumption patterns.\n",
                " \n",
                "The dataset represents daily electricity consumption in San Francisco between January 1, 2024 and December 31, 2026 (adjustable via function parameters).\n",
                "It is synthetic, meaning values are simulated rather than observed, but it incorporates realistic consumption dynamics, including:\n",
                "- Seasonal variation (summer air conditioning demand, winter heating demand)\n",
                "- Weekly cycles (weekdays vs. weekends)\n",
                "- Long-term trends (growth due to electrification and population increase)\n",
                "- Holiday effects (reduced consumption during holidays)\n",
                "- Weather events (heat waves, cold snaps)\n",
                "- Economic impacts (COVID recovery and electrification)\n",
                "- Random noise to simulate natural variability\n",
                "\n",
                "The dataset is at daily resolution.\n",
                "\n",
                "Features in the Dataset:\n",
                "- date (datetime): Calendar date of the observation.\n",
                "- consumption_mw (float): Simulated daily electricity consumption in megawatts (MW). Ranges around 400–800 MW, depending on seasonal, weekly, and random factors. This is the target/endogenous variable for forecasting.\n",
                "- month (int): Month of the year (1–12). Helps capture seasonality.\n",
                "- year (int): Calendar year (2024–2026 in the default setup). Encodes long-term trend.\n",
                "- day_of_week (int): Day of the week (0=Monday, 6=Sunday). Important for weekly consumption cycles.\n",
                "- is_weekend (bool): Indicator if the date falls on Saturday or Sunday. Weekend days generally have lower electricity demand.\n",
                "- is_holiday (bool): Indicator if the day is a major U.S. holiday (New Year’s Day, July 4th, Thanksgiving, Christmas). Holidays have reduced consumption.\n",
                "- day_of_year (int): Ordinal day of the year (1–365/366). Useful for modeling annual seasonality.\n",
                "\n",
                "\n",
                "This notebook provides a comprehensive guide to building and evaluating a forecasting model using the synthtic Electricity Consumption dataset."
            ]
        },
        {
            "cell_type": "markdown",
            "id": "a7926d29",
            "metadata": {},
            "source": [
                "### References\n",
                "- https://blogs.oracle.com/mysql/post/announcing-mysql-ai\n",
                "- https://dev.mysql.com/doc/mysql-ai/9.4/en/\n",
                "- https://dev.mysql.com/doc/dev/mysql-studio/latest/#overview\n",
                "\n",
                "### Prerequistises\n",
                "\n",
                "- mysql-connector-python\n",
                "- pandas \n",
                "- scikit-learn\n",
                "- sqlalchemy\n",
                "- matplotlib"
            ]
        },
        {
            "cell_type": "code",
            "execution_count": 39,
            "id": "16a028ef",
            "metadata": {},
            "outputs": [],
            "source": [
                "import os\n",
                "import json\n",
                "import zipfile\n",
                "import shutil\n",
                "import numpy as np\n",
                "import pandas as pd\n",
                "import sqlalchemy\n",
                "import mysql.connector\n",
                "from datetime import datetime\n",
                "import matplotlib.pyplot as plt\n",
                "from sklearn.model_selection import train_test_split"
            ]
        },
        {
            "cell_type": "markdown",
            "id": "d452f97d",
            "metadata": {},
            "source": [
                "### Connect to MySQL AI instance\n",
                "We create a connection to an active MySQL AI instance using the [MySQL Connector/Python](https://dev.mysql.com/doc/connector-python/en/). We also define an API to execute a SQL query using a cursor, and the result is returned as a Pandas DataFrame. Modify the below variables to point to your MySQL AI instance.\n",
                "\n",
                " - In MySQL Studio, connections are restricted to only allow localhost as the host. \n",
                " - In MySQL Studio, the only accepted password values are the string unused or None. "
            ]
        },
        {
            "cell_type": "code",
            "execution_count": null,
            "id": "5256a035",
            "metadata": {},
            "outputs": [],
            "source": [
                "HOST = 'localhost'\n",
                "PORT = 3306\n",
                "USER = 'root'\n",
                "PASSWORD = 'unused'\n",
                "SCHEMA = 'mlcorpus'\n",
                "\n",
                "\n",
                "myconn = mysql.connector.connect(\n",
                "    host=HOST,\n",
                "    port=PORT,\n",
                "    user=USER,\n",
                "    password=PASSWORD,\n",
                "    database=SCHEMA,\n",
                "    allow_local_infile=True,\n",
                "    use_pure=True,\n",
                "    autocommit=True,\n",
                ")\n",
                "mycursor = myconn.cursor()\n",
                "\n",
                "\n",
                "# Helper function to execute SQL queries and return the results as a Pandas DataFrame\n",
                "def execute_sql(sql: str) -> pd.DataFrame:\n",
                "    mycursor.execute(sql)\n",
                "    return pd.DataFrame(mycursor.fetchall(), columns=mycursor.column_names)"
            ]
        },
        {
            "cell_type": "markdown",
            "id": "34595ddb",
            "metadata": {},
            "source": [
                "Below we use `is_holiday`, which flags major U.S. holidays, and `generate_sf_electricity_data`, which creates a synthetic daily electricity consumption dataset for San Francisco with realistic seasonal, weekly, and trend effects. "
            ]
        },
        {
            "cell_type": "code",
            "execution_count": 41,
            "id": "4ada9613",
            "metadata": {},
            "outputs": [],
            "source": [
                "\n",
                "def is_holiday(date):\n",
                "    \"\"\"Check if date is a major holiday that affects electricity consumption\"\"\"\n",
                "    month = date.month\n",
                "    day = date.day\n",
                "    \n",
                "    # Major holidays\n",
                "    holidays = [\n",
                "        (1, 1),   # New Year's Day\n",
                "        (7, 4),   # July 4th\n",
                "        (11, 24), # Thanksgiving (simplified)\n",
                "        (12, 25), # Christmas\n",
                "    ]\n",
                "    \n",
                "    return any(month == m and day == d for m, d in holidays)\n",
                "\n",
                "def generate_sf_electricity_data(start_date='2024-01-01', end_date='2026-12-31'):\n",
                "    \"\"\"\n",
                "    Generate synthetic electricity consumption data for San Francisco\n",
                "    \n",
                "    Parameters:\n",
                "    start_date (str): Start date in YYYY-MM-DD format\n",
                "    end_date (str): End date in YYYY-MM-DD format\n",
                "    \n",
                "    Returns:\n",
                "    pandas.DataFrame: DataFrame with electricity consumption data\n",
                "    \"\"\"\n",
                "    \n",
                "    # Convert string dates to datetime\n",
                "    start = datetime.strptime(start_date, '%Y-%m-%d')\n",
                "    end = datetime.strptime(end_date, '%Y-%m-%d')\n",
                "    \n",
                "    # Create date range\n",
                "    dates = pd.date_range(start=start, end=end, freq='D')\n",
                "    \n",
                "    # Base consumption (MW) - SF uses about 400-600 MW average\n",
                "    base_consumption = 500\n",
                "    \n",
                "    data = []\n",
                "    \n",
                "    for date in dates:\n",
                "        day_of_year = date.timetuple().tm_yday\n",
                "        day_of_week = date.weekday()  # 0=Monday, 6=Sunday\n",
                "        month = date.month\n",
                "        year = date.year\n",
                "        \n",
                "        # Seasonal pattern (higher in summer due to AC, and winter due to heating)\n",
                "        seasonal_factor = 1 + 0.3 * np.sin(2 * np.pi * day_of_year / 365.25) + \\\n",
                "                         0.15 * np.cos(4 * np.pi * day_of_year / 365.25)\n",
                "        \n",
                "        # Weekly pattern (lower on weekends)\n",
                "        weekly_factor = 0.85 if day_of_week >= 5 else 1.0  # Saturday=5, Sunday=6\n",
                "        \n",
                "        # Long-term trend (increase over years due to population growth and electrification)\n",
                "        trend_factor = 1 + (year - 2022) * 0.025\n",
                "        \n",
                "        # Holiday effects (reduced consumption on major holidays)\n",
                "        holiday_factor = 0.7 if is_holiday(date) else 1.0\n",
                "        \n",
                "        # Random noise\n",
                "        noise = 1 + (np.random.random() - 0.5) * 0.1\n",
                "        \n",
                "        # Weather variations (more extreme in summer/winter)\n",
                "        weather_factor = 1 + (np.random.random() - 0.5) * 0.2 * \\\n",
                "                        abs(np.sin(2 * np.pi * day_of_year / 365.25))\n",
                "        \n",
                "        # Special weather events\n",
                "        special_event_factor = 1.0\n",
                "        \n",
                "        # Heat waves (summer peaks)\n",
                "        if 6 <= month <= 8 and np.random.random() < 0.05:\n",
                "            special_event_factor = 1.4  # 40% increase during heat waves\n",
                "        \n",
                "        # Cold snaps (winter peaks)\n",
                "        if month in [12, 1, 2] and np.random.random() < 0.03:\n",
                "            special_event_factor = 1.25  # 25% increase during cold snaps\n",
                "        \n",
                "        # Economic impacts (post-COVID patterns)\n",
                "        economic_factor = 1.0\n",
                "        if year == 2022:\n",
                "            economic_factor = 0.98  # Slight reduction due to remote work continuation\n",
                "        elif year == 2023:\n",
                "            economic_factor = 1.02  # Recovery and return to office\n",
                "        elif year >= 2024:\n",
                "            economic_factor = 1.01  # Steady growth with increased electrification\n",
                "        \n",
                "        # Calculate final consumption\n",
                "        consumption = base_consumption * seasonal_factor * weekly_factor * \\\n",
                "                     trend_factor * holiday_factor * noise * weather_factor * \\\n",
                "                     special_event_factor * economic_factor\n",
                "        \n",
                "        data.append({\n",
                "            'date': date,\n",
                "            'consumption_mw': round(consumption, 1),\n",
                "            'month': month,\n",
                "            'year': year,\n",
                "            'day_of_week': day_of_week,\n",
                "            'is_weekend': day_of_week >= 5,\n",
                "            'is_holiday': is_holiday(date),\n",
                "            'day_of_year': day_of_year\n",
                "        })\n",
                "    \n",
                "    return pd.DataFrame(data)"
            ]
        },
        {
            "cell_type": "code",
            "execution_count": 42,
            "id": "79bcc3ae",
            "metadata": {},
            "outputs": [
                {
                    "output_type": "display_data",
                    "data": {
                        "text/plain": "           date  consumption_mw  month  ...  is_weekend  is_holiday  day_of_year\n0    2024-01-01           424.0      1  ...       False        True            1\n1    2024-01-02           619.7      1  ...       False       False            2\n2    2024-01-03           592.5      1  ...       False       False            3\n3    2024-01-04           628.7      1  ...       False       False            4\n4    2024-01-05           639.8      1  ...       False       False            5\n...         ...             ...    ...  ...         ...         ...          ...\n1091 2026-12-27           525.0     12  ...        True       False          361\n1092 2026-12-28           610.2     12  ...       False       False          362\n1093 2026-12-29           647.6     12  ...       False       False          363\n1094 2026-12-30           665.5     12  ...       False       False          364\n1095 2026-12-31           669.5     12  ...       False       False          365\n\n[1096 rows x 8 columns]",
                        "text/html": "<div>\n<style scoped>\n    .dataframe tbody tr th:only-of-type {\n        vertical-align: middle;\n    }\n\n    .dataframe tbody tr th {\n        vertical-align: top;\n    }\n\n    .dataframe thead th {\n        text-align: right;\n    }\n</style>\n<table border=\"1\" class=\"dataframe\">\n  <thead>\n    <tr style=\"text-align: right;\">\n      <th></th>\n      <th>date</th>\n      <th>consumption_mw</th>\n      <th>month</th>\n      <th>year</th>\n      <th>day_of_week</th>\n      <th>is_weekend</th>\n      <th>is_holiday</th>\n      <th>day_of_year</th>\n    </tr>\n  </thead>\n  <tbody>\n    <tr>\n      <th>0</th>\n      <td>2024-01-01</td>\n      <td>424.0</td>\n      <td>1</td>\n      <td>2024</td>\n      <td>0</td>\n      <td>False</td>\n      <td>True</td>\n      <td>1</td>\n    </tr>\n    <tr>\n      <th>1</th>\n      <td>2024-01-02</td>\n      <td>619.7</td>\n      <td>1</td>\n      <td>2024</td>\n      <td>1</td>\n      <td>False</td>\n      <td>False</td>\n      <td>2</td>\n    </tr>\n    <tr>\n      <th>2</th>\n      <td>2024-01-03</td>\n      <td>592.5</td>\n      <td>1</td>\n      <td>2024</td>\n      <td>2</td>\n      <td>False</td>\n      <td>False</td>\n      <td>3</td>\n    </tr>\n    <tr>\n      <th>3</th>\n      <td>2024-01-04</td>\n      <td>628.7</td>\n      <td>1</td>\n      <td>2024</td>\n      <td>3</td>\n      <td>False</td>\n      <td>False</td>\n      <td>4</td>\n    </tr>\n    <tr>\n      <th>4</th>\n      <td>2024-01-05</td>\n      <td>639.8</td>\n      <td>1</td>\n      <td>2024</td>\n      <td>4</td>\n      <td>False</td>\n      <td>False</td>\n      <td>5</td>\n    </tr>\n    <tr>\n      <th>...</th>\n      <td>...</td>\n      <td>...</td>\n      <td>...</td>\n      <td>...</td>\n      <td>...</td>\n      <td>...</td>\n      <td>...</td>\n      <td>...</td>\n    </tr>\n    <tr>\n      <th>1091</th>\n      <td>2026-12-27</td>\n      <td>525.0</td>\n      <td>12</td>\n      <td>2026</td>\n      <td>6</td>\n      <td>True</td>\n      <td>False</td>\n      <td>361</td>\n    </tr>\n    <tr>\n      <th>1092</th>\n      <td>2026-12-28</td>\n      <td>610.2</td>\n      <td>12</td>\n      <td>2026</td>\n      <td>0</td>\n      <td>False</td>\n      <td>False</td>\n      <td>362</td>\n    </tr>\n    <tr>\n      <th>1093</th>\n      <td>2026-12-29</td>\n      <td>647.6</td>\n      <td>12</td>\n      <td>2026</td>\n      <td>1</td>\n      <td>False</td>\n      <td>False</td>\n      <td>363</td>\n    </tr>\n    <tr>\n      <th>1094</th>\n      <td>2026-12-30</td>\n      <td>665.5</td>\n      <td>12</td>\n      <td>2026</td>\n      <td>2</td>\n      <td>False</td>\n      <td>False</td>\n      <td>364</td>\n    </tr>\n    <tr>\n      <th>1095</th>\n      <td>2026-12-31</td>\n      <td>669.5</td>\n      <td>12</td>\n      <td>2026</td>\n      <td>3</td>\n      <td>False</td>\n      <td>False</td>\n      <td>365</td>\n    </tr>\n  </tbody>\n</table>\n<p>1096 rows × 8 columns</p>\n</div>"
                    },
                    "metadata": {},
                    "execution_count": 0
                }
            ],
            "source": [
                "# Set random seed for reproducibility\n",
                "np.random.seed(42)\n",
                "\n",
                "# Generate the synthetic dataset\n",
                "df = generate_sf_electricity_data()\n",
                "df"
            ]
        },
        {
            "cell_type": "markdown",
            "id": "d8fb03b2",
            "metadata": {},
            "source": [
                "### Split the data into a training set and an evaluation set\n",
                "In machine learning, the train-test split is a crucial technique used to evaluate the performance of a model on unseen data. It involves dividing the available dataset into two distinct subsets:   \n",
                "\n",
                "- Training set: This subset is used to train the machine learning model. The model learns the underlying patterns and relationships in the data by analyzing this set.   \n",
                "- Test set: This subset is held back and not used during the training process. Once the model is trained, it's applied to the test set to assess its ability to generalize to new, unseen data."
            ]
        },
        {
            "cell_type": "code",
            "execution_count": 43,
            "id": "896be451",
            "metadata": {},
            "outputs": [],
            "source": [
                "# Time-based split\n",
                "df_train, df_test = train_test_split(df, test_size=0.3, shuffle=False)"
            ]
        },
        {
            "cell_type": "markdown",
            "id": "bd8f4886",
            "metadata": {},
            "source": [
                " ### Load the Electricity Consumption dataset into MySQL tables\n",
                " We connect to the MySQL AI instance using SQLAlchemy, map Pandas data types to their corresponding MySQL dialects, and writes two DataFrames (df_train and df_test) to separate tables (electricity_consumption_train and electricity_consumption_test) in MySQL, replacing any existing tables."
            ]
        },
        {
            "cell_type": "code",
            "execution_count": 44,
            "id": "b0f1b82b",
            "metadata": {},
            "outputs": [
                {
                    "output_type": "display_data",
                    "data": {
                        "text/plain": "-1"
                    },
                    "metadata": {},
                    "execution_count": 0
                }
            ],
            "source": [
                "# Create a SQLAlchemy engine instance to connect to the MySQL database\n",
                "sql_engine = sqlalchemy.create_engine(\n",
                "    f\"mysql+mysqlconnector://{USER}:{PASSWORD}@{HOST}:{PORT}/{SCHEMA}\",\n",
                "    echo=False,\n",
                "    echo_pool=False,\n",
                "    pool_pre_ping=True,\n",
                "    pool_recycle=3600,\n",
                ")\n",
                "\n",
                "# Define a dictionary mapping pandas data types to their corresponding SQLAlchemy dialects\n",
                "dtype_mapping = {\n",
                "    \"uint64\": sqlalchemy.dialects.mysql.INTEGER(unsigned=True),\n",
                "    \"int64\": sqlalchemy.dialects.mysql.INTEGER(),\n",
                "    \"float64\": sqlalchemy.dialects.mysql.FLOAT(),\n",
                "    \"object\": sqlalchemy.dialects.mysql.VARCHAR(length=255),\n",
                "    \"datetime64[ns]\": sqlalchemy.dialects.mysql.DATETIME(timezone=False),\n",
                "    \"bool\": sqlalchemy.dialects.mysql.TINYINT(),\n",
                "}\n",
                "# Prepare the dtype dict for sqlalchemy/pd.DataFrame.to_sql\n",
                "dtypes = {col: dtype_mapping[str(dtype)] for col, dtype in zip(df.columns, df.dtypes)}\n",
                "\n",
                "# Write the training DataFrame to the 'electricity_consumption_train' table in the database\n",
                "df_train.to_sql(\n",
                "    f\"electricity_consumption_train\",\n",
                "    con=sql_engine,\n",
                "    if_exists=\"replace\",\n",
                "    dtype=dtypes,\n",
                "    chunksize=5000,\n",
                "    index=False,\n",
                ")\n",
                "# Write the testing DataFrame to the 'electricity_consumption_test' table in the database\n",
                "df_test.to_sql(\n",
                "    f\"electricity_consumption_test\",\n",
                "    con=sql_engine,\n",
                "    if_exists=\"replace\",\n",
                "    dtype=dtypes,\n",
                "    chunksize=5000,\n",
                "    index=False,\n",
                ")"
            ]
        },
        {
            "cell_type": "markdown",
            "id": "2baf5ee8",
            "metadata": {},
            "source": [
                "### Create an AutoML Forecasting Model from the Electricity Consumption Dataset\n",
                "In this section, we will train a time-series forecasting model using MySQL AI AutoML’s [ML_TRAIN](https://dev.mysql.com/doc/heatwave/en/mys-hwaml-ml-train.html) routine on the Electricity Consumption dataset. The objective is to predict future electricity consumption based on historical data, leveraging AutoML's advanced automated facilities for time-series modeling.\n",
                "\n",
                "We specify electricity consumption (e.g., load in mW) as the endogenous variable, enabling AutoML to automatically detect temporal patterns—such as trend and seasonality—and forecast upcoming load values.\n",
                "\n",
                "A model is then generated and is stored in the model catalog and can be used for forecasting tasks. "
            ]
        },
        {
            "cell_type": "code",
            "execution_count": 45,
            "id": "9f549e3f",
            "metadata": {},
            "outputs": [
                {
                    "output_type": "display_data",
                    "data": {
                        "text/plain": "Empty DataFrame\nColumns: []\nIndex: []",
                        "text/html": "<div>\n<style scoped>\n    .dataframe tbody tr th:only-of-type {\n        vertical-align: middle;\n    }\n\n    .dataframe tbody tr th {\n        vertical-align: top;\n    }\n\n    .dataframe thead th {\n        text-align: right;\n    }\n</style>\n<table border=\"1\" class=\"dataframe\">\n  <thead>\n    <tr style=\"text-align: right;\">\n      <th></th>\n    </tr>\n  </thead>\n  <tbody>\n  </tbody>\n</table>\n</div>",
                        "application/vnd.mysql.notebook.dataframe+json": {
                            "columns": [],
                            "dtypes": [],
                            "index": [],
                            "rows": []
                        }
                    },
                    "metadata": {},
                    "execution_count": 0
                }
            ],
            "source": [
                "endogenous_column = 'consumption_mw'\n",
                "datetime_index_column = 'date'\n",
                "\n",
                "execute_sql(\"\"\"SET @model = NULL;\"\"\")\n",
                "execute_sql(\n",
                "    f\"\"\"CALL sys.ML_TRAIN('{SCHEMA}.electricity_consumption_train', NULL, JSON_OBJECT('task', 'forecasting', 'datetime_index', '{datetime_index_column}',\n",
                "    'endogenous_variables', JSON_ARRAY('{endogenous_column}')), @model)\"\"\"\n",
                ")\n",
                "model = execute_sql(\"\"\"SELECT @model;\"\"\").iat[0,0]\n",
                "execute_sql(f\"\"\"CALL sys.ML_MODEL_LOAD('{model}', NULL)\"\"\")"
            ]
        },
        {
            "cell_type": "markdown",
            "id": "9466af07",
            "metadata": {},
            "source": [
                "### Evaluate the model\n",
                "We look at the overall performance of the model on unseen data by using the [ML_SCORE](https://dev.mysql.com/doc/heatwave/en/mys-hwaml-ml-score.html) routine. It allows us to quantify the quality of the predictions. The user needs to provide which metrics he wants to use. "
            ]
        },
        {
            "cell_type": "code",
            "execution_count": 46,
            "id": "b6b211f8-8153-4ac6-a151-083624acef64",
            "metadata": {},
            "outputs": [
                {
                    "output_type": "stream",
                    "text": [
                        "The model error is -0.23\n"
                    ]
                }
            ],
            "source": [
                "endogenous_column = 'consumption_mw'\n",
                "execute_sql(\n",
                "    f\"\"\"CALL sys.ML_SCORE('{SCHEMA}.electricity_consumption_test', '{endogenous_column}', '{model}', 'neg_sym_mean_abs_percent_error', @score, NULL);\"\"\"\n",
                ")\n",
                "score = execute_sql(\"\"\"SELECT @score;\"\"\").iat[0,0]\n",
                "print(f\"The model error is {score:.2f}\")"
            ]
        },
        {
            "cell_type": "markdown",
            "id": "59149aaf",
            "metadata": {},
            "source": [
                "### Generating predictions to evaluate model performance on unseen test data\n",
                "We invoke the [ML_PREDICT_TABLE](https://dev.mysql.com/doc/heatwave/en/mys-hwaml-ml-predict-table.html) API to generate prediction for the above model on our test data. The output table contains an extra column ml_results which contains the forecast for endogenous variables."
            ]
        },
        {
            "cell_type": "code",
            "execution_count": 37,
            "id": "ddbcfc41",
            "metadata": {},
            "outputs": [
                {
                    "output_type": "display_data",
                    "data": {
                        "text/plain": "                       date  ...                                         ml_results\n0  2026-02-05T23:00:00.000Z  ...  {\"predictions\": {\"consumption_mw\": 696.8530262...\n1  2026-02-06T23:00:00.000Z  ...  {\"predictions\": {\"consumption_mw\": 590.7196469...\n2  2026-02-07T23:00:00.000Z  ...  {\"predictions\": {\"consumption_mw\": 579.3429087...\n3  2026-02-08T23:00:00.000Z  ...  {\"predictions\": {\"consumption_mw\": 696.5564666...\n4  2026-02-09T23:00:00.000Z  ...  {\"predictions\": {\"consumption_mw\": 691.8184284...\n5  2026-02-10T23:00:00.000Z  ...  {\"predictions\": {\"consumption_mw\": 686.9492350...\n6  2026-02-11T23:00:00.000Z  ...  {\"predictions\": {\"consumption_mw\": 697.6467820...\n7  2026-02-12T23:00:00.000Z  ...  {\"predictions\": {\"consumption_mw\": 686.5321865...\n8  2026-02-13T23:00:00.000Z  ...  {\"predictions\": {\"consumption_mw\": 582.3964301...\n9  2026-02-14T23:00:00.000Z  ...  {\"predictions\": {\"consumption_mw\": 571.3777845...\n\n[10 rows x 3 columns]",
                        "text/html": "<div>\n<style scoped>\n    .dataframe tbody tr th:only-of-type {\n        vertical-align: middle;\n    }\n\n    .dataframe tbody tr th {\n        vertical-align: top;\n    }\n\n    .dataframe thead th {\n        text-align: right;\n    }\n</style>\n<table border=\"1\" class=\"dataframe\">\n  <thead>\n    <tr style=\"text-align: right;\">\n      <th></th>\n      <th>date</th>\n      <th>consumption_mw</th>\n      <th>ml_results</th>\n    </tr>\n  </thead>\n  <tbody>\n    <tr>\n      <th>0</th>\n      <td>2026-02-05T23:00:00.000Z</td>\n      <td>680.6</td>\n      <td>{\"predictions\": {\"consumption_mw\": 696.8530262...</td>\n    </tr>\n    <tr>\n      <th>1</th>\n      <td>2026-02-06T23:00:00.000Z</td>\n      <td>547.0</td>\n      <td>{\"predictions\": {\"consumption_mw\": 590.7196469...</td>\n    </tr>\n    <tr>\n      <th>2</th>\n      <td>2026-02-07T23:00:00.000Z</td>\n      <td>586.8</td>\n      <td>{\"predictions\": {\"consumption_mw\": 579.3429087...</td>\n    </tr>\n    <tr>\n      <th>3</th>\n      <td>2026-02-08T23:00:00.000Z</td>\n      <td>698.5</td>\n      <td>{\"predictions\": {\"consumption_mw\": 696.5564666...</td>\n    </tr>\n    <tr>\n      <th>4</th>\n      <td>2026-02-09T23:00:00.000Z</td>\n      <td>638.4</td>\n      <td>{\"predictions\": {\"consumption_mw\": 691.8184284...</td>\n    </tr>\n    <tr>\n      <th>...</th>\n      <td>...</td>\n      <td>...</td>\n      <td>...</td>\n    </tr>\n    <tr>\n      <th>324</th>\n      <td>2026-12-26T23:00:00.000Z</td>\n      <td>525.0</td>\n      <td>{\"predictions\": {\"consumption_mw\": 523.8062398...</td>\n    </tr>\n    <tr>\n      <th>325</th>\n      <td>2026-12-27T23:00:00.000Z</td>\n      <td>610.2</td>\n      <td>{\"predictions\": {\"consumption_mw\": 628.8896616...</td>\n    </tr>\n    <tr>\n      <th>326</th>\n      <td>2026-12-28T23:00:00.000Z</td>\n      <td>647.6</td>\n      <td>{\"predictions\": {\"consumption_mw\": 625.9930626...</td>\n    </tr>\n    <tr>\n      <th>327</th>\n      <td>2026-12-29T23:00:00.000Z</td>\n      <td>665.5</td>\n      <td>{\"predictions\": {\"consumption_mw\": 622.9350299...</td>\n    </tr>\n    <tr>\n      <th>328</th>\n      <td>2026-12-30T23:00:00.000Z</td>\n      <td>669.5</td>\n      <td>{\"predictions\": {\"consumption_mw\": 633.7458458...</td>\n    </tr>\n  </tbody>\n</table>\n<p>329 rows × 3 columns</p>\n</div>",
                        "application/vnd.mysql.notebook.dataframe+json": {
                            "columns": [
                                "date",
                                "consumption_mw",
                                "ml_results"
                            ],
                            "dtypes": [
                                "object",
                                "float64",
                                "object"
                            ],
                            "index": [
                                0,
                                1,
                                2,
                                3,
                                4,
                                5,
                                6,
                                7,
                                8,
                                9,
                                10,
                                11,
                                12,
                                13,
                                14,
                                15,
                                16,
                                17,
                                18,
                                19,
                                20,
                                21,
                                22,
                                23,
                                24,
                                25,
                                26,
                                27,
                                28,
                                29,
                                30,
                                31,
                                32,
                                33,
                                34,
                                35,
                                36,
                                37,
                                38,
                                39,
                                40,
                                41,
                                42,
                                43,
                                44,
                                45,
                                46,
                                47,
                                48,
                                49,
                                50,
                                51,
                                52,
                                53,
                                54,
                                55,
                                56,
                                57,
                                58,
                                59,
                                60,
                                61,
                                62,
                                63,
                                64,
                                65,
                                66,
                                67,
                                68,
                                69,
                                70,
                                71,
                                72,
                                73,
                                74,
                                75,
                                76,
                                77,
                                78,
                                79,
                                80,
                                81,
                                82,
                                83,
                                84,
                                85,
                                86,
                                87,
                                88,
                                89,
                                90,
                                91,
                                92,
                                93,
                                94,
                                95,
                                96,
                                97,
                                98,
                                99,
                                100,
                                101,
                                102,
                                103,
                                104,
                                105,
                                106,
                                107,
                                108,
                                109,
                                110,
                                111,
                                112,
                                113,
                                114,
                                115,
                                116,
                                117,
                                118,
                                119,
                                120,
                                121,
                                122,
                                123,
                                124,
                                125,
                                126,
                                127,
                                128,
                                129,
                                130,
                                131,
                                132,
                                133,
                                134,
                                135,
                                136,
                                137,
                                138,
                                139,
                                140,
                                141,
                                142,
                                143,
                                144,
                                145,
                                146,
                                147,
                                148,
                                149,
                                150,
                                151,
                                152,
                                153,
                                154,
                                155,
                                156,
                                157,
                                158,
                                159,
                                160,
                                161,
                                162,
                                163,
                                164,
                                165,
                                166,
                                167,
                                168,
                                169,
                                170,
                                171,
                                172,
                                173,
                                174,
                                175,
                                176,
                                177,
                                178,
                                179,
                                180,
                                181,
                                182,
                                183,
                                184,
                                185,
                                186,
                                187,
                                188,
                                189,
                                190,
                                191,
                                192,
                                193,
                                194,
                                195,
                                196,
                                197,
                                198,
                                199,
                                200,
                                201,
                                202,
                                203,
                                204,
                                205,
                                206,
                                207,
                                208,
                                209,
                                210,
                                211,
                                212,
                                213,
                                214,
                                215,
                                216,
                                217,
                                218,
                                219,
                                220,
                                221,
                                222,
                                223,
                                224,
                                225,
                                226,
                                227,
                                228,
                                229,
                                230,
                                231,
                                232,
                                233,
                                234,
                                235,
                                236,
                                237,
                                238,
                                239,
                                240,
                                241,
                                242,
                                243,
                                244,
                                245,
                                246,
                                247,
                                248,
                                249,
                                250,
                                251,
                                252,
                                253,
                                254,
                                255,
                                256,
                                257,
                                258,
                                259,
                                260,
                                261,
                                262,
                                263,
                                264,
                                265,
                                266,
                                267,
                                268,
                                269,
                                270,
                                271,
                                272,
                                273,
                                274,
                                275,
                                276,
                                277,
                                278,
                                279,
                                280,
                                281,
                                282,
                                283,
                                284,
                                285,
                                286,
                                287,
                                288,
                                289,
                                290,
                                291,
                                292,
                                293,
                                294,
                                295,
                                296,
                                297,
                                298,
                                299,
                                300,
                                301,
                                302,
                                303,
                                304,
                                305,
                                306,
                                307,
                                308,
                                309,
                                310,
                                311,
                                312,
                                313,
                                314,
                                315,
                                316,
                                317,
                                318,
                                319,
                                320,
                                321,
                                322,
                                323,
                                324,
                                325,
                                326,
                                327,
                                328
                            ],
                            "rows": [
                                [
                                    "2026-02-05T23:00:00.000Z",
                                    680.6,
                                    "{\"predictions\": {\"consumption_mw\": 696.8530262713226, \"prediction_interval_consumption_mw\": [690.8435405054918, 700.3688044752927]}}"
                                ],
                                [
                                    "2026-02-06T23:00:00.000Z",
                                    547,
                                    "{\"predictions\": {\"consumption_mw\": 590.7196469888644, \"prediction_interval_consumption_mw\": [587.3969132838113, 593.7677545804439]}}"
                                ],
                                [
                                    "2026-02-07T23:00:00.000Z",
                                    586.8,
                                    "{\"predictions\": {\"consumption_mw\": 579.3429087669608, \"prediction_interval_consumption_mw\": [577.0337486690939, 582.9288517517134]}}"
                                ],
                                [
                                    "2026-02-08T23:00:00.000Z",
                                    698.5,
                                    "{\"predictions\": {\"consumption_mw\": 696.5564666198735, \"prediction_interval_consumption_mw\": [695.4008309688597, 701.3714399339947]}}"
                                ],
                                [
                                    "2026-02-09T23:00:00.000Z",
                                    638.4,
                                    "{\"predictions\": {\"consumption_mw\": 691.8184284577969, \"prediction_interval_consumption_mw\": [685.5211680301475, 694.3492512831563]}}"
                                ],
                                [
                                    "2026-02-10T23:00:00.000Z",
                                    624.4,
                                    "{\"predictions\": {\"consumption_mw\": 686.9492350903616, \"prediction_interval_consumption_mw\": [683.7715477193897, 691.9544003958347]}}"
                                ],
                                [
                                    "2026-02-11T23:00:00.000Z",
                                    737.8,
                                    "{\"predictions\": {\"consumption_mw\": 697.6467820486566, \"prediction_interval_consumption_mw\": [691.3306661212799, 702.2727609331669]}}"
                                ],
                                [
                                    "2026-02-12T23:00:00.000Z",
                                    676.9,
                                    "{\"predictions\": {\"consumption_mw\": 686.532186555136, \"prediction_interval_consumption_mw\": [681.0573080878083, 688.8762901358722]}}"
                                ],
                                [
                                    "2026-02-13T23:00:00.000Z",
                                    557.7,
                                    "{\"predictions\": {\"consumption_mw\": 582.3964301973034, \"prediction_interval_consumption_mw\": [575.1560495522987, 581.1248982816305]}}"
                                ],
                                [
                                    "2026-02-14T23:00:00.000Z",
                                    581.8,
                                    "{\"predictions\": {\"consumption_mw\": 571.3777845247973, \"prediction_interval_consumption_mw\": [567.0059853634988, 573.995726651159]}}"
                                ],
                                [
                                    "2026-02-15T23:00:00.000Z",
                                    647.1,
                                    "{\"predictions\": {\"consumption_mw\": 686.8619540862971, \"prediction_interval_consumption_mw\": [678.1869096249125, 687.2881767820309]}}"
                                ],
                                [
                                    "2026-02-16T23:00:00.000Z",
                                    767.7,
                                    "{\"predictions\": {\"consumption_mw\": 682.3975695123789, \"prediction_interval_consumption_mw\": [672.0666093584169, 682.2763571992658]}}"
                                ],
                                [
                                    "2026-02-17T23:00:00.000Z",
                                    669.1,
                                    "{\"predictions\": {\"consumption_mw\": 677.7969478139986, \"prediction_interval_consumption_mw\": [672.0089574195918, 680.5182564766088]}}"
                                ],
                                [
                                    "2026-02-18T23:00:00.000Z",
                                    699.7,
                                    "{\"predictions\": {\"consumption_mw\": 688.5198347181162, \"prediction_interval_consumption_mw\": [682.2872914594176, 691.1861985955844]}}"
                                ],
                                [
                                    "2026-02-19T23:00:00.000Z",
                                    701.8,
                                    "{\"predictions\": {\"consumption_mw\": 677.7576073871973, \"prediction_interval_consumption_mw\": [672.7406444579518, 681.0540213919418]}}"
                                ],
                                [
                                    "2026-02-20T23:00:00.000Z",
                                    575.4,
                                    "{\"predictions\": {\"consumption_mw\": 575.3178285744722, \"prediction_interval_consumption_mw\": [567.3513896563376, 576.1342978597464]}}"
                                ],
                                [
                                    "2026-02-21T23:00:00.000Z",
                                    532.7,
                                    "{\"predictions\": {\"consumption_mw\": 564.6015126339768, \"prediction_interval_consumption_mw\": [557.1767010534999, 565.9068395312082]}}"
                                ],
                                [
                                    "2026-02-22T23:00:00.000Z",
                                    680.2,
                                    "{\"predictions\": {\"consumption_mw\": 678.6117761694954, \"prediction_interval_consumption_mw\": [670.5372594884234, 678.2796905309533]}}"
                                ],
                                [
                                    "2026-02-23T23:00:00.000Z",
                                    708.9,
                                    "{\"predictions\": {\"consumption_mw\": 674.3777603570218, \"prediction_interval_consumption_mw\": [663.4328271395973, 675.062301762717]}}"
                                ],
                                [
                                    "2026-02-24T23:00:00.000Z",
                                    630.5,
                                    "{\"predictions\": {\"consumption_mw\": 670.0033757552393, \"prediction_interval_consumption_mw\": [663.4715093655442, 673.3313168297553]}}"
                                ],
                                [
                                    "2026-02-25T23:00:00.000Z",
                                    723.7,
                                    "{\"predictions\": {\"consumption_mw\": 680.7455027992028, \"prediction_interval_consumption_mw\": [670.5967092701688, 685.7156197159685]}}"
                                ],
                                [
                                    "2026-02-26T23:00:00.000Z",
                                    608.8,
                                    "{\"predictions\": {\"consumption_mw\": 670.2812207329627, \"prediction_interval_consumption_mw\": [655.5637903757954, 669.3240374895505]}}"
                                ],
                                [
                                    "2026-02-27T23:00:00.000Z",
                                    584.7,
                                    "{\"predictions\": {\"consumption_mw\": 569.284760763304, \"prediction_interval_consumption_mw\": [558.9575718608246, 568.289385328123]}}"
                                ],
                                [
                                    "2026-02-28T23:00:00.000Z",
                                    571.8,
                                    "{\"predictions\": {\"consumption_mw\": 558.8244876207275, \"prediction_interval_consumption_mw\": [552.6832795712227, 563.1520364863895]}}"
                                ],
                                [
                                    "2026-03-01T23:00:00.000Z",
                                    686.1,
                                    "{\"predictions\": {\"consumption_mw\": 671.5762449855291, \"prediction_interval_consumption_mw\": [662.6354229222002, 673.4643592589873]}}"
                                ],
                                [
                                    "2026-03-02T23:00:00.000Z",
                                    627.1,
                                    "{\"predictions\": {\"consumption_mw\": 667.5368282288664, \"prediction_interval_consumption_mw\": [653.9977821190058, 666.4612017598719]}}"
                                ],
                                [
                                    "2026-03-03T23:00:00.000Z",
                                    577,
                                    "{\"predictions\": {\"consumption_mw\": 663.3536606208244, \"prediction_interval_consumption_mw\": [653.2596041133189, 665.2848525780752]}}"
                                ],
                                [
                                    "2026-03-04T23:00:00.000Z",
                                    637.7,
                                    "{\"predictions\": {\"consumption_mw\": 674.1104799852602, \"prediction_interval_consumption_mw\": [659.4378998928262, 673.4316466095988]}}"
                                ],
                                [
                                    "2026-03-05T23:00:00.000Z",
                                    645.5,
                                    "{\"predictions\": {\"consumption_mw\": 663.8988560019628, \"prediction_interval_consumption_mw\": [656.8859922308544, 669.5951328878707]}}"
                                ],
                                [
                                    "2026-03-06T23:00:00.000Z",
                                    586.1,
                                    "{\"predictions\": {\"consumption_mw\": 564.1332298358113, \"prediction_interval_consumption_mw\": [552.9094371788117, 564.5516510455411]}}"
                                ],
                                [
                                    "2026-03-07T23:00:00.000Z",
                                    543.5,
                                    "{\"predictions\": {\"consumption_mw\": 553.890382989536, \"prediction_interval_consumption_mw\": [541.6162684475008, 553.8549789818222]}}"
                                ],
                                [
                                    "2026-03-08T23:00:00.000Z",
                                    688.7,
                                    "{\"predictions\": {\"consumption_mw\": 665.5658251313695, \"prediction_interval_consumption_mw\": [652.7567134892241, 666.1120312543344]}}"
                                ],
                                [
                                    "2026-03-09T23:00:00.000Z",
                                    622.1,
                                    "{\"predictions\": {\"consumption_mw\": 661.6912851492783, \"prediction_interval_consumption_mw\": [649.857399459941, 661.7210774611478]}}"
                                ],
                                [
                                    "2026-03-10T23:00:00.000Z",
                                    615.1,
                                    "{\"predictions\": {\"consumption_mw\": 657.6702087131687, \"prediction_interval_consumption_mw\": [642.4694389050658, 657.5664930972607]}}"
                                ],
                                [
                                    "2026-03-11T23:00:00.000Z",
                                    723.2,
                                    "{\"predictions\": {\"consumption_mw\": 668.4383121134465, \"prediction_interval_consumption_mw\": [653.4828365594578, 668.190839602134]}}"
                                ],
                                [
                                    "2026-03-12T23:00:00.000Z",
                                    650.1,
                                    "{\"predictions\": {\"consumption_mw\": 658.441481395743, \"prediction_interval_consumption_mw\": [639.6085335250548, 654.472857429625]}}"
                                ],
                                [
                                    "2026-03-13T23:00:00.000Z",
                                    539.7,
                                    "{\"predictions\": {\"consumption_mw\": 559.7273568179467, \"prediction_interval_consumption_mw\": [545.4001218378512, 560.9355136566436]}}"
                                ],
                                [
                                    "2026-03-14T23:00:00.000Z",
                                    596.3,
                                    "{\"predictions\": {\"consumption_mw\": 549.6695749151635, \"prediction_interval_consumption_mw\": [532.2460285793079, 548.2712973499445]}}"
                                ],
                                [
                                    "2026-03-15T23:00:00.000Z",
                                    633.2,
                                    "{\"predictions\": {\"consumption_mw\": 660.4232368866224, \"prediction_interval_consumption_mw\": [640.2034277740374, 659.213706971102]}}"
                                ],
                                [
                                    "2026-03-16T23:00:00.000Z",
                                    577.8,
                                    "{\"predictions\": {\"consumption_mw\": 656.6887557857135, \"prediction_interval_consumption_mw\": [642.7864878515782, 661.5204292272462]}}"
                                ],
                                [
                                    "2026-03-17T23:00:00.000Z",
                                    595.8,
                                    "{\"predictions\": {\"consumption_mw\": 652.8054310776246, \"prediction_interval_consumption_mw\": [639.8323154401995, 659.1225279739207]}}"
                                ],
                                [
                                    "2026-03-18T23:00:00.000Z",
                                    673.5,
                                    "{\"predictions\": {\"consumption_mw\": 663.5822512022571, \"prediction_interval_consumption_mw\": [641.2041261562711, 658.5614929012318]}}"
                                ],
                                [
                                    "2026-03-19T23:00:00.000Z",
                                    595.5,
                                    "{\"predictions\": {\"consumption_mw\": 653.7684217940968, \"prediction_interval_consumption_mw\": [630.6370007894119, 649.4846439138282]}}"
                                ],
                                [
                                    "2026-03-20T23:00:00.000Z",
                                    590,
                                    "{\"predictions\": {\"consumption_mw\": 555.9539786708992, \"prediction_interval_consumption_mw\": [544.2094123497387, 560.0974368785425]}}"
                                ],
                                [
                                    "2026-03-21T23:00:00.000Z",
                                    543,
                                    "{\"predictions\": {\"consumption_mw\": 546.0540356031133, \"prediction_interval_consumption_mw\": [535.9431269834678, 550.3901084803933]}}"
                                ],
                                [
                                    "2026-03-22T23:00:00.000Z",
                                    590.6,
                                    "{\"predictions\": {\"consumption_mw\": 656.0173156382042, \"prediction_interval_consumption_mw\": [631.0066778284641, 651.428674897959]}}"
                                ],
                                [
                                    "2026-03-23T23:00:00.000Z",
                                    635.9,
                                    "{\"predictions\": {\"consumption_mw\": 652.4020811945339, \"prediction_interval_consumption_mw\": [633.8858386039514, 657.6920322068066]}}"
                                ],
                                [
                                    "2026-03-24T23:00:00.000Z",
                                    673.5,
                                    "{\"predictions\": {\"consumption_mw\": 648.6360826673898, \"prediction_interval_consumption_mw\": [634.0488634427114, 655.3804487525949]}}"
                                ],
                                [
                                    "2026-03-25T23:00:00.000Z",
                                    684.4,
                                    "{\"predictions\": {\"consumption_mw\": 659.4196758501677, \"prediction_interval_consumption_mw\": [641.6094624569125, 661.6960281633669]}}"
                                ],
                                [
                                    "2026-03-26T23:00:00.000Z",
                                    625.9,
                                    "{\"predictions\": {\"consumption_mw\": 649.7620561141255, \"prediction_interval_consumption_mw\": [630.1777622551105, 649.9235165991748]}}"
                                ],
                                [
                                    "2026-03-27T23:00:00.000Z",
                                    556.6,
                                    "{\"predictions\": {\"consumption_mw\": 552.7184190453646, \"prediction_interval_consumption_mw\": [534.5934677963029, 550.4374986165537]}}"
                                ],
                                [
                                    "2026-03-28T23:00:00.000Z",
                                    520.7,
                                    "{\"predictions\": {\"consumption_mw\": 542.9533300027377, \"prediction_interval_consumption_mw\": [526.6699059328424, 544.1532888586883]}}"
                                ],
                                [
                                    "2026-03-29T22:00:00.000Z",
                                    653.2,
                                    "{\"predictions\": {\"consumption_mw\": 652.2381917336959, \"prediction_interval_consumption_mw\": [627.3372853540876, 646.4490570549999]}}"
                                ],
                                [
                                    "2026-03-30T22:00:00.000Z",
                                    645.2,
                                    "{\"predictions\": {\"consumption_mw\": 648.7246844340194, \"prediction_interval_consumption_mw\": [626.3835552238426, 650.7179444433842]}}"
                                ],
                                [
                                    "2026-03-31T22:00:00.000Z",
                                    589.8,
                                    "{\"predictions\": {\"consumption_mw\": 645.0588072574948, \"prediction_interval_consumption_mw\": [622.2944073736176, 646.4343929649209]}}"
                                ],
                                [
                                    "2026-04-01T22:00:00.000Z",
                                    596.5,
                                    "{\"predictions\": {\"consumption_mw\": 655.847694468081, \"prediction_interval_consumption_mw\": [640.8619744526436, 662.7584178253037]}}"
                                ],
                                [
                                    "2026-04-02T22:00:00.000Z",
                                    657.8,
                                    "{\"predictions\": {\"consumption_mw\": 646.3236334965108, \"prediction_interval_consumption_mw\": [628.5890239490082, 651.9301635818925]}}"
                                ],
                                [
                                    "2026-04-03T22:00:00.000Z",
                                    566.9,
                                    "{\"predictions\": {\"consumption_mw\": 549.9411471938539, \"prediction_interval_consumption_mw\": [536.3054766672193, 551.7232395291488]}}"
                                ],
                                [
                                    "2026-04-04T22:00:00.000Z",
                                    605.6,
                                    "{\"predictions\": {\"consumption_mw\": 540.2914492921573, \"prediction_interval_consumption_mw\": [523.774289950233, 548.3413160919021]}}"
                                ],
                                [
                                    "2026-04-05T22:00:00.000Z",
                                    616.6,
                                    "{\"predictions\": {\"consumption_mw\": 648.9934731482923, \"prediction_interval_consumption_mw\": [626.2879796983549, 649.1568676859415]}}"
                                ],
                                [
                                    "2026-04-06T22:00:00.000Z",
                                    706.9,
                                    "{\"predictions\": {\"consumption_mw\": 645.5668958623942, \"prediction_interval_consumption_mw\": [626.7203531167343, 649.9638499222162]}}"
                                ],
                                [
                                    "2026-04-07T22:00:00.000Z",
                                    557,
                                    "{\"predictions\": {\"consumption_mw\": 641.9866006405746, \"prediction_interval_consumption_mw\": [626.4095263168658, 655.1523724217299]}}"
                                ],
                                [
                                    "2026-04-08T22:00:00.000Z",
                                    689.7,
                                    "{\"predictions\": {\"consumption_mw\": 652.7796505896524, \"prediction_interval_consumption_mw\": [636.8625727946267, 661.3345775761026]}}"
                                ],
                                [
                                    "2026-04-09T22:00:00.000Z",
                                    642.9,
                                    "{\"predictions\": {\"consumption_mw\": 643.3699439304468, \"prediction_interval_consumption_mw\": [621.7645055899878, 643.7298098532235]}}"
                                ],
                                [
                                    "2026-04-10T22:00:00.000Z",
                                    539.6,
                                    "{\"predictions\": {\"consumption_mw\": 547.5551160897896, \"prediction_interval_consumption_mw\": [537.2073654012673, 557.5109397002508]}}"
                                ],
                                [
                                    "2026-04-11T22:00:00.000Z",
                                    549.7,
                                    "{\"predictions\": {\"consumption_mw\": 538.0042851433386, \"prediction_interval_consumption_mw\": [523.7270424142487, 542.974617238523]}}"
                                ],
                                [
                                    "2026-04-12T22:00:00.000Z",
                                    719.9,
                                    "{\"predictions\": {\"consumption_mw\": 646.2051971207881, \"prediction_interval_consumption_mw\": [627.5418920201462, 653.9646322753575]}}"
                                ],
                                [
                                    "2026-04-13T22:00:00.000Z",
                                    626.5,
                                    "{\"predictions\": {\"consumption_mw\": 642.8530153219791, \"prediction_interval_consumption_mw\": [618.4592672697161, 643.9154146464589]}}"
                                ],
                                [
                                    "2026-04-14T22:00:00.000Z",
                                    665.5,
                                    "{\"predictions\": {\"consumption_mw\": 639.3459798590171, \"prediction_interval_consumption_mw\": [617.9597511451709, 643.7265774834292]}}"
                                ],
                                [
                                    "2026-04-15T22:00:00.000Z",
                                    665.9,
                                    "{\"predictions\": {\"consumption_mw\": 650.1423226796389, \"prediction_interval_consumption_mw\": [625.4594453415939, 653.555571272085]}}"
                                ],
                                [
                                    "2026-04-16T22:00:00.000Z",
                                    650.5,
                                    "{\"predictions\": {\"consumption_mw\": 640.8306475672639, \"prediction_interval_consumption_mw\": [623.753161721252, 646.51306971645]}}"
                                ],
                                [
                                    "2026-04-17T22:00:00.000Z",
                                    575,
                                    "{\"predictions\": {\"consumption_mw\": 545.5036248348583, \"prediction_interval_consumption_mw\": [528.6178507264057, 551.123097652682]}}"
                                ],
                                [
                                    "2026-04-18T22:00:00.000Z",
                                    550.3,
                                    "{\"predictions\": {\"consumption_mw\": 536.03759925765, \"prediction_interval_consumption_mw\": [522.5766220530977, 545.1265909074366]}}"
                                ],
                                [
                                    "2026-04-19T22:00:00.000Z",
                                    642.7,
                                    "{\"predictions\": {\"consumption_mw\": 643.8073769088154, \"prediction_interval_consumption_mw\": [623.3274127595039, 648.9597120676191]}}"
                                ],
                                [
                                    "2026-04-20T22:00:00.000Z",
                                    722.3,
                                    "{\"predictions\": {\"consumption_mw\": 640.5189453465733, \"prediction_interval_consumption_mw\": [616.4346217977844, 648.7726368313486]}}"
                                ],
                                [
                                    "2026-04-21T22:00:00.000Z",
                                    691.6,
                                    "{\"predictions\": {\"consumption_mw\": 637.0747002537669, \"prediction_interval_consumption_mw\": [615.4893393533326, 639.5531894784054]}}"
                                ],
                                [
                                    "2026-04-22T22:00:00.000Z",
                                    591.4,
                                    "{\"predictions\": {\"consumption_mw\": 647.8736634906813, \"prediction_interval_consumption_mw\": [633.5823812922641, 661.3357271182665]}}"
                                ],
                                [
                                    "2026-04-23T22:00:00.000Z",
                                    675.8,
                                    "{\"predictions\": {\"consumption_mw\": 638.6461164084191, \"prediction_interval_consumption_mw\": [614.9200677318263, 642.2493724299255]}}"
                                ],
                                [
                                    "2026-04-24T22:00:00.000Z",
                                    526.3,
                                    "{\"predictions\": {\"consumption_mw\": 543.7385894060533, \"prediction_interval_consumption_mw\": [527.2105434643959, 549.5878294911344]}}"
                                ],
                                [
                                    "2026-04-25T22:00:00.000Z",
                                    562.7,
                                    "{\"predictions\": {\"consumption_mw\": 534.345379121362, \"prediction_interval_consumption_mw\": [513.1309920897756, 536.7999917740229]}}"
                                ],
                                [
                                    "2026-04-26T22:00:00.000Z",
                                    669.4,
                                    "{\"predictions\": {\"consumption_mw\": 641.7440132022267, \"prediction_interval_consumption_mw\": [615.296338224898, 654.1515035348477]}}"
                                ],
                                [
                                    "2026-04-27T22:00:00.000Z",
                                    674.8,
                                    "{\"predictions\": {\"consumption_mw\": 638.5102707615983, \"prediction_interval_consumption_mw\": [613.8777703698188, 640.5470115011985]}}"
                                ],
                                [
                                    "2026-04-28T22:00:00.000Z",
                                    675.9,
                                    "{\"predictions\": {\"consumption_mw\": 635.1199012875888, \"prediction_interval_consumption_mw\": [615.5468343140096, 643.4816730927495]}}"
                                ],
                                [
                                    "2026-04-29T22:00:00.000Z",
                                    708.5,
                                    "{\"predictions\": {\"consumption_mw\": 645.9209622356028, \"prediction_interval_consumption_mw\": [619.809477389604, 650.6978352672924]}}"
                                ],
                                [
                                    "2026-04-30T22:00:00.000Z",
                                    627.4,
                                    "{\"predictions\": {\"consumption_mw\": 636.7656779982307, \"prediction_interval_consumption_mw\": [608.7760475834832, 638.7047827948303]}}"
                                ],
                                [
                                    "2026-05-01T22:00:00.000Z",
                                    573.8,
                                    "{\"predictions\": {\"consumption_mw\": 542.2191341663862, \"prediction_interval_consumption_mw\": [529.3065415037191, 557.4673127672205]}}"
                                ],
                                [
                                    "2026-05-02T22:00:00.000Z",
                                    496.5,
                                    "{\"predictions\": {\"consumption_mw\": 532.8884975099264, \"prediction_interval_consumption_mw\": [518.1443426880279, 548.7825731432124]}}"
                                ],
                                [
                                    "2026-05-03T22:00:00.000Z",
                                    667.6,
                                    "{\"predictions\": {\"consumption_mw\": 639.9674714059107, \"prediction_interval_consumption_mw\": [611.8943582998238, 640.0580311614355]}}"
                                ],
                                [
                                    "2026-05-04T22:00:00.000Z",
                                    720.3,
                                    "{\"predictions\": {\"consumption_mw\": 636.7806901839427, \"prediction_interval_consumption_mw\": [607.2942034534335, 638.7691309656216]}}"
                                ],
                                [
                                    "2026-05-05T22:00:00.000Z",
                                    659.1,
                                    "{\"predictions\": {\"consumption_mw\": 633.4365907729609, \"prediction_interval_consumption_mw\": [607.1682281648428, 641.0442799739434]}}"
                                ],
                                [
                                    "2026-05-06T22:00:00.000Z",
                                    680.6,
                                    "{\"predictions\": {\"consumption_mw\": 644.2393408473168, \"prediction_interval_consumption_mw\": [618.4873068581268, 664.6553127807646]}}"
                                ],
                                [
                                    "2026-05-07T22:00:00.000Z",
                                    690.5,
                                    "{\"predictions\": {\"consumption_mw\": 635.1461771253964, \"prediction_interval_consumption_mw\": [605.6325257994424, 647.8187342014814]}}"
                                ],
                                [
                                    "2026-05-08T22:00:00.000Z",
                                    560.7,
                                    "{\"predictions\": {\"consumption_mw\": 540.9104374073421, \"prediction_interval_consumption_mw\": [521.5819279847108, 552.003519852905]}}"
                                ],
                                [
                                    "2026-05-09T22:00:00.000Z",
                                    593.7,
                                    "{\"predictions\": {\"consumption_mw\": 531.6336128211716, \"prediction_interval_consumption_mw\": [507.31716233067027, 537.4834632693706]}}"
                                ],
                                [
                                    "2026-05-10T22:00:00.000Z",
                                    650.4,
                                    "{\"predictions\": {\"consumption_mw\": 638.4371493301446, \"prediction_interval_consumption_mw\": [608.4603247619866, 645.4189583751362]}}"
                                ],
                                [
                                    "2026-05-11T22:00:00.000Z",
                                    702,
                                    "{\"predictions\": {\"consumption_mw\": 635.2907271523999, \"prediction_interval_consumption_mw\": [608.8408621108125, 645.9285818073231]}}"
                                ],
                                [
                                    "2026-05-12T22:00:00.000Z",
                                    626.3,
                                    "{\"predictions\": {\"consumption_mw\": 631.9863983045531, \"prediction_interval_consumption_mw\": [603.267152314794, 646.0378087321025]}}"
                                ],
                                [
                                    "2026-05-13T22:00:00.000Z",
                                    718.1,
                                    "{\"predictions\": {\"consumption_mw\": 642.790516300973, \"prediction_interval_consumption_mw\": [613.021057841969, 659.2485607963623]}}"
                                ],
                                [
                                    "2026-05-14T22:00:00.000Z",
                                    620.3,
                                    "{\"predictions\": {\"consumption_mw\": 633.7507910578165, \"prediction_interval_consumption_mw\": [601.0451345457294, 645.4379997687325]}}"
                                ],
                                [
                                    "2026-05-15T22:00:00.000Z",
                                    539.1,
                                    "{\"predictions\": {\"consumption_mw\": 539.782779637773, \"prediction_interval_consumption_mw\": [520.2274718446276, 551.587837045718]}}"
                                ],
                                [
                                    "2026-05-16T22:00:00.000Z",
                                    589.5,
                                    "{\"predictions\": {\"consumption_mw\": 530.5522618237562, \"prediction_interval_consumption_mw\": [502.06697518512425, 537.1922206926336]}}"
                                ],
                                [
                                    "2026-05-17T22:00:00.000Z",
                                    695.9,
                                    "{\"predictions\": {\"consumption_mw\": 637.1183771549719, \"prediction_interval_consumption_mw\": [601.604925416445, 653.6401459185713]}}"
                                ],
                                [
                                    "2026-05-18T22:00:00.000Z",
                                    696,
                                    "{\"predictions\": {\"consumption_mw\": 634.0066651485693, \"prediction_interval_consumption_mw\": [602.0951177981078, 649.430895346138]}}"
                                ],
                                [
                                    "2026-05-19T22:00:00.000Z",
                                    717,
                                    "{\"predictions\": {\"consumption_mw\": 630.736544460064, \"prediction_interval_consumption_mw\": [599.0277312556958, 646.20954737419]}}"
                                ],
                                [
                                    "2026-05-20T22:00:00.000Z",
                                    651.9,
                                    "{\"predictions\": {\"consumption_mw\": 641.5417764072358, \"prediction_interval_consumption_mw\": [607.2053566685479, 650.9965686837245]}}"
                                ],
                                [
                                    "2026-05-21T22:00:00.000Z",
                                    673.5,
                                    "{\"predictions\": {\"consumption_mw\": 632.5480484055339, \"prediction_interval_consumption_mw\": [601.3187254389785, 647.7217085034617]}}"
                                ],
                                [
                                    "2026-05-22T22:00:00.000Z",
                                    554.9,
                                    "{\"predictions\": {\"consumption_mw\": 538.8107548770611, \"prediction_interval_consumption_mw\": [518.4156164585376, 553.0557989614405]}}"
                                ],
                                [
                                    "2026-05-23T22:00:00.000Z",
                                    582.2,
                                    "{\"predictions\": {\"consumption_mw\": 529.6201072603445, \"prediction_interval_consumption_mw\": [504.32202596726984, 542.9575049879317]}}"
                                ],
                                [
                                    "2026-05-24T22:00:00.000Z",
                                    687,
                                    "{\"predictions\": {\"consumption_mw\": 635.9815045149076, \"prediction_interval_consumption_mw\": [603.2439924962451, 646.1448634728977]}}"
                                ],
                                [
                                    "2026-05-25T22:00:00.000Z",
                                    675.4,
                                    "{\"predictions\": {\"consumption_mw\": 632.899663163576, \"prediction_interval_consumption_mw\": [599.5080313342627, 642.9228141641688]}}"
                                ],
                                [
                                    "2026-05-26T22:00:00.000Z",
                                    693.7,
                                    "{\"predictions\": {\"consumption_mw\": 629.658984168616, \"prediction_interval_consumption_mw\": [599.7139013101493, 640.91797397323]}}"
                                ],
                                [
                                    "2026-05-27T22:00:00.000Z",
                                    645.1,
                                    "{\"predictions\": {\"consumption_mw\": 640.4651280870347, \"prediction_interval_consumption_mw\": [605.9472874058554, 661.2547600256353]}}"
                                ],
                                [
                                    "2026-05-28T22:00:00.000Z",
                                    634.5,
                                    "{\"predictions\": {\"consumption_mw\": 631.5110126712976, \"prediction_interval_consumption_mw\": [596.9498809296837, 645.0463271629184]}}"
                                ],
                                [
                                    "2026-05-29T22:00:00.000Z",
                                    614.5,
                                    "{\"predictions\": {\"consumption_mw\": 537.972613907031, \"prediction_interval_consumption_mw\": [508.7109694780966, 548.5171468570309]}}"
                                ],
                                [
                                    "2026-05-30T22:00:00.000Z",
                                    616.4,
                                    "{\"predictions\": {\"consumption_mw\": 528.8163109311412, \"prediction_interval_consumption_mw\": [502.55395605550274, 535.6780603908564]}}"
                                ],
                                [
                                    "2026-05-31T22:00:00.000Z",
                                    711.7,
                                    "{\"predictions\": {\"consumption_mw\": 635.0011393517201, \"prediction_interval_consumption_mw\": [602.616835853185, 652.0180123821465]}}"
                                ],
                                [
                                    "2026-06-01T22:00:00.000Z",
                                    720,
                                    "{\"predictions\": {\"consumption_mw\": 631.9450178368364, \"prediction_interval_consumption_mw\": [602.3435066545671, 646.1556818541344]}}"
                                ],
                                [
                                    "2026-06-02T22:00:00.000Z",
                                    650.6,
                                    "{\"predictions\": {\"consumption_mw\": 628.7296916035332, \"prediction_interval_consumption_mw\": [600.8878807429695, 657.3874141543004]}}"
                                ],
                                [
                                    "2026-06-03T22:00:00.000Z",
                                    708,
                                    "{\"predictions\": {\"consumption_mw\": 639.5365859285943, \"prediction_interval_consumption_mw\": [603.3649283896592, 667.2378964079251]}}"
                                ],
                                [
                                    "2026-06-04T22:00:00.000Z",
                                    687.8,
                                    "{\"predictions\": {\"consumption_mw\": 630.6165998656032, \"prediction_interval_consumption_mw\": [597.5273493832515, 652.1756758407978]}}"
                                ],
                                [
                                    "2026-06-05T22:00:00.000Z",
                                    562.5,
                                    "{\"predictions\": {\"consumption_mw\": 537.2497150414246, \"prediction_interval_consumption_mw\": [504.70618458672345, 549.6887905953987]}}"
                                ],
                                [
                                    "2026-06-06T22:00:00.000Z",
                                    581.2,
                                    "{\"predictions\": {\"consumption_mw\": 528.1230091070667, \"prediction_interval_consumption_mw\": [502.002149304752, 543.5748680848006]}}"
                                ],
                                [
                                    "2026-06-07T22:00:00.000Z",
                                    720.7,
                                    "{\"predictions\": {\"consumption_mw\": 634.1555106430637, \"prediction_interval_consumption_mw\": [591.6034192392764, 660.8041006179543]}}"
                                ],
                                [
                                    "2026-06-08T22:00:00.000Z",
                                    668.1,
                                    "{\"predictions\": {\"consumption_mw\": 631.1215453333461, \"prediction_interval_consumption_mw\": [596.6449208413203, 641.3357591149986]}}"
                                ],
                                [
                                    "2026-06-09T22:00:00.000Z",
                                    680.1,
                                    "{\"predictions\": {\"consumption_mw\": 627.9280607892989, \"prediction_interval_consumption_mw\": [598.7494491631811, 644.8188875820297]}}"
                                ],
                                [
                                    "2026-06-10T22:00:00.000Z",
                                    682.9,
                                    "{\"predictions\": {\"consumption_mw\": 638.7355755404508, \"prediction_interval_consumption_mw\": [600.0338911097026, 653.1099213083124]}}"
                                ],
                                [
                                    "2026-06-11T22:00:00.000Z",
                                    660.4,
                                    "{\"predictions\": {\"consumption_mw\": 629.845005921697, \"prediction_interval_consumption_mw\": [589.1300681737757, 642.5882777779873]}}"
                                ],
                                [
                                    "2026-06-12T22:00:00.000Z",
                                    544.5,
                                    "{\"predictions\": {\"consumption_mw\": 536.6260630263317, \"prediction_interval_consumption_mw\": [510.5893697325137, 544.8629025769297]}}"
                                ],
                                [
                                    "2026-06-13T22:00:00.000Z",
                                    571.3,
                                    "{\"predictions\": {\"consumption_mw\": 527.5248718903138, \"prediction_interval_consumption_mw\": [503.0059911592763, 540.7012973778036]}}"
                                ],
                                [
                                    "2026-06-14T22:00:00.000Z",
                                    671.4,
                                    "{\"predictions\": {\"consumption_mw\": 633.4259328367395, \"prediction_interval_consumption_mw\": [600.8260342544352, 653.9062866028036]}}"
                                ],
                                [
                                    "2026-06-15T22:00:00.000Z",
                                    701.2,
                                    "{\"predictions\": {\"consumption_mw\": 630.4110616086882, \"prediction_interval_consumption_mw\": [591.6169327095579, 648.420395432656]}}"
                                ],
                                [
                                    "2026-06-16T22:00:00.000Z",
                                    685.4,
                                    "{\"predictions\": {\"consumption_mw\": 627.2364013649751, \"prediction_interval_consumption_mw\": [592.7997683137687, 633.0367832737466]}}"
                                ],
                                [
                                    "2026-06-17T22:00:00.000Z",
                                    924,
                                    "{\"predictions\": {\"consumption_mw\": 638.0444313799519, \"prediction_interval_consumption_mw\": [609.6989699663674, 654.424309710465]}}"
                                ],
                                [
                                    "2026-06-18T22:00:00.000Z",
                                    686.9,
                                    "{\"predictions\": {\"consumption_mw\": 629.1792245445081, \"prediction_interval_consumption_mw\": [594.0407606893532, 638.0320574095042]}}"
                                ],
                                [
                                    "2026-06-19T22:00:00.000Z",
                                    556.9,
                                    "{\"predictions\": {\"consumption_mw\": 536.0879205830722, \"prediction_interval_consumption_mw\": [507.7452522224611, 553.01279074823]}}"
                                ],
                                [
                                    "2026-06-20T22:00:00.000Z",
                                    561.7,
                                    "{\"predictions\": {\"consumption_mw\": 527.0087318214381, \"prediction_interval_consumption_mw\": [505.200827933515, 548.1209554473467]}}"
                                ],
                                [
                                    "2026-06-21T22:00:00.000Z",
                                    692.7,
                                    "{\"predictions\": {\"consumption_mw\": 632.7963542427068, \"prediction_interval_consumption_mw\": [597.9446000673904, 641.2426298874192]}}"
                                ],
                                [
                                    "2026-06-22T22:00:00.000Z",
                                    686.3,
                                    "{\"predictions\": {\"consumption_mw\": 629.7979439529214, \"prediction_interval_consumption_mw\": [590.4868852399944, 656.2073705998273]}}"
                                ],
                                [
                                    "2026-06-23T22:00:00.000Z",
                                    650.1,
                                    "{\"predictions\": {\"consumption_mw\": 626.6395130145407, \"prediction_interval_consumption_mw\": [593.275352761531, 646.3685916518764]}}"
                                ],
                                [
                                    "2026-06-24T22:00:00.000Z",
                                    675.1,
                                    "{\"predictions\": {\"consumption_mw\": 637.447972742046, \"prediction_interval_consumption_mw\": [606.8842512806074, 662.9116866440968]}}"
                                ],
                                [
                                    "2026-06-25T22:00:00.000Z",
                                    651,
                                    "{\"predictions\": {\"consumption_mw\": 628.6046399295543, \"prediction_interval_consumption_mw\": [591.7937277230554, 639.05620158798]}}"
                                ],
                                [
                                    "2026-06-26T22:00:00.000Z",
                                    560.2,
                                    "{\"predictions\": {\"consumption_mw\": 535.6234801338463, \"prediction_interval_consumption_mw\": [512.1208504553864, 551.6055596657282]}}"
                                ],
                                [
                                    "2026-06-27T22:00:00.000Z",
                                    549.2,
                                    "{\"predictions\": {\"consumption_mw\": 526.5632698956043, \"prediction_interval_consumption_mw\": [490.12168325902707, 532.057484435895]}}"
                                ],
                                [
                                    "2026-06-28T22:00:00.000Z",
                                    646.1,
                                    "{\"predictions\": {\"consumption_mw\": 632.2529750783766, \"prediction_interval_consumption_mw\": [606.0218730037163, 660.1145632456683]}}"
                                ],
                                [
                                    "2026-06-29T22:00:00.000Z",
                                    650.7,
                                    "{\"predictions\": {\"consumption_mw\": 629.2687600109291, \"prediction_interval_consumption_mw\": [592.7209445545432, 635.9452699311576]}}"
                                ],
                                [
                                    "2026-06-30T22:00:00.000Z",
                                    648.6,
                                    "{\"predictions\": {\"consumption_mw\": 626.1243252489078, \"prediction_interval_consumption_mw\": [584.8927130421681, 640.3667644434668]}}"
                                ],
                                [
                                    "2026-07-01T22:00:00.000Z",
                                    880.5,
                                    "{\"predictions\": {\"consumption_mw\": 636.9331447216705, \"prediction_interval_consumption_mw\": [601.3350688146597, 661.4506588138505]}}"
                                ],
                                [
                                    "2026-07-02T22:00:00.000Z",
                                    611.3,
                                    "{\"predictions\": {\"consumption_mw\": 628.1086817607336, \"prediction_interval_consumption_mw\": [592.0363927363338, 650.9280778207345]}}"
                                ],
                                [
                                    "2026-07-03T22:00:00.000Z",
                                    369.5,
                                    "{\"predictions\": {\"consumption_mw\": 535.2225856211801, \"prediction_interval_consumption_mw\": [500.3873751935409, 547.2475725331315]}}"
                                ],
                                [
                                    "2026-07-04T22:00:00.000Z",
                                    538.8,
                                    "{\"predictions\": {\"consumption_mw\": 526.1787493942434, \"prediction_interval_consumption_mw\": [491.70588374629716, 534.5849442105489]}}"
                                ],
                                [
                                    "2026-07-05T22:00:00.000Z",
                                    870.4,
                                    "{\"predictions\": {\"consumption_mw\": 631.7839235635324, \"prediction_interval_consumption_mw\": [590.8113903794142, 650.0094750869121]}}"
                                ],
                                [
                                    "2026-07-06T22:00:00.000Z",
                                    599.4,
                                    "{\"predictions\": {\"consumption_mw\": 628.8119530728559, \"prediction_interval_consumption_mw\": [584.0035784771223, 643.2975182415793]}}"
                                ],
                                [
                                    "2026-07-07T22:00:00.000Z",
                                    612.7,
                                    "{\"predictions\": {\"consumption_mw\": 625.67959171923, \"prediction_interval_consumption_mw\": [577.5242051362001, 634.4193547743633]}}"
                                ],
                                [
                                    "2026-07-08T22:00:00.000Z",
                                    612.6,
                                    "{\"predictions\": {\"consumption_mw\": 636.4887134244321, \"prediction_interval_consumption_mw\": [587.325539350625, 647.1118388302698]}}"
                                ],
                                [
                                    "2026-07-09T22:00:00.000Z",
                                    598,
                                    "{\"predictions\": {\"consumption_mw\": 627.6805322372356, \"prediction_interval_consumption_mw\": [596.8279498101152, 647.9498179275929]}}"
                                ],
                                [
                                    "2026-07-10T22:00:00.000Z",
                                    494.2,
                                    "{\"predictions\": {\"consumption_mw\": 534.876496201177, \"prediction_interval_consumption_mw\": [500.71209989131677, 543.1282002620112]}}"
                                ],
                                [
                                    "2026-07-11T22:00:00.000Z",
                                    532.5,
                                    "{\"predictions\": {\"consumption_mw\": 525.8467897089376, \"prediction_interval_consumption_mw\": [490.3259876151877, 538.5342334602874]}}"
                                ],
                                [
                                    "2026-07-12T22:00:00.000Z",
                                    620.7,
                                    "{\"predictions\": {\"consumption_mw\": 631.3789805947349, \"prediction_interval_consumption_mw\": [589.2705394658773, 644.9254598553952]}}"
                                ],
                                [
                                    "2026-07-13T22:00:00.000Z",
                                    587.9,
                                    "{\"predictions\": {\"consumption_mw\": 628.41757448107, \"prediction_interval_consumption_mw\": [582.6937285870584, 642.1280240825272]}}"
                                ],
                                [
                                    "2026-07-14T22:00:00.000Z",
                                    622.3,
                                    "{\"predictions\": {\"consumption_mw\": 625.2956302158955, \"prediction_interval_consumption_mw\": [586.2702375130839, 635.6802063070438]}}"
                                ],
                                [
                                    "2026-07-15T22:00:00.000Z",
                                    586,
                                    "{\"predictions\": {\"consumption_mw\": 636.1050066505024, \"prediction_interval_consumption_mw\": [596.7628016124045, 646.2429237818764]}}"
                                ],
                                [
                                    "2026-07-16T22:00:00.000Z",
                                    586.9,
                                    "{\"predictions\": {\"consumption_mw\": 627.3108767367381, \"prediction_interval_consumption_mw\": [584.8063314439429, 649.3143921231592]}}"
                                ],
                                [
                                    "2026-07-17T22:00:00.000Z",
                                    464.2,
                                    "{\"predictions\": {\"consumption_mw\": 534.5776850743674, \"prediction_interval_consumption_mw\": [498.9334036235066, 543.9601451286068]}}"
                                ],
                                [
                                    "2026-07-18T22:00:00.000Z",
                                    499.5,
                                    "{\"predictions\": {\"consumption_mw\": 525.5601737414019, \"prediction_interval_consumption_mw\": [491.6903520595499, 533.5047770991459]}}"
                                ],
                                [
                                    "2026-07-19T22:00:00.000Z",
                                    562.7,
                                    "{\"predictions\": {\"consumption_mw\": 631.0293452261955, \"prediction_interval_consumption_mw\": [583.1676155293794, 645.1714518792866]}}"
                                ],
                                [
                                    "2026-07-20T22:00:00.000Z",
                                    542.1,
                                    "{\"predictions\": {\"consumption_mw\": 628.0770556346087, \"prediction_interval_consumption_mw\": [587.5352836054814, 643.3235802413775]}}"
                                ],
                                [
                                    "2026-07-21T22:00:00.000Z",
                                    522.3,
                                    "{\"predictions\": {\"consumption_mw\": 624.9641010815056, \"prediction_interval_consumption_mw\": [588.5831035618719, 630.1451017850513]}}"
                                ],
                                [
                                    "2026-07-22T22:00:00.000Z",
                                    589.1,
                                    "{\"predictions\": {\"consumption_mw\": 635.7736928324791, \"prediction_interval_consumption_mw\": [589.9739047590652, 648.4992805547389]}}"
                                ],
                                [
                                    "2026-07-23T22:00:00.000Z",
                                    768.5,
                                    "{\"predictions\": {\"consumption_mw\": 626.9916912048916, \"prediction_interval_consumption_mw\": [575.6292478919945, 640.5191629751528]}}"
                                ],
                                [
                                    "2026-07-24T22:00:00.000Z",
                                    487.5,
                                    "{\"predictions\": {\"consumption_mw\": 534.3196679039365, \"prediction_interval_consumption_mw\": [498.5398416457926, 539.7305628750997]}}"
                                ],
                                [
                                    "2026-07-25T22:00:00.000Z",
                                    487.8,
                                    "{\"predictions\": {\"consumption_mw\": 525.3126835891442, \"prediction_interval_consumption_mw\": [490.77714304841516, 541.2925047216322]}}"
                                ],
                                [
                                    "2026-07-26T22:00:00.000Z",
                                    539.7,
                                    "{\"predictions\": {\"consumption_mw\": 630.7274345431973, \"prediction_interval_consumption_mw\": [571.510636901561, 627.8067408079678]}}"
                                ],
                                [
                                    "2026-07-27T22:00:00.000Z",
                                    492.6,
                                    "{\"predictions\": {\"consumption_mw\": 627.7830133822564, \"prediction_interval_consumption_mw\": [587.2035313257063, 638.5098429286763]}}"
                                ],
                                [
                                    "2026-07-28T22:00:00.000Z",
                                    517.4,
                                    "{\"predictions\": {\"consumption_mw\": 624.6778180289338, \"prediction_interval_consumption_mw\": [583.8327158642021, 631.3777545760265]}}"
                                ],
                                [
                                    "2026-07-29T22:00:00.000Z",
                                    482.4,
                                    "{\"predictions\": {\"consumption_mw\": 635.4875922574345, \"prediction_interval_consumption_mw\": [595.11233550818, 651.3098034028665]}}"
                                ],
                                [
                                    "2026-07-30T22:00:00.000Z",
                                    522.3,
                                    "{\"predictions\": {\"consumption_mw\": 626.7160605530308, \"prediction_interval_consumption_mw\": [571.9937143270494, 628.4716532600524]}}"
                                ],
                                [
                                    "2026-07-31T22:00:00.000Z",
                                    460.8,
                                    "{\"predictions\": {\"consumption_mw\": 534.0968562253197, \"prediction_interval_consumption_mw\": [495.93116541616104, 534.9399297495803]}}"
                                ],
                                [
                                    "2026-08-01T22:00:00.000Z",
                                    430.1,
                                    "{\"predictions\": {\"consumption_mw\": 525.0989601329359, \"prediction_interval_consumption_mw\": [477.5377154246996, 526.2676134499708]}}"
                                ],
                                [
                                    "2026-08-02T22:00:00.000Z",
                                    515.8,
                                    "{\"predictions\": {\"consumption_mw\": 630.4667126096075, \"prediction_interval_consumption_mw\": [581.1999520817503, 638.7706560487029]}}"
                                ],
                                [
                                    "2026-08-03T22:00:00.000Z",
                                    535.3,
                                    "{\"predictions\": {\"consumption_mw\": 627.5290836524138, \"prediction_interval_consumption_mw\": [582.5570218939226, 629.7981959361933]}}"
                                ],
                                [
                                    "2026-08-04T22:00:00.000Z",
                                    480.8,
                                    "{\"predictions\": {\"consumption_mw\": 624.4305863752363, \"prediction_interval_consumption_mw\": [579.6218460396622, 627.824722492949]}}"
                                ],
                                [
                                    "2026-08-05T22:00:00.000Z",
                                    488.4,
                                    "{\"predictions\": {\"consumption_mw\": 635.2405156131772, \"prediction_interval_consumption_mw\": [582.368326557286, 643.7876776960195]}}"
                                ],
                                [
                                    "2026-08-06T22:00:00.000Z",
                                    485.9,
                                    "{\"predictions\": {\"consumption_mw\": 626.4780233102321, \"prediction_interval_consumption_mw\": [575.8843352430812, 620.0557267568114]}}"
                                ],
                                [
                                    "2026-08-07T22:00:00.000Z",
                                    387,
                                    "{\"predictions\": {\"consumption_mw\": 533.9044320237034, \"prediction_interval_consumption_mw\": [488.87560858409523, 539.2434249721327]}}"
                                ],
                                [
                                    "2026-08-08T22:00:00.000Z",
                                    531.8,
                                    "{\"predictions\": {\"consumption_mw\": 524.914382876825, \"prediction_interval_consumption_mw\": [481.70456398384846, 530.3978208968086]}}"
                                ],
                                [
                                    "2026-08-09T22:00:00.000Z",
                                    483.9,
                                    "{\"predictions\": {\"consumption_mw\": 630.2415440595076, \"prediction_interval_consumption_mw\": [576.4087695859918, 645.8558035251544]}}"
                                ],
                                [
                                    "2026-08-10T22:00:00.000Z",
                                    438.9,
                                    "{\"predictions\": {\"consumption_mw\": 627.3097790259341, \"prediction_interval_consumption_mw\": [566.5784026148574, 618.7697256458091]}}"
                                ],
                                [
                                    "2026-08-11T22:00:00.000Z",
                                    473.5,
                                    "{\"predictions\": {\"consumption_mw\": 624.2170645306198, \"prediction_interval_consumption_mw\": [574.5744108287246, 630.405507596407]}}"
                                ],
                                [
                                    "2026-08-12T22:00:00.000Z",
                                    469.8,
                                    "{\"predictions\": {\"consumption_mw\": 635.0271257198632, \"prediction_interval_consumption_mw\": [573.635476718149, 635.2655003393036]}}"
                                ],
                                [
                                    "2026-08-13T22:00:00.000Z",
                                    435,
                                    "{\"predictions\": {\"consumption_mw\": 626.2724385604885, \"prediction_interval_consumption_mw\": [571.4647021515132, 631.3821444438818]}}"
                                ],
                                [
                                    "2026-08-14T22:00:00.000Z",
                                    359.8,
                                    "{\"predictions\": {\"consumption_mw\": 533.7382402852041, \"prediction_interval_consumption_mw\": [495.78180772400606, 530.7874881428289]}}"
                                ],
                                [
                                    "2026-08-15T22:00:00.000Z",
                                    482.9,
                                    "{\"predictions\": {\"consumption_mw\": 524.7549669902497, \"prediction_interval_consumption_mw\": [478.16375992513395, 519.3711235955395]}}"
                                ],
                                [
                                    "2026-08-16T22:00:00.000Z",
                                    571.8,
                                    "{\"predictions\": {\"consumption_mw\": 630.0470686277988, \"prediction_interval_consumption_mw\": [573.9666729916962, 633.2194924881837]}}"
                                ],
                                [
                                    "2026-08-17T22:00:00.000Z",
                                    437.6,
                                    "{\"predictions\": {\"consumption_mw\": 627.1203666586633, \"prediction_interval_consumption_mw\": [568.6894383614692, 622.74792169589]}}"
                                ],
                                [
                                    "2026-08-18T22:00:00.000Z",
                                    416.4,
                                    "{\"predictions\": {\"consumption_mw\": 624.0326452586085, \"prediction_interval_consumption_mw\": [572.0393025881356, 626.3065473716092]}}"
                                ],
                                [
                                    "2026-08-19T22:00:00.000Z",
                                    436,
                                    "{\"predictions\": {\"consumption_mw\": 634.8428189795919, \"prediction_interval_consumption_mw\": [581.0736725640483, 639.8887152734026]}}"
                                ],
                                [
                                    "2026-08-20T22:00:00.000Z",
                                    460.2,
                                    "{\"predictions\": {\"consumption_mw\": 626.0948718379839, \"prediction_interval_consumption_mw\": [575.7592124558438, 633.6534535100576]}}"
                                ],
                                [
                                    "2026-08-21T22:00:00.000Z",
                                    358.7,
                                    "{\"predictions\": {\"consumption_mw\": 533.5946968429018, \"prediction_interval_consumption_mw\": [483.9620269028978, 536.7972380986009]}}"
                                ],
                                [
                                    "2026-08-22T22:00:00.000Z",
                                    341.6,
                                    "{\"predictions\": {\"consumption_mw\": 524.6172749926832, \"prediction_interval_consumption_mw\": [485.88631110062573, 526.2406056764482]}}"
                                ],
                                [
                                    "2026-08-23T22:00:00.000Z",
                                    406.1,
                                    "{\"predictions\": {\"consumption_mw\": 629.8790935092894, \"prediction_interval_consumption_mw\": [575.691139179056, 632.9500265690193]}}"
                                ],
                                [
                                    "2026-08-24T22:00:00.000Z",
                                    406.1,
                                    "{\"predictions\": {\"consumption_mw\": 626.956763535595, \"prediction_interval_consumption_mw\": [581.9426052686049, 630.2711771664937]}}"
                                ],
                                [
                                    "2026-08-25T22:00:00.000Z",
                                    363.8,
                                    "{\"predictions\": {\"consumption_mw\": 623.8733537797664, \"prediction_interval_consumption_mw\": [579.0726606332009, 636.97165807465]}}"
                                ],
                                [
                                    "2026-08-26T22:00:00.000Z",
                                    367.4,
                                    "{\"predictions\": {\"consumption_mw\": 634.6836236287742, \"prediction_interval_consumption_mw\": [576.8089955291246, 628.3601990262986]}}"
                                ],
                                [
                                    "2026-08-27T22:00:00.000Z",
                                    376.1,
                                    "{\"predictions\": {\"consumption_mw\": 625.941497181895, \"prediction_interval_consumption_mw\": [577.0971499129005, 633.4676898165769]}}"
                                ],
                                [
                                    "2026-08-28T22:00:00.000Z",
                                    308.1,
                                    "{\"predictions\": {\"consumption_mw\": 533.4707092633313, \"prediction_interval_consumption_mw\": [489.95710263302345, 538.9698536855137]}}"
                                ],
                                [
                                    "2026-08-29T22:00:00.000Z",
                                    313.5,
                                    "{\"predictions\": {\"consumption_mw\": 524.4983409257708, \"prediction_interval_consumption_mw\": [486.67217392208954, 533.6863369632516]}}"
                                ],
                                [
                                    "2026-08-30T22:00:00.000Z",
                                    393.8,
                                    "{\"predictions\": {\"consumption_mw\": 629.7340009261573, \"prediction_interval_consumption_mw\": [574.2312036136892, 633.2694221860797]}}"
                                ],
                                [
                                    "2026-08-31T22:00:00.000Z",
                                    352.7,
                                    "{\"predictions\": {\"consumption_mw\": 626.8154465132104, \"prediction_interval_consumption_mw\": [575.1672622969288, 642.5777051440763]}}"
                                ],
                                [
                                    "2026-09-01T22:00:00.000Z",
                                    330.8,
                                    "{\"predictions\": {\"consumption_mw\": 623.7357602506647, \"prediction_interval_consumption_mw\": [570.2194461049819, 631.7439062456053]}}"
                                ],
                                [
                                    "2026-09-02T22:00:00.000Z",
                                    361.9,
                                    "{\"predictions\": {\"consumption_mw\": 634.5461123343589, \"prediction_interval_consumption_mw\": [583.7404006292164, 647.0823705870437]}}"
                                ],
                                [
                                    "2026-09-03T22:00:00.000Z",
                                    375.5,
                                    "{\"predictions\": {\"consumption_mw\": 625.8090129891765, \"prediction_interval_consumption_mw\": [579.4618831405858, 631.8180090266699]}}"
                                ],
                                [
                                    "2026-09-04T22:00:00.000Z",
                                    324.7,
                                    "{\"predictions\": {\"consumption_mw\": 533.363608870265, \"prediction_interval_consumption_mw\": [495.9841330015692, 545.1859893883535]}}"
                                ],
                                [
                                    "2026-09-05T22:00:00.000Z",
                                    318.1,
                                    "{\"predictions\": {\"consumption_mw\": 524.3956051929009, \"prediction_interval_consumption_mw\": [483.52259527668684, 534.5454677673857]}}"
                                ],
                                [
                                    "2026-09-06T22:00:00.000Z",
                                    351.1,
                                    "{\"predictions\": {\"consumption_mw\": 629.6086686900406, \"prediction_interval_consumption_mw\": [577.9738983156201, 640.0238241656077]}}"
                                ],
                                [
                                    "2026-09-07T22:00:00.000Z",
                                    348,
                                    "{\"predictions\": {\"consumption_mw\": 626.6933750001731, \"prediction_interval_consumption_mw\": [580.5268220997185, 643.5248269859109]}}"
                                ],
                                [
                                    "2026-09-08T22:00:00.000Z",
                                    355.6,
                                    "{\"predictions\": {\"consumption_mw\": 623.6169045309146, \"prediction_interval_consumption_mw\": [585.1138047381922, 636.2044042488989]}}"
                                ],
                                [
                                    "2026-09-09T22:00:00.000Z",
                                    328.7,
                                    "{\"predictions\": {\"consumption_mw\": 634.4273270538704, \"prediction_interval_consumption_mw\": [589.0864822230621, 647.9920472376638]}}"
                                ],
                                [
                                    "2026-09-10T22:00:00.000Z",
                                    363,
                                    "{\"predictions\": {\"consumption_mw\": 625.6945696668648, \"prediction_interval_consumption_mw\": [582.2714261273848, 636.1164889673944]}}"
                                ],
                                [
                                    "2026-09-11T22:00:00.000Z",
                                    300.6,
                                    "{\"predictions\": {\"consumption_mw\": 533.2710922946171, \"prediction_interval_consumption_mw\": [491.62473858489545, 543.9301436582799]}}"
                                ],
                                [
                                    "2026-09-12T22:00:00.000Z",
                                    275.2,
                                    "{\"predictions\": {\"consumption_mw\": 524.3068585248204, \"prediction_interval_consumption_mw\": [484.73571450102713, 534.2300299282524]}}"
                                ],
                                [
                                    "2026-09-13T22:00:00.000Z",
                                    301.2,
                                    "{\"predictions\": {\"consumption_mw\": 629.5004018832655, \"prediction_interval_consumption_mw\": [578.3925314910982, 632.435954979521]}}"
                                ],
                                [
                                    "2026-09-14T22:00:00.000Z",
                                    325.2,
                                    "{\"predictions\": {\"consumption_mw\": 626.5879244543713, \"prediction_interval_consumption_mw\": [588.1988912533643, 641.5516564052037]}}"
                                ],
                                [
                                    "2026-09-15T22:00:00.000Z",
                                    321.6,
                                    "{\"predictions\": {\"consumption_mw\": 623.5142314687333, \"prediction_interval_consumption_mw\": [581.7356005930712, 639.6214433522091]}}"
                                ],
                                [
                                    "2026-09-16T22:00:00.000Z",
                                    345,
                                    "{\"predictions\": {\"consumption_mw\": 634.3247143951472, \"prediction_interval_consumption_mw\": [586.061311646305, 647.682777972797]}}"
                                ],
                                [
                                    "2026-09-17T22:00:00.000Z",
                                    327,
                                    "{\"predictions\": {\"consumption_mw\": 625.5957073884051, \"prediction_interval_consumption_mw\": [587.3174379347835, 643.2427023339383]}}"
                                ],
                                [
                                    "2026-09-18T22:00:00.000Z",
                                    291.7,
                                    "{\"predictions\": {\"consumption_mw\": 533.1911711830842, \"prediction_interval_consumption_mw\": [494.40903959301517, 549.311728789492]}}"
                                ],
                                [
                                    "2026-09-19T22:00:00.000Z",
                                    293.2,
                                    "{\"predictions\": {\"consumption_mw\": 524.2301937626978, \"prediction_interval_consumption_mw\": [494.23789305788443, 533.3071739037165]}}"
                                ],
                                [
                                    "2026-09-20T22:00:00.000Z",
                                    280,
                                    "{\"predictions\": {\"consumption_mw\": 629.4068740664401, \"prediction_interval_consumption_mw\": [588.4846231671247, 653.8462087422272]}}"
                                ],
                                [
                                    "2026-09-21T22:00:00.000Z",
                                    318.5,
                                    "{\"predictions\": {\"consumption_mw\": 626.4968291484613, \"prediction_interval_consumption_mw\": [583.9393299366093, 645.1061206616511]}}"
                                ],
                                [
                                    "2026-09-22T22:00:00.000Z",
                                    345.9,
                                    "{\"predictions\": {\"consumption_mw\": 623.425535201292, \"prediction_interval_consumption_mw\": [583.9277764561214, 647.0214631360384]}}"
                                ],
                                [
                                    "2026-09-23T22:00:00.000Z",
                                    318.1,
                                    "{\"predictions\": {\"consumption_mw\": 634.2360699761688, \"prediction_interval_consumption_mw\": [591.8525657613284, 659.8177967604156]}}"
                                ],
                                [
                                    "2026-09-24T22:00:00.000Z",
                                    307.2,
                                    "{\"predictions\": {\"consumption_mw\": 625.5103025122653, \"prediction_interval_consumption_mw\": [576.4486640176907, 638.0243592409669]}}"
                                ],
                                [
                                    "2026-09-25T22:00:00.000Z",
                                    287,
                                    "{\"predictions\": {\"consumption_mw\": 533.122128902444, \"prediction_interval_consumption_mw\": [500.2664203055919, 551.0572624044158]}}"
                                ],
                                [
                                    "2026-09-26T22:00:00.000Z",
                                    247,
                                    "{\"predictions\": {\"consumption_mw\": 524.1639643452246, \"prediction_interval_consumption_mw\": [497.18240648413814, 542.442866267058]}}"
                                ],
                                [
                                    "2026-09-27T22:00:00.000Z",
                                    325.8,
                                    "{\"predictions\": {\"consumption_mw\": 629.3260766568346, \"prediction_interval_consumption_mw\": [582.6480712635483, 647.947946384704]}}"
                                ],
                                [
                                    "2026-09-28T22:00:00.000Z",
                                    288.9,
                                    "{\"predictions\": {\"consumption_mw\": 626.4181328861862, \"prediction_interval_consumption_mw\": [582.8650635024508, 655.4146380460741]}}"
                                ],
                                [
                                    "2026-09-29T22:00:00.000Z",
                                    291,
                                    "{\"predictions\": {\"consumption_mw\": 623.3489111893007, \"prediction_interval_consumption_mw\": [583.8774032332913, 651.106238724826]}}"
                                ],
                                [
                                    "2026-09-30T22:00:00.000Z",
                                    300.9,
                                    "{\"predictions\": {\"consumption_mw\": 634.1594905076022, \"prediction_interval_consumption_mw\": [582.1421098548118, 651.430331268731]}}"
                                ],
                                [
                                    "2026-10-01T22:00:00.000Z",
                                    323.9,
                                    "{\"predictions\": {\"consumption_mw\": 625.4365214344405, \"prediction_interval_consumption_mw\": [586.0685095872934, 664.2249188012826]}}"
                                ],
                                [
                                    "2026-10-02T22:00:00.000Z",
                                    271.8,
                                    "{\"predictions\": {\"consumption_mw\": 533.0624832482713, \"prediction_interval_consumption_mw\": [500.1303521510858, 554.0510742626143]}}"
                                ],
                                [
                                    "2026-10-03T22:00:00.000Z",
                                    282.3,
                                    "{\"predictions\": {\"consumption_mw\": 524.1067485505984, \"prediction_interval_consumption_mw\": [485.24412113961495, 546.0194184201438]}}"
                                ],
                                [
                                    "2026-10-04T22:00:00.000Z",
                                    271.3,
                                    "{\"predictions\": {\"consumption_mw\": 629.2562753216357, \"prediction_interval_consumption_mw\": [585.757914226115, 670.0934016258141]}}"
                                ],
                                [
                                    "2026-10-05T22:00:00.000Z",
                                    335.7,
                                    "{\"predictions\": {\"consumption_mw\": 626.3501465455557, \"prediction_interval_consumption_mw\": [582.2718189171634, 638.8603291592259]}}"
                                ],
                                [
                                    "2026-10-06T22:00:00.000Z",
                                    293.2,
                                    "{\"predictions\": {\"consumption_mw\": 623.2827148933574, \"prediction_interval_consumption_mw\": [587.042221059016, 656.3964424937856]}}"
                                ],
                                [
                                    "2026-10-07T22:00:00.000Z",
                                    334,
                                    "{\"predictions\": {\"consumption_mw\": 634.0933325080348, \"prediction_interval_consumption_mw\": [581.2599040521808, 650.7193756315293]}}"
                                ],
                                [
                                    "2026-10-08T22:00:00.000Z",
                                    331.8,
                                    "{\"predictions\": {\"consumption_mw\": 625.3727808263466, \"prediction_interval_consumption_mw\": [577.4181368972116, 652.9956081611128]}}"
                                ],
                                [
                                    "2026-10-09T22:00:00.000Z",
                                    280.1,
                                    "{\"predictions\": {\"consumption_mw\": 533.0109543117939, \"prediction_interval_consumption_mw\": [500.43729839035234, 560.9185302962862]}}"
                                ],
                                [
                                    "2026-10-10T22:00:00.000Z",
                                    254.4,
                                    "{\"predictions\": {\"consumption_mw\": 524.0573186828527, \"prediction_interval_consumption_mw\": [493.7230795664008, 544.4757330177487]}}"
                                ],
                                [
                                    "2026-10-11T22:00:00.000Z",
                                    295.7,
                                    "{\"predictions\": {\"consumption_mw\": 629.1959723987678, \"prediction_interval_consumption_mw\": [596.1991026337771, 664.0720500011614]}}"
                                ],
                                [
                                    "2026-10-12T22:00:00.000Z",
                                    286.6,
                                    "{\"predictions\": {\"consumption_mw\": 626.291411488693, \"prediction_interval_consumption_mw\": [582.4100458840858, 647.350155868706]}}"
                                ],
                                [
                                    "2026-10-13T22:00:00.000Z",
                                    289.4,
                                    "{\"predictions\": {\"consumption_mw\": 623.2255261585208, \"prediction_interval_consumption_mw\": [569.3256164309835, 643.9678739792317]}}"
                                ],
                                [
                                    "2026-10-14T22:00:00.000Z",
                                    358.5,
                                    "{\"predictions\": {\"consumption_mw\": 634.0361767202378, \"prediction_interval_consumption_mw\": [596.8111520133428, 655.7530134123872]}}"
                                ],
                                [
                                    "2026-10-15T22:00:00.000Z",
                                    335.4,
                                    "{\"predictions\": {\"consumption_mw\": 625.3177133617622, \"prediction_interval_consumption_mw\": [589.6942656777819, 656.5275459369967]}}"
                                ],
                                [
                                    "2026-10-16T22:00:00.000Z",
                                    265.6,
                                    "{\"predictions\": {\"consumption_mw\": 532.9664367812805, \"prediction_interval_consumption_mw\": [502.80973480292397, 558.0844829927145]}}"
                                ],
                                [
                                    "2026-10-17T22:00:00.000Z",
                                    265.9,
                                    "{\"predictions\": {\"consumption_mw\": 524.0146145093486, \"prediction_interval_consumption_mw\": [498.14963788574477, 541.1605727183123]}}"
                                ],
                                [
                                    "2026-10-18T22:00:00.000Z",
                                    352.1,
                                    "{\"predictions\": {\"consumption_mw\": 629.1438745007397, \"prediction_interval_consumption_mw\": [589.7142556892713, 657.9447026239213]}}"
                                ],
                                [
                                    "2026-10-19T22:00:00.000Z",
                                    291.2,
                                    "{\"predictions\": {\"consumption_mw\": 626.2406680168391, \"prediction_interval_consumption_mw\": [586.3522758899828, 647.7186866108684]}}"
                                ],
                                [
                                    "2026-10-20T22:00:00.000Z",
                                    318.4,
                                    "{\"predictions\": {\"consumption_mw\": 623.1761185082546, \"prediction_interval_consumption_mw\": [585.5537695838856, 638.7438757759274]}}"
                                ],
                                [
                                    "2026-10-21T22:00:00.000Z",
                                    314.8,
                                    "{\"predictions\": {\"consumption_mw\": 633.9867974310727, \"prediction_interval_consumption_mw\": [592.1226554878526, 655.068916778264]}}"
                                ],
                                [
                                    "2026-10-22T22:00:00.000Z",
                                    378.5,
                                    "{\"predictions\": {\"consumption_mw\": 625.2701381655099, \"prediction_interval_consumption_mw\": [586.2527708081711, 642.420791327364]}}"
                                ],
                                [
                                    "2026-10-23T22:00:00.000Z",
                                    310.7,
                                    "{\"predictions\": {\"consumption_mw\": 532.9279760584008, \"prediction_interval_consumption_mw\": [498.74522952202574, 553.6234276268865]}}"
                                ],
                                [
                                    "2026-10-24T22:00:00.000Z",
                                    288.1,
                                    "{\"predictions\": {\"consumption_mw\": 523.9777203558011, \"prediction_interval_consumption_mw\": [496.3997913878181, 544.6202220507016]}}"
                                ],
                                [
                                    "2026-10-25T23:00:00.000Z",
                                    349,
                                    "{\"predictions\": {\"consumption_mw\": 629.0988645781509, \"prediction_interval_consumption_mw\": [599.801402532334, 651.7794223754476]}}"
                                ],
                                [
                                    "2026-10-26T23:00:00.000Z",
                                    377.1,
                                    "{\"predictions\": {\"consumption_mw\": 626.196828166758, \"prediction_interval_consumption_mw\": [584.4347664019067, 645.8728497276187]}}"
                                ],
                                [
                                    "2026-10-27T23:00:00.000Z",
                                    361.1,
                                    "{\"predictions\": {\"consumption_mw\": 623.1334326632738, \"prediction_interval_consumption_mw\": [581.8860685825954, 646.0924319027288]}}"
                                ],
                                [
                                    "2026-10-28T23:00:00.000Z",
                                    370.8,
                                    "{\"predictions\": {\"consumption_mw\": 633.9441360117087, \"prediction_interval_consumption_mw\": [591.011903190073, 651.2098181575801]}}"
                                ],
                                [
                                    "2026-10-29T23:00:00.000Z",
                                    361.1,
                                    "{\"predictions\": {\"consumption_mw\": 625.2290353262158, \"prediction_interval_consumption_mw\": [579.8785412734985, 651.869378489666]}}"
                                ],
                                [
                                    "2026-10-30T23:00:00.000Z",
                                    322.4,
                                    "{\"predictions\": {\"consumption_mw\": 532.8947476584492, \"prediction_interval_consumption_mw\": [496.5892733011756, 552.4283226037217]}}"
                                ],
                                [
                                    "2026-10-31T23:00:00.000Z",
                                    312.2,
                                    "{\"predictions\": {\"consumption_mw\": 523.9458453498999, \"prediction_interval_consumption_mw\": [477.1083827792955, 540.0626150705286]}}"
                                ],
                                [
                                    "2026-11-01T23:00:00.000Z",
                                    379.6,
                                    "{\"predictions\": {\"consumption_mw\": 629.0599778225894, \"prediction_interval_consumption_mw\": [592.9920573959572, 652.2742025349787]}}"
                                ],
                                [
                                    "2026-11-02T23:00:00.000Z",
                                    412.5,
                                    "{\"predictions\": {\"consumption_mw\": 626.1589522449951, \"prediction_interval_consumption_mw\": [584.0799424252917, 641.6409371664138]}}"
                                ],
                                [
                                    "2026-11-03T23:00:00.000Z",
                                    387.6,
                                    "{\"predictions\": {\"consumption_mw\": 623.0965536982002, \"prediction_interval_consumption_mw\": [577.1062977921671, 633.8364428537125]}}"
                                ],
                                [
                                    "2026-11-04T23:00:00.000Z",
                                    391.7,
                                    "{\"predictions\": {\"consumption_mw\": 633.9072780919579, \"prediction_interval_consumption_mw\": [587.6287771759146, 650.4339942285515]}}"
                                ],
                                [
                                    "2026-11-05T23:00:00.000Z",
                                    383.7,
                                    "{\"predictions\": {\"consumption_mw\": 625.1935239088957, \"prediction_interval_consumption_mw\": [574.5594404526934, 637.9482883702487]}}"
                                ],
                                [
                                    "2026-11-06T23:00:00.000Z",
                                    311,
                                    "{\"predictions\": {\"consumption_mw\": 532.8660394386975, \"prediction_interval_consumption_mw\": [492.4907426193444, 551.8742984480438]}}"
                                ],
                                [
                                    "2026-11-07T23:00:00.000Z",
                                    321.5,
                                    "{\"predictions\": {\"consumption_mw\": 523.9183063767315, \"prediction_interval_consumption_mw\": [479.7568527391361, 540.4347425613056]}}"
                                ],
                                [
                                    "2026-11-08T23:00:00.000Z",
                                    404.6,
                                    "{\"predictions\": {\"consumption_mw\": 629.026380876508, \"prediction_interval_consumption_mw\": [578.6054811883986, 658.4160198561156]}}"
                                ],
                                [
                                    "2026-11-09T23:00:00.000Z",
                                    391.1,
                                    "{\"predictions\": {\"consumption_mw\": 626.1262285818603, \"prediction_interval_consumption_mw\": [573.0754766261593, 647.8515022932622]}}"
                                ],
                                [
                                    "2026-11-10T23:00:00.000Z",
                                    383.3,
                                    "{\"predictions\": {\"consumption_mw\": 623.0646913319675, \"prediction_interval_consumption_mw\": [577.3153632483284, 642.3981872626096]}}"
                                ],
                                [
                                    "2026-11-11T23:00:00.000Z",
                                    400.9,
                                    "{\"predictions\": {\"consumption_mw\": 633.8754338653617, \"prediction_interval_consumption_mw\": [585.7662629157684, 671.6098510306465]}}"
                                ],
                                [
                                    "2026-11-12T23:00:00.000Z",
                                    407.3,
                                    "{\"predictions\": {\"consumption_mw\": 625.1628429827852, \"prediction_interval_consumption_mw\": [572.4061561917339, 647.1324478550257]}}"
                                ],
                                [
                                    "2026-11-13T23:00:00.000Z",
                                    368.6,
                                    "{\"predictions\": {\"consumption_mw\": 532.8412362634384, \"prediction_interval_consumption_mw\": [484.2540046472002, 559.6091750173855]}}"
                                ],
                                [
                                    "2026-11-14T23:00:00.000Z",
                                    342.1,
                                    "{\"predictions\": {\"consumption_mw\": 523.8945133708069, \"prediction_interval_consumption_mw\": [478.3443936847553, 535.1988572850436]}}"
                                ],
                                [
                                    "2026-11-15T23:00:00.000Z",
                                    419.5,
                                    "{\"predictions\": {\"consumption_mw\": 628.9973538927022, \"prediction_interval_consumption_mw\": [579.7317232626517, 659.400917743768]}}"
                                ],
                                [
                                    "2026-11-16T23:00:00.000Z",
                                    448,
                                    "{\"predictions\": {\"consumption_mw\": 626.0979560599815, \"prediction_interval_consumption_mw\": [574.1959067744597, 639.1879803473433]}}"
                                ],
                                [
                                    "2026-11-17T23:00:00.000Z",
                                    487.1,
                                    "{\"predictions\": {\"consumption_mw\": 623.0371629188483, \"prediction_interval_consumption_mw\": [567.4766821599341, 645.7928492107825]}}"
                                ],
                                [
                                    "2026-11-18T23:00:00.000Z",
                                    476.1,
                                    "{\"predictions\": {\"consumption_mw\": 633.8479210924684, \"prediction_interval_consumption_mw\": [571.7874137601384, 654.6228387267281]}}"
                                ],
                                [
                                    "2026-11-19T23:00:00.000Z",
                                    481.3,
                                    "{\"predictions\": {\"consumption_mw\": 625.1363352479423, \"prediction_interval_consumption_mw\": [573.6639676269476, 643.6491596643716]}}"
                                ],
                                [
                                    "2026-11-20T23:00:00.000Z",
                                    387.7,
                                    "{\"predictions\": {\"consumption_mw\": 532.8198067692645, \"prediction_interval_consumption_mw\": [489.7363709290552, 553.9511203251958]}}"
                                ],
                                [
                                    "2026-11-21T23:00:00.000Z",
                                    393.3,
                                    "{\"predictions\": {\"consumption_mw\": 523.8739566221568, \"prediction_interval_consumption_mw\": [477.2038875037869, 542.3574627413435]}}"
                                ],
                                [
                                    "2026-11-22T23:00:00.000Z",
                                    492.9,
                                    "{\"predictions\": {\"consumption_mw\": 628.9722750501538, \"prediction_interval_consumption_mw\": [579.679060017361, 660.988618777452]}}"
                                ],
                                [
                                    "2026-11-23T23:00:00.000Z",
                                    306.4,
                                    "{\"predictions\": {\"consumption_mw\": 626.0735290346589, \"prediction_interval_consumption_mw\": [567.4220812633038, 646.5408687341769]}}"
                                ],
                                [
                                    "2026-11-24T23:00:00.000Z",
                                    504.6,
                                    "{\"predictions\": {\"consumption_mw\": 623.0133787676472, \"prediction_interval_consumption_mw\": [559.1363379256815, 639.2607653362008]}}"
                                ],
                                [
                                    "2026-11-25T23:00:00.000Z",
                                    527.8,
                                    "{\"predictions\": {\"consumption_mw\": 633.8241504302798, \"prediction_interval_consumption_mw\": [575.3147817481891, 669.435252360708]}}"
                                ],
                                [
                                    "2026-11-26T23:00:00.000Z",
                                    528.7,
                                    "{\"predictions\": {\"consumption_mw\": 625.1134329024152, \"prediction_interval_consumption_mw\": [558.3334289775881, 655.4336933331989]}}"
                                ],
                                [
                                    "2026-11-27T23:00:00.000Z",
                                    398.5,
                                    "{\"predictions\": {\"consumption_mw\": 532.8012919411755, \"prediction_interval_consumption_mw\": [478.6263045110887, 549.9372929453056]}}"
                                ],
                                [
                                    "2026-11-28T23:00:00.000Z",
                                    447.9,
                                    "{\"predictions\": {\"consumption_mw\": 523.8561958190352, \"prediction_interval_consumption_mw\": [474.1995909687897, 551.2147195276265]}}"
                                ],
                                [
                                    "2026-11-29T23:00:00.000Z",
                                    479.8,
                                    "{\"predictions\": {\"consumption_mw\": 628.9506071879422, \"prediction_interval_consumption_mw\": [576.0299242682157, 661.1513168781662]}}"
                                ],
                                [
                                    "2026-11-30T23:00:00.000Z",
                                    538.3,
                                    "{\"predictions\": {\"consumption_mw\": 626.0524243167018, \"prediction_interval_consumption_mw\": [570.9394538935428, 649.0436708846644]}}"
                                ],
                                [
                                    "2026-12-01T23:00:00.000Z",
                                    503,
                                    "{\"predictions\": {\"consumption_mw\": 622.9928294685865, \"prediction_interval_consumption_mw\": [559.5542636595794, 637.0220001139063]}}"
                                ],
                                [
                                    "2026-12-02T23:00:00.000Z",
                                    496.2,
                                    "{\"predictions\": {\"consumption_mw\": 633.8036127677542, \"prediction_interval_consumption_mw\": [567.8814645138754, 670.4958415585478]}}"
                                ],
                                [
                                    "2026-12-03T23:00:00.000Z",
                                    540.4,
                                    "{\"predictions\": {\"consumption_mw\": 625.0936454417126, \"prediction_interval_consumption_mw\": [569.7587461015943, 649.5360264719346]}}"
                                ],
                                [
                                    "2026-12-04T23:00:00.000Z",
                                    447.2,
                                    "{\"predictions\": {\"consumption_mw\": 532.7852952504322, \"prediction_interval_consumption_mw\": [491.1864712482775, 546.2909441716464]}}"
                                ],
                                [
                                    "2026-12-05T23:00:00.000Z",
                                    464.3,
                                    "{\"predictions\": {\"consumption_mw\": 523.840850588417, \"prediction_interval_consumption_mw\": [469.1254247938542, 545.100868586472]}}"
                                ],
                                [
                                    "2026-12-06T23:00:00.000Z",
                                    540.7,
                                    "{\"predictions\": {\"consumption_mw\": 628.931886266019, \"prediction_interval_consumption_mw\": [578.5572028045553, 662.9841788165238]}}"
                                ],
                                [
                                    "2026-12-07T23:00:00.000Z",
                                    567.3,
                                    "{\"predictions\": {\"consumption_mw\": 626.0341899342487, \"prediction_interval_consumption_mw\": [566.9789103846864, 649.3453927566311]}}"
                                ],
                                [
                                    "2026-12-08T23:00:00.000Z",
                                    557,
                                    "{\"predictions\": {\"consumption_mw\": 622.9750749519721, \"prediction_interval_consumption_mw\": [565.1188778395535, 643.8380232020739]}}"
                                ],
                                [
                                    "2026-12-09T23:00:00.000Z",
                                    556.3,
                                    "{\"predictions\": {\"consumption_mw\": 633.7858682917338, \"prediction_interval_consumption_mw\": [571.8578049625592, 646.1097541869518]}}"
                                ],
                                [
                                    "2026-12-10T23:00:00.000Z",
                                    538.3,
                                    "{\"predictions\": {\"consumption_mw\": 625.0765491251386, \"prediction_interval_consumption_mw\": [559.9792587303385, 652.3321625168168]}}"
                                ],
                                [
                                    "2026-12-11T23:00:00.000Z",
                                    475.4,
                                    "{\"predictions\": {\"consumption_mw\": 532.7714741396684, \"prediction_interval_consumption_mw\": [488.6277265484581, 558.6109928882936]}}"
                                ],
                                [
                                    "2026-12-12T23:00:00.000Z",
                                    458.7,
                                    "{\"predictions\": {\"consumption_mw\": 523.8275923286238, \"prediction_interval_consumption_mw\": [483.3308227002539, 542.1116673913915]}}"
                                ],
                                [
                                    "2026-12-13T23:00:00.000Z",
                                    536.1,
                                    "{\"predictions\": {\"consumption_mw\": 628.9157114020434, \"prediction_interval_consumption_mw\": [572.4444243678057, 648.0806474551302]}}"
                                ],
                                [
                                    "2026-12-14T23:00:00.000Z",
                                    576.7,
                                    "{\"predictions\": {\"consumption_mw\": 626.018435429388, \"prediction_interval_consumption_mw\": [570.8989785091741, 650.3283850401185]}}"
                                ],
                                [
                                    "2026-12-15T23:00:00.000Z",
                                    575,
                                    "{\"predictions\": {\"consumption_mw\": 622.9597350409891, \"prediction_interval_consumption_mw\": [579.012353159271, 652.8315343825564]}}"
                                ],
                                [
                                    "2026-12-16T23:00:00.000Z",
                                    616.4,
                                    "{\"predictions\": {\"consumption_mw\": 633.7705370458787, \"prediction_interval_consumption_mw\": [583.4451224162818, 664.7080189397842]}}"
                                ],
                                [
                                    "2026-12-17T23:00:00.000Z",
                                    588.7,
                                    "{\"predictions\": {\"consumption_mw\": 625.0617778803353, \"prediction_interval_consumption_mw\": [558.7180937103117, 655.2036731460482]}}"
                                ],
                                [
                                    "2026-12-18T23:00:00.000Z",
                                    518.4,
                                    "{\"predictions\": {\"consumption_mw\": 532.7595326704788, \"prediction_interval_consumption_mw\": [501.87064839653397, 554.035986479761]}}"
                                ],
                                [
                                    "2026-12-19T23:00:00.000Z",
                                    490.9,
                                    "{\"predictions\": {\"consumption_mw\": 523.8161371568909, \"prediction_interval_consumption_mw\": [472.2649376497238, 549.4850893345119]}}"
                                ],
                                [
                                    "2026-12-20T23:00:00.000Z",
                                    720.9,
                                    "{\"predictions\": {\"consumption_mw\": 628.9017362681946, \"prediction_interval_consumption_mw\": [573.091900430192, 650.9935029220128]}}"
                                ],
                                [
                                    "2026-12-21T23:00:00.000Z",
                                    600.8,
                                    "{\"predictions\": {\"consumption_mw\": 626.0048234791911, \"prediction_interval_consumption_mw\": [571.7490582776733, 659.1488998862121]}}"
                                ],
                                [
                                    "2026-12-22T23:00:00.000Z",
                                    750.5,
                                    "{\"predictions\": {\"consumption_mw\": 622.9464812938398, \"prediction_interval_consumption_mw\": [573.9245281449171, 657.0237403560191]}}"
                                ],
                                [
                                    "2026-12-23T23:00:00.000Z",
                                    605.4,
                                    "{\"predictions\": {\"consumption_mw\": 633.7572907780083, \"prediction_interval_consumption_mw\": [587.2622606318487, 661.8721578714227]}}"
                                ],
                                [
                                    "2026-12-24T23:00:00.000Z",
                                    443.8,
                                    "{\"predictions\": {\"consumption_mw\": 625.0490154489748, \"prediction_interval_consumption_mw\": [578.9173775628365, 646.3228377455057]}}"
                                ],
                                [
                                    "2026-12-25T23:00:00.000Z",
                                    546.8,
                                    "{\"predictions\": {\"consumption_mw\": 532.7492151742307, \"prediction_interval_consumption_mw\": [483.68757000059645, 559.7614524428661]}}"
                                ],
                                [
                                    "2026-12-26T23:00:00.000Z",
                                    525,
                                    "{\"predictions\": {\"consumption_mw\": 523.8062398191554, \"prediction_interval_consumption_mw\": [482.65399264968477, 547.4625264017197]}}"
                                ],
                                [
                                    "2026-12-27T23:00:00.000Z",
                                    610.2,
                                    "{\"predictions\": {\"consumption_mw\": 628.8896616617047, \"prediction_interval_consumption_mw\": [571.8895593556133, 669.5408719979924]}}"
                                ],
                                [
                                    "2026-12-28T23:00:00.000Z",
                                    647.6,
                                    "{\"predictions\": {\"consumption_mw\": 625.9930626597964, \"prediction_interval_consumption_mw\": [566.1715111085971, 657.1060715154842]}}"
                                ],
                                [
                                    "2026-12-29T23:00:00.000Z",
                                    665.5,
                                    "{\"predictions\": {\"consumption_mw\": 622.9350299586979, \"prediction_interval_consumption_mw\": [567.7983639935965, 656.6616848289362]}}"
                                ],
                                [
                                    "2026-12-30T23:00:00.000Z",
                                    669.5,
                                    "{\"predictions\": {\"consumption_mw\": 633.7458458994735, \"prediction_interval_consumption_mw\": [574.9733279493659, 666.673470363638]}}"
                                ]
                            ]
                        }
                    },
                    "metadata": {},
                    "execution_count": 0
                }
            ],
            "source": [
                "execute_sql(f\"\"\"DROP TABLE IF EXISTS electricity_consumption_test_predictions\"\"\")\n",
                "execute_sql(\n",
                "    f\"\"\"CALL sys.ML_PREDICT_TABLE('{SCHEMA}.electricity_consumption_test', '{model}', '{SCHEMA}.electricity_consumption_test_predictions', NULL)\"\"\"\n",
                ")\n",
                "df_predictions = execute_sql(f\"\"\"SELECT date, consumption_mw, ml_results FROM electricity_consumption_test_predictions\"\"\")\n",
                "execute_sql(f\"\"\"DROP TABLE IF EXISTS electricity_consumption_test_predictions\"\"\")\n",
                "df_predictions"
            ]
        },
        {
            "cell_type": "markdown",
            "id": "85a963d1",
            "metadata": {},
            "source": [
                "### Getting a deeper understanding of the model's predictions"
            ]
        },
        {
            "cell_type": "markdown",
            "id": "2eb80ffb",
            "metadata": {},
            "source": [
                "Next, we visualize the electricity consumption data alongside the model forecasts."
            ]
        },
        {
            "cell_type": "code",
            "execution_count": 47,
            "id": "a2c8138a",
            "metadata": {},
            "outputs": [
                {
                    "output_type": "display_data",
                    "data": {
                        "text/plain": "<Figure size 1500x800 with 1 Axes>",
                        "image/png": "[encoded data removed]"
                    },
                    "metadata": {},
                    "execution_count": 0
                }
            ],
            "source": [
                "forecasted_consumption_mw = df_predictions['ml_results'].apply(json.loads).apply(lambda x: x[\"predictions\"][\"consumption_mw\"]).apply(pd.Series).values\n",
                "df_predictions['forecast_mw']=forecasted_consumption_mw\n",
                "\n",
                "def plot_data_and_forecast(historical_data, forecast_data=None):\n",
                "    \"\"\"\n",
                "    Plot historical data and optional forecast\n",
                "    \n",
                "    Parameters:\n",
                "    historical_data (pandas.DataFrame): Historical consumption data\n",
                "    forecast_data (pandas.DataFrame): Optional forecast data\n",
                "    \"\"\"\n",
                "    \n",
                "    plt.figure(figsize=(15, 8))\n",
                "    \n",
                "    # Plot historical data\n",
                "    plt.plot(historical_data['date'], historical_data['consumption_mw'], \n",
                "             label='Historical Data', linewidth=1, alpha=0.8)\n",
                "    \n",
                "    # Plot forecast if provided\n",
                "    if forecast_data is not None:\n",
                "        plt.plot(forecast_data['date'], forecast_data['forecast_mw'], \n",
                "                 label='Forecast', linewidth=2, linestyle='--', color='red')\n",
                "    \n",
                "    plt.title('San Francisco Electricity Consumption (2024-2026) with Forecast', fontsize=16)\n",
                "    plt.xlabel('Date', fontsize=12)\n",
                "    plt.ylabel('Consumption (MW)', fontsize=12)\n",
                "    plt.legend()\n",
                "    plt.grid(True, alpha=0.3)\n",
                "    plt.xticks(rotation=45)\n",
                "    plt.tight_layout()\n",
                "    plt.show()\n",
                "\n",
                "df_predictions['date'] = pd.to_datetime(df_predictions['date'])\n",
                "plot_data_and_forecast(df_train, df_predictions)"
            ]
        },
        {
            "cell_type": "markdown",
            "attachments": {},
            "id": "57c71969-ad19-42c4-9c0e-762a500b7823",
            "metadata": {},
            "source": [
                "We invite you to try [HeatWave AutoML and GenAI](https://www.oracle.com/heatwave/free/). If you’re new to Oracle Cloud Infrastructure, try Oracle Cloud Free Trial, a free 30-day trial with US$300 in credits."
            ]
        }
    ],
    "metadata": {
        "kernelspec": {
            "display_name": "pyvenv311",
            "language": "python",
            "name": "python3"
        },
        "language_info": {
            "codemirror_mode": {
                "name": "ipython",
                "version": 3
            },
            "file_extension": ".py",
            "mimetype": "text/x-python",
            "name": "python",
            "nbconvert_exporter": "python",
            "pygments_lexer": "ipython3",
            "version": "3.11.13"
        },
        "mysql": {}
    },
    "nbformat": 4,
    "nbformat_minor": 4
}