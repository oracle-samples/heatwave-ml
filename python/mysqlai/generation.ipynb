{
    "cells": [
        {
            "cell_type": "markdown",
            "id": "559d8a94-55eb-43c9-bebe-33d3953216a7",
            "metadata": {},
            "source": [
                "# MySQL AI\n",
                "MySQL AI provides developers to build rich applications with MySQL leveraging built in machine learning, GenAI, LLMs and semantic search. They can create vectors from documents stored in a local file system. Customers can deploy these AI applications on premise or migrate them to MySQL HeatWave for lower cost, higher performance, richer functionality and latest LLMs with no change to their application. This gives developers the flexibility to build their applications on MySQL EE and then deploy them either on premise or in the cloud."
            ]
        },
        {
            "cell_type": "markdown",
            "id": "1842993b-68d9-4e39-8b34-826ff34e9dac",
            "metadata": {},
            "source": [
                "This notebook demonstrates the application of [ML_GENERATE](https://dev.mysql.com/doc/heatwave/en/mys-hwgenai-ml-generate.html) for content generation using data from the 2024 Olympic Games.\n",
                "\n",
                "### References\n",
                "- https://blogs.oracle.com/mysql/post/announcing-mysql-ai\n",
                "- https://dev.mysql.com/doc/mysql-ai/9.4/en/\n",
                "- https://dev.mysql.com/doc/dev/mysql-studio/latest/#overview\n",
                "- https://www.economicsobservatory.com/what-happened-at-the-2024-olympics\n",
                "- https://en.wikipedia.org/wiki/2024_Summer_Olympics\n",
                "\n",
                "### Prerequistises\n",
                "\n",
                "- mysql-connector-python\n",
                "- pandas "
            ]
        },
        {
            "cell_type": "markdown",
            "id": "cdfdf43d-fa00-418b-950c-379cdb9d51a1",
            "metadata": {},
            "source": [
                "##### Import Python packages"
            ]
        },
        {
            "cell_type": "code",
            "execution_count": 3,
            "id": "e9509e32-7ae6-440e-a1dc-85100bfe8976",
            "metadata": {},
            "outputs": [],
            "source": [
                "# import Python packages\n",
                "import os\n",
                "import json\n",
                "import numpy as np\n",
                "import pandas as pd\n",
                "import mysql.connector"
            ]
        },
        {
            "cell_type": "markdown",
            "id": "27c0c921-7a0c-4b41-a5c0-81da052e0856",
            "metadata": {},
            "source": [
                "### Connect to MySQL AI instance\n",
                "We create a connection to an active MySQL AI instance using the [MySQL Connector/Python](https://dev.mysql.com/doc/connector-python/en/). We also define an API to execute a SQL query using a cursor, and the result is returned as a Pandas DataFrame. Modify the below variables to point to your MySQL AI instance.\n",
                "\n",
                " - In MySQL Studio, connections are restricted to only allow localhost as the host. \n",
                " - In MySQL Studio, the only accepted password values are the string unused or None. "
            ]
        },
        {
            "cell_type": "code",
            "execution_count": null,
            "id": "5caf4bd2-db0f-4ce2-b18f-a442af4ba58b",
            "metadata": {},
            "outputs": [],
            "source": [
                "HOST = 'localhost'\n",
                "PORT = 3306\n",
                "USER = 'root'\n",
                "PASSWORD = 'unused'\n",
                "DATABASE = 'mlcorpus'\n",
                "\n",
                "\n",
                "myconn = mysql.connector.connect(\n",
                "    host=HOST,\n",
                "    port=PORT,\n",
                "    user=USER,\n",
                "    password=PASSWORD,\n",
                "    database=DATABASE,\n",
                "    allow_local_infile=True,\n",
                "    use_pure=True,\n",
                "    autocommit=True,\n",
                ")\n",
                "mycursor = myconn.cursor()\n",
                "\n",
                "\n",
                "# Helper function to execute SQL queries and return the results as a Pandas DataFrame\n",
                "def execute_sql(sql: str) -> pd.DataFrame:\n",
                "    mycursor.execute(sql)\n",
                "    return pd.DataFrame(mycursor.fetchall(), columns=mycursor.column_names)\n",
                ""
            ]
        },
        {
            "cell_type": "markdown",
            "id": "2fd376b2-d27f-4745-802b-d7aac2e81ff2",
            "metadata": {},
            "source": [
                "# ML_GENERATE operation"
            ]
        },
        {
            "cell_type": "markdown",
            "id": "0db8cf1d-c602-41e4-a6b3-a71e749d84e5",
            "metadata": {},
            "source": [
                "You can perform content generation using the [ML_GENERATE](https://dev.mysql.com/doc/heatwave/en/mys-hwgenai-ml-generate.html) procedure."
            ]
        },
        {
            "cell_type": "markdown",
            "id": "e8314df1-3a03-4767-a207-46048ae7c94c",
            "metadata": {},
            "source": [
                "### Content generation"
            ]
        },
        {
            "cell_type": "markdown",
            "id": "b8efca09-1155-4fcb-ace0-5bd9731a5d72",
            "metadata": {},
            "source": [
                "Invoke the [ML_GENERATE](https://dev.mysql.com/doc/heatwave/en/mys-hwgenai-ml-generate.html) procedure to query the LLM."
            ]
        },
        {
            "cell_type": "code",
            "execution_count": 5,
            "id": "40227923",
            "metadata": {},
            "outputs": [
                {
                    "output_type": "display_data",
                    "data": {
                        "text/plain": "'The first modern Olympic Games were held in 1896, in Athens, Greece. They were organized by the International Olympic Committee (IOC) and took place from April 6 to April 15, 1896.'"
                    },
                    "metadata": {},
                    "execution_count": 0
                }
            ],
            "source": [
                "df = execute_sql(f\"\"\"SELECT JSON_PRETTY(sys.ML_GENERATE(\"In which year were the first modern Olympic Games held?\", NULL));\"\"\")\n",
                "json.loads(df.iat[0,0])[\"text\"]"
            ]
        },
        {
            "cell_type": "code",
            "execution_count": 6,
            "id": "9c3ddf9b-20a1-4488-af92-413349971f66",
            "metadata": {},
            "outputs": [
                {
                    "output_type": "display_data",
                    "data": {
                        "text/plain": "\"I don't have information about the specific number of Olympians who will participate in the 2024 Games, as my training data only goes up until 2022 and I do not have real-time access to current events or future information. However, I can suggest checking the official Olympic website or other reliable news sources for the most up-to-date information on the participants of the 2024 Paris Olympics.\""
                    },
                    "metadata": {},
                    "execution_count": 0
                }
            ],
            "source": [
                "df = execute_sql(f\"\"\"SELECT JSON_PRETTY(sys.ML_GENERATE(\"How many Olympians participated in the 2024 Games?\", NULL));\"\"\")\n",
                "json.loads(df.iat[0,0])[\"text\"]"
            ]
        },
        {
            "cell_type": "markdown",
            "id": "3c9e8154-a3d1-4c48-b2ac-447135d70c37",
            "metadata": {},
            "source": [
                "The model is unable to answer the above question because its training data extends only up to 2022.\n",
                "\n",
                "Let's provide the model with up-to-date information by using the 'context' option in the command."
            ]
        },
        {
            "cell_type": "code",
            "execution_count": 7,
            "id": "306038a5-3a81-4ac8-8906-54ff2f37f3ee",
            "metadata": {},
            "outputs": [
                {
                    "output_type": "display_data",
                    "data": {
                        "text/plain": "'According to the text, there were 10,500 Olympians who competed in the 2024 Olympic Games.'"
                    },
                    "metadata": {},
                    "execution_count": 0
                }
            ],
            "source": [
                "df = execute_sql(f\"\"\"SELECT JSON_PRETTY(sys.ML_GENERATE(\"How many Olympians participated in the 2024 Games?\", JSON_OBJECT(\"context\", \"Paris has been the host for the 2024 Olympic and Paralympic Games. Over the course of the summer, the city – and other venues across France – have welcomed 10,500 Olympians (competing in 32 sports) and over 4,000 Paralympians (competing in 22 sports).\")));\"\"\")\n",
                "json.loads(df.iat[0,0])[\"text\"]"
            ]
        }
    ],
    "metadata": {
        "kernelspec": {
            "display_name": "pyvenv311",
            "language": "python",
            "name": "python3"
        },
        "language_info": {
            "codemirror_mode": {
                "name": "ipython",
                "version": 3
            },
            "file_extension": ".py",
            "mimetype": "text/x-python",
            "name": "python",
            "nbconvert_exporter": "python",
            "pygments_lexer": "ipython3",
            "version": "3.11.13"
        },
        "mysql": {}
    },
    "nbformat": 4,
    "nbformat_minor": 4
}