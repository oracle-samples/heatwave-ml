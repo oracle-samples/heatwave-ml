{
    "cells": [
        {
            "cell_type": "markdown",
            "attachments": {},
            "id": "806665a8-886d-439a-9aca-2da6392acf23",
            "metadata": {},
            "source": [
                "# MySQL AI\n",
                "MySQL AI provides developers to build rich applications with MySQL leveraging built in machine learning, GenAI, LLMs and semantic search. They can create vectors from documents stored in a local file system. Customers can deploy these AI applications on premise or migrate them to MySQL HeatWave for lower cost, higher performance, richer functionality and latest LLMs with no change to their application. This gives developers the flexibility to build their applications on MySQL EE and then deploy them either on premise or in the cloud."
            ]
        },
        {
            "cell_type": "markdown",
            "id": "50bcff27",
            "metadata": {},
            "source": [
                "### Fraud detection with Creditcard Dataset Notebook\n",
                "This notebook explores the application of machine learning techniques to the Creditcard dataset, a popular dataset in machine learning, particularly for fraud detection tasks. Credit card fraud poses a significant threat to financial institutions and individuals alike, resulting in substantial financial losses and eroded trust. Traditional rule-based systems often struggle to keep pace with the evolving tactics of fraudsters, making machine learning-based anomaly detection a vital tool.\n",
                "\n",
                "The dataset was collected during a two-day period and anonymized using Principal Component Analysis (PCA) to protect cardholder identities. It provides a realistic scenario for developing and evaluating fraud detection algorithms.\n",
                "\n",
                "The dataset includes the following features:\n",
                "\n",
                "- Time: Number of seconds elapsed between each transaction and the first transaction in the dataset.\n",
                "- V1 - V28: Anonymized features obtained through PCA transformation. These represent various transaction attributes but their specific meanings are not provided to maintain confidentiality.\n",
                "- Amount: Transaction amount.\n",
                "- Class: Binary label indicating whether the transaction is fraudulent (1) or not (0). While we'll use this for evaluation, our unsupervised models will not be trained using this label.\n",
                "\n",
                "Throughout this notebook, we will use MySQL AI AutoML to train an unsupervised anomaly detection model. In this context, \"unsupervised\" signifies that we'll be training our models without explicitly using the \"Class\" label (fraudulent or legitimate) during the training phase. Instead, we'll rely on the inherent patterns and structures within the transaction data to identify deviations from the norm."
            ]
        },
        {
            "cell_type": "markdown",
            "id": "a7926d29",
            "metadata": {},
            "source": [
                "### References\n",
                "- https://blogs.oracle.com/mysql/post/announcing-mysql-ai\n",
                "- https://dev.mysql.com/doc/mysql-ai/9.4/en/\n",
                "- https://dev.mysql.com/doc/dev/mysql-studio/latest/#overview\n",
                "\n",
                "### Prerequistises\n",
                "\n",
                "- mysql-connector-python\n",
                "- pandas \n",
                "- scikit-learn\n",
                "- sqlalchemy\n",
                "- matplotlib"
            ]
        },
        {
            "cell_type": "code",
            "execution_count": 24,
            "id": "16a028ef",
            "metadata": {},
            "outputs": [],
            "source": [
                "import json\n",
                "import os\n",
                "import numpy as np\n",
                "import pandas as pd\n",
                "import sqlalchemy\n",
                "import mysql.connector\n",
                "from sklearn.model_selection import train_test_split\n",
                "from sklearn.metrics import ConfusionMatrixDisplay\n",
                "import matplotlib.pyplot as plt"
            ]
        },
        {
            "cell_type": "markdown",
            "id": "d452f97d",
            "metadata": {},
            "source": [
                "### Connect to MySQL AI instance\n",
                "We create a connection to an active MySQL AI instance using the [MySQL Connector/Python](https://dev.mysql.com/doc/connector-python/en/). We also define an API to execute a SQL query using a cursor, and the result is returned as a Pandas DataFrame. Modify the below variables to point to your MySQL AI instance.\n",
                "\n",
                " - In MySQL Studio, connections are restricted to only allow localhost as the host. \n",
                " - In MySQL Studio, the only accepted password values are the string unused or None. "
            ]
        },
        {
            "cell_type": "code",
            "execution_count": null,
            "id": "5256a035",
            "metadata": {},
            "outputs": [],
            "source": [
                "HOST = 'localhost'\n",
                "PORT = 3306\n",
                "USER = 'root'\n",
                "PASSWORD = 'unused'\n",
                "SCHEMA = 'mlcorpus'\n",
                "\n",
                "\n",
                "myconn = mysql.connector.connect(\n",
                "    host=HOST,\n",
                "    port=PORT,\n",
                "    user=USER,\n",
                "    password=PASSWORD,\n",
                "    database=SCHEMA,\n",
                "    allow_local_infile=True,\n",
                "    use_pure=True,\n",
                "    autocommit=True,\n",
                ")\n",
                "mycursor = myconn.cursor()\n",
                "\n",
                "# Helper function to execute SQL queries and return the results as a Pandas DataFrame\n",
                "def execute_sql(sql: str) -> pd.DataFrame:\n",
                "    mycursor.execute(sql)\n",
                "    return pd.DataFrame(mycursor.fetchall(), columns=mycursor.column_names)"
            ]
        },
        {
            "cell_type": "markdown",
            "id": "92642ba6",
            "metadata": {},
            "source": [
                " ### Download the Creditcard dataset and load it into a MySQL table\n",
                " \n",
                " Download link: https://figshare.com/articles/dataset/creditcard_Dataset/29270873?file=55234994\n",
                "\n",
                " After download, copy the dataset csv file into /var/lib/mysql-files folder\n",
                "\n",
                " Example: sudo cp /home/john_doe/creditcard.csv /var/lib/mysql-files\n",
                "\n",
                "\n",
                " MySQL Studio imposes a 5MB file upload limit. For files exceeding this size, you must place them in the designated secure directory in MySQL (e.g., /var/lib/mysql-files) and load them directly within MySQL. \n",
                " \n",
                " Given that the credit card dataset is approximately 150MB in size, it must be transferred to the secure directory on the MySQL server (/var/lib/mysql-files), before it can be imported into MySQL using the LOAD DATA INFILE command.\n",
                "\n",
                " "
            ]
        },
        {
            "cell_type": "code",
            "id": "bd5673c1-341a-463e-b531-3424057080f6",
            "metadata": {},
            "source": [
                "# Drop table if exists\n",
                "create_sql = \"\"\"\n",
                "DROP TABLE IF EXISTS mlcorpus.creditcard\n",
                "\"\"\"\n",
                "execute_sql(create_sql)\n",
                "\n",
                "# Create an empty table\n",
                "create_sql = \"\"\"\n",
                "CREATE TABLE IF NOT EXISTS mlcorpus.creditcard (\n",
                "    Time FLOAT,\n",
                "    V1 FLOAT, V2 FLOAT, V3 FLOAT, V4 FLOAT, V5 FLOAT, V6 FLOAT,\n",
                "    V7 FLOAT, V8 FLOAT, V9 FLOAT, V10 FLOAT, V11 FLOAT, V12 FLOAT,\n",
                "    V13 FLOAT, V14 FLOAT, V15 FLOAT, V16 FLOAT, V17 FLOAT, V18 FLOAT,\n",
                "    V19 FLOAT, V20 FLOAT, V21 FLOAT, V22 FLOAT, V23 FLOAT, V24 FLOAT,\n",
                "    V25 FLOAT, V26 FLOAT, V27 FLOAT, V28 FLOAT,\n",
                "    Amount FLOAT,\n",
                "    Class INT,\n",
                "    INDEX (Class)\n",
                ");\n",
                "\"\"\"\n",
                "execute_sql(create_sql)"
            ],
            "execution_count": 0,
            "outputs": [
                {
                    "output_type": "display_data",
                    "data": {
                        "text/plain": "Empty DataFrame\nColumns: []\nIndex: []",
                        "text/html": "<div>\n<style scoped>\n    .dataframe tbody tr th:only-of-type {\n        vertical-align: middle;\n    }\n\n    .dataframe tbody tr th {\n        vertical-align: top;\n    }\n\n    .dataframe thead th {\n        text-align: right;\n    }\n</style>\n<table border=\"1\" class=\"dataframe\">\n  <thead>\n    <tr style=\"text-align: right;\">\n      <th></th>\n    </tr>\n  </thead>\n  <tbody>\n  </tbody>\n</table>\n</div>",
                        "application/vnd.mysql.notebook.dataframe+json": {
                            "columns": [],
                            "dtypes": [],
                            "index": [],
                            "rows": []
                        }
                    },
                    "metadata": {},
                    "execution_count": 0
                }
            ]
        },
        {
            "cell_type": "code",
            "id": "3aaefed8-a31c-46bd-b67c-ae187f63ad17",
            "metadata": {},
            "source": [
                "# Load the data into table\n",
                "load_sql = f\"\"\"\n",
                "LOAD DATA INFILE '/var/lib/mysql-files/creditcard.csv'\n",
                "INTO TABLE mlcorpus.creditcard\n",
                "FIELDS TERMINATED BY ','\n",
                "ENCLOSED BY '\"'\n",
                "LINES TERMINATED BY '\\\\n'\n",
                "IGNORE 1 LINES\n",
                "(Time, V1, V2, V3, V4, V5, V6, V7, V8, V9,\n",
                " V10, V11, V12, V13, V14, V15, V16, V17, V18, V19,\n",
                " V20, V21, V22, V23, V24, V25, V26, V27, V28,\n",
                " Amount, Class);\n",
                "\"\"\"\n",
                "execute_sql(load_sql)"
            ],
            "execution_count": 0,
            "outputs": [
                {
                    "output_type": "display_data",
                    "data": {
                        "text/plain": "Empty DataFrame\nColumns: []\nIndex: []",
                        "text/html": "<div>\n<style scoped>\n    .dataframe tbody tr th:only-of-type {\n        vertical-align: middle;\n    }\n\n    .dataframe tbody tr th {\n        vertical-align: top;\n    }\n\n    .dataframe thead th {\n        text-align: right;\n    }\n</style>\n<table border=\"1\" class=\"dataframe\">\n  <thead>\n    <tr style=\"text-align: right;\">\n      <th></th>\n    </tr>\n  </thead>\n  <tbody>\n  </tbody>\n</table>\n</div>",
                        "application/vnd.mysql.notebook.dataframe+json": {
                            "columns": [],
                            "dtypes": [],
                            "index": [],
                            "rows": []
                        }
                    },
                    "metadata": {},
                    "execution_count": 0
                }
            ]
        },
        {
            "cell_type": "markdown",
            "attachments": {},
            "id": "3b646669-545e-43b5-bdc5-f2e4aa7735b7",
            "metadata": {},
            "source": [
                "Load the creditcard table into python using Pandas. Given the size of the dataset (~280K rows), we take a 10% uniform random sample of the dataset for the purpose of this notebook."
            ]
        },
        {
            "cell_type": "code",
            "id": "f4452d1c-30ec-44b3-93db-2807dbeec813",
            "metadata": {},
            "source": [
                "# Create a SQLAlchemy engine instance to connect to the MySQL database\n",
                "sql_engine = sqlalchemy.create_engine(\n",
                "    f\"mysql+mysqlconnector://{USER}:{PASSWORD}@{HOST}:{PORT}/{SCHEMA}\",\n",
                "    echo=False,\n",
                "    echo_pool=False,\n",
                "    pool_pre_ping=True,\n",
                "    pool_recycle=3600,\n",
                ")\n",
                "\n",
                "# Read the table into a DataFrame\n",
                "df = pd.read_sql(\"SELECT * FROM mlcorpus.creditcard\", con=sql_engine)\n",
                "df = df.sample(frac=0.1, random_state=1)"
            ],
            "execution_count": 0,
            "outputs": []
        },
        {
            "cell_type": "markdown",
            "id": "d8fb03b2",
            "metadata": {},
            "source": [
                "### Split the data into a training set and an evaluation set\n",
                "In machine learning, the train-test split is a crucial technique used to evaluate the performance of a model on unseen data. It involves dividing the available dataset into two distinct subsets:   \n",
                "\n",
                "- Training set: This subset is used to train the machine learning model. The model learns the underlying patterns and relationships in the data by analyzing this set.   \n",
                "- Test set: This subset is held back and not used during the training process. Once the model is trained, it's applied to the test set to assess its ability to generalize to new, unseen data."
            ]
        },
        {
            "cell_type": "code",
            "execution_count": 27,
            "id": "896be451",
            "metadata": {},
            "outputs": [],
            "source": [
                "df_train, df_test = train_test_split(\n",
                "    df, test_size=0.30, random_state=1, stratify=df[\"Class\"]\n",
                ")\n",
                "df_train = df_train.replace({np.nan: \"NULL\"})\n",
                "df_test = df_test.replace({np.nan: \"NULL\"})"
            ]
        },
        {
            "cell_type": "markdown",
            "id": "bd8f4886",
            "metadata": {},
            "source": [
                " ### Load the Creditcard train and test splits into MySQL tables\n",
                " We connect to the MySQL database using SQLAlchemy, map Pandas data types to their corresponding MySQL dialects, and writes two DataFrames (df_train and df_test) to separate tables (creditcard_train and creditcard_test) in the database, replacing any existing tables."
            ]
        },
        {
            "cell_type": "code",
            "execution_count": 28,
            "id": "b0f1b82b",
            "metadata": {},
            "outputs": [
                {
                    "output_type": "display_data",
                    "data": {
                        "text/plain": "-9"
                    },
                    "metadata": {},
                    "execution_count": 0
                }
            ],
            "source": [
                "# Define a dictionary mapping pandas data types to their corresponding SQLAlchemy dialects\n",
                "dtype_mapping = {\n",
                "    \"uint64\": sqlalchemy.dialects.mysql.INTEGER(unsigned=True),\n",
                "    \"int64\": sqlalchemy.dialects.mysql.INTEGER(),\n",
                "    \"float64\": sqlalchemy.dialects.mysql.FLOAT(),\n",
                "    \"object\": sqlalchemy.dialects.mysql.VARCHAR(length=255),\n",
                "    \"datetime64[ns]\": sqlalchemy.dialects.mysql.DATETIME(timezone=False),\n",
                "    \"bool\": sqlalchemy.dialects.mysql.TINYINT(),\n",
                "}\n",
                "# Prepare the dtype dict for sqlalchemy/pd.DataFrame.to_sql\n",
                "dtypes = {col: dtype_mapping[str(dtype)] for col, dtype in zip(df.columns, df.dtypes)}\n",
                "\n",
                "# Write the training DataFrame to the 'creditcard_train' table in the database\n",
                "df_train.to_sql(\n",
                "    f\"creditcard_train\",\n",
                "    con=sql_engine,\n",
                "    if_exists=\"replace\",\n",
                "    dtype=dtypes,\n",
                "    chunksize=1000,\n",
                "    index=False,\n",
                ")\n",
                "# Write the testing DataFrame to the 'creditcard_test' table in the database\n",
                "df_test.to_sql(\n",
                "    f\"creditcard_test\",\n",
                "    con=sql_engine,\n",
                "    if_exists=\"replace\",\n",
                "    dtype=dtypes,\n",
                "    chunksize=1000,\n",
                "    index=False,\n",
                ")"
            ]
        },
        {
            "cell_type": "markdown",
            "id": "2baf5ee8",
            "metadata": {},
            "source": [
                "### Create an AutoML model from the Creditcard training dataset\n",
                "We create a machine learning model on the Creditcard dataset using the [ML_TRAIN](https://dev.mysql.com/doc/heatwave/en/mys-hwaml-ml-train.html) API. Given this is unsupervised anomaly detection, we pass the target column name as NULL, and MySQL AI AutoML builds a model learning from the patterns inherent in the data. The model learns normal and anomalous patterns in the data, allowing it to predict the same for any new data points we give it during prediction. Given that the Class target column is present in the training table, we ask [ML_TRAIN](https://dev.mysql.com/doc/heatwave/en/mys-hwaml-ml-train.html) to exclude it from the learned features. The model handle generated at the end of training is stored in the model variable. We will use this handle to refer to the model in our future interactions"
            ]
        },
        {
            "cell_type": "code",
            "execution_count": 29,
            "id": "9f549e3f",
            "metadata": {},
            "outputs": [
                {
                    "output_type": "display_data",
                    "data": {
                        "text/plain": "Empty DataFrame\nColumns: []\nIndex: []",
                        "text/html": "<div>\n<style scoped>\n    .dataframe tbody tr th:only-of-type {\n        vertical-align: middle;\n    }\n\n    .dataframe tbody tr th {\n        vertical-align: top;\n    }\n\n    .dataframe thead th {\n        text-align: right;\n    }\n</style>\n<table border=\"1\" class=\"dataframe\">\n  <thead>\n    <tr style=\"text-align: right;\">\n      <th></th>\n    </tr>\n  </thead>\n  <tbody>\n  </tbody>\n</table>\n</div>",
                        "application/vnd.mysql.notebook.dataframe+json": {
                            "columns": [],
                            "dtypes": [],
                            "index": [],
                            "rows": []
                        }
                    },
                    "metadata": {},
                    "execution_count": 0
                }
            ],
            "source": [
                "execute_sql(\"\"\"SET @model = NULL;\"\"\")\n",
                "execute_sql(\n",
                "    f\"\"\"CALL sys.ML_TRAIN('{SCHEMA}.creditcard_train', NULL, JSON_OBJECT('task', 'anomaly_detection', 'exclude_column_list', JSON_ARRAY('Class')), @model)\"\"\"\n",
                ")\n",
                "model = execute_sql(\"\"\"SELECT @model;\"\"\").iat[0,0]\n",
                "execute_sql(f\"\"\"CALL sys.ML_MODEL_LOAD('{model}', NULL)\"\"\")"
            ]
        },
        {
            "cell_type": "markdown",
            "id": "9466af07",
            "metadata": {},
            "source": [
                "### Evaluate the model\n",
                "We look at the overall performance of the model on unseen data by using the [ML_SCORE](https://dev.mysql.com/doc/heatwave/en/mys-hwaml-ml-score.html) routine to compute the accuracy. The roc_auc metric for anomaly detection tells us how well the model can separate the normal transactions from the fraudulent ones. "
            ]
        },
        {
            "cell_type": "code",
            "execution_count": 30,
            "id": "b6b211f8-8153-4ac6-a151-083624acef64",
            "metadata": {},
            "outputs": [
                {
                    "output_type": "stream",
                    "text": [
                        "The model roc_auc is 90.89\n"
                    ]
                }
            ],
            "source": [
                "execute_sql(\n",
                "    f\"\"\"CALL sys.ML_SCORE('{SCHEMA}.creditcard_test', 'Class', '{model}', 'roc_auc', @score, NULL);\"\"\"\n",
                ")\n",
                "score = execute_sql(\"\"\"SELECT @score;\"\"\").iat[0,0]\n",
                "print(f\"The model roc_auc is {score*100:.2f}\")"
            ]
        },
        {
            "cell_type": "markdown",
            "id": "59149aaf",
            "metadata": {},
            "source": [
                "### Generating predictions to evaluate model performance on unseen test data\n",
                "We invoke the [ML_PREDICT_TABLE](https://dev.mysql.com/doc/heatwave/en/mys-hwaml-ml-predict-table.html) API to generate prediction for the above model on our test data. The output table contains an extra column ml_results which contains the predictions"
            ]
        },
        {
            "cell_type": "code",
            "execution_count": 31,
            "id": "ddbcfc41",
            "metadata": {},
            "outputs": [
                {
                    "output_type": "display_data",
                    "data": {
                        "text/plain": "     Time        V1  ...  Class                                         ml_results\n0   74165 -0.640130  ...      0  {\"predictions\": {\"is_anomaly\": 0}, \"probabilit...\n1   94428 -1.528380  ...      0  {\"predictions\": {\"is_anomaly\": 0}, \"probabilit...\n2   63603  0.953884  ...      0  {\"predictions\": {\"is_anomaly\": 0}, \"probabilit...\n3  131607  1.982120  ...      0  {\"predictions\": {\"is_anomaly\": 0}, \"probabilit...\n4   66478 -0.659545  ...      0  {\"predictions\": {\"is_anomaly\": 0}, \"probabilit...\n\n[5 rows x 6 columns]",
                        "text/html": "<div>\n<style scoped>\n    .dataframe tbody tr th:only-of-type {\n        vertical-align: middle;\n    }\n\n    .dataframe tbody tr th {\n        vertical-align: top;\n    }\n\n    .dataframe thead th {\n        text-align: right;\n    }\n</style>\n<table border=\"1\" class=\"dataframe\">\n  <thead>\n    <tr style=\"text-align: right;\">\n      <th></th>\n      <th>Time</th>\n      <th>V1</th>\n      <th>V2</th>\n      <th>V3</th>\n      <th>Class</th>\n      <th>ml_results</th>\n    </tr>\n  </thead>\n  <tbody>\n    <tr>\n      <th>0</th>\n      <td>74165</td>\n      <td>-0.640130</td>\n      <td>1.071570</td>\n      <td>1.567180</td>\n      <td>0</td>\n      <td>{\"predictions\": {\"is_anomaly\": 0}, \"probabilit...</td>\n    </tr>\n    <tr>\n      <th>1</th>\n      <td>94428</td>\n      <td>-1.528380</td>\n      <td>0.663147</td>\n      <td>0.723797</td>\n      <td>0</td>\n      <td>{\"predictions\": {\"is_anomaly\": 0}, \"probabilit...</td>\n    </tr>\n    <tr>\n      <th>2</th>\n      <td>63603</td>\n      <td>0.953884</td>\n      <td>-0.806137</td>\n      <td>0.893374</td>\n      <td>0</td>\n      <td>{\"predictions\": {\"is_anomaly\": 0}, \"probabilit...</td>\n    </tr>\n    <tr>\n      <th>3</th>\n      <td>131607</td>\n      <td>1.982120</td>\n      <td>-0.480906</td>\n      <td>-0.244874</td>\n      <td>0</td>\n      <td>{\"predictions\": {\"is_anomaly\": 0}, \"probabilit...</td>\n    </tr>\n    <tr>\n      <th>4</th>\n      <td>66478</td>\n      <td>-0.659545</td>\n      <td>0.401359</td>\n      <td>2.268490</td>\n      <td>0</td>\n      <td>{\"predictions\": {\"is_anomaly\": 0}, \"probabilit...</td>\n    </tr>\n  </tbody>\n</table>\n</div>",
                        "application/vnd.mysql.notebook.dataframe+json": {
                            "columns": [
                                "Time",
                                "V1",
                                "V2",
                                "V3",
                                "Class",
                                "ml_results"
                            ],
                            "dtypes": [
                                "int64",
                                "float64",
                                "float64",
                                "float64",
                                "int64",
                                "object"
                            ],
                            "index": [
                                0,
                                1,
                                2,
                                3,
                                4
                            ],
                            "rows": [
                                [
                                    74165,
                                    -0.64013,
                                    1.07157,
                                    1.56718,
                                    0,
                                    "{\"predictions\": {\"is_anomaly\": 0}, \"probabilities\": {\"normal\": 0.9826, \"anomaly\": 0.0174}}"
                                ],
                                [
                                    94428,
                                    -1.52838,
                                    0.663147,
                                    0.723797,
                                    0,
                                    "{\"predictions\": {\"is_anomaly\": 0}, \"probabilities\": {\"normal\": 0.9291, \"anomaly\": 0.0709}}"
                                ],
                                [
                                    63603,
                                    0.953884,
                                    -0.806137,
                                    0.893374,
                                    0,
                                    "{\"predictions\": {\"is_anomaly\": 0}, \"probabilities\": {\"normal\": 0.935, \"anomaly\": 0.065}}"
                                ],
                                [
                                    131607,
                                    1.98212,
                                    -0.480906,
                                    -0.244874,
                                    0,
                                    "{\"predictions\": {\"is_anomaly\": 0}, \"probabilities\": {\"normal\": 0.9825, \"anomaly\": 0.0175}}"
                                ],
                                [
                                    66478,
                                    -0.659545,
                                    0.401359,
                                    2.26849,
                                    0,
                                    "{\"predictions\": {\"is_anomaly\": 0}, \"probabilities\": {\"normal\": 0.965, \"anomaly\": 0.035}}"
                                ]
                            ]
                        }
                    },
                    "metadata": {},
                    "execution_count": 0
                }
            ],
            "source": [
                "execute_sql(f\"\"\"DROP TABLE IF EXISTS creditcard_test_predictions\"\"\")\n",
                "execute_sql(\n",
                "    f\"\"\"CALL sys.ML_PREDICT_TABLE('{SCHEMA}.creditcard_test', '{model}', '{SCHEMA}.creditcard_test_predictions', NULL)\"\"\"\n",
                ")\n",
                "df_predictions = execute_sql(f\"\"\"SELECT Time, V1, V2, V3, Class, ml_results FROM creditcard_test_predictions\"\"\")\n",
                "execute_sql(f\"\"\"DROP TABLE IF EXISTS creditcard_test_predictions\"\"\")\n",
                "df_predictions.head()"
            ]
        },
        {
            "cell_type": "markdown",
            "id": "85a963d1",
            "metadata": {},
            "source": [
                "### Getting a deeper understanding of the model's predictions"
            ]
        },
        {
            "cell_type": "markdown",
            "id": "2eb80ffb",
            "metadata": {},
            "source": [
                "A [Confusion Matrix](https://en.wikipedia.org/wiki/Confusion_matrix) in anomaly detection, while similar to its use in classification, needs a slightly different interpretation due to the often highly imbalanced nature of anomaly datasets. Here's a breakdown:\n",
                "\n",
                "In anomaly detection, we typically have two classes:\n",
                "\n",
                "- Normal (Negative): The majority class, representing typical, expected data.\n",
                "- Anomaly (Positive): The minority class, representing unusual or unexpected data points.\n",
                "\n",
                "The confusion matrix helps us understand how well our anomaly detection model performs by showing us how many data points were correctly and incorrectly classified. Here 0 means a normal transaction, and 1 means a fradulent transaction. Based on the diagram below, out of the 15 actual anomalies, we correctly labeled 7 of them as anomalies. We also marked 76 normal transcations as anomalies, which are our false positives."
            ]
        },
        {
            "cell_type": "code",
            "execution_count": 32,
            "id": "4c91ab26",
            "metadata": {},
            "outputs": [
                {
                    "output_type": "display_data",
                    "data": {
                        "text/plain": "<Figure size 640x480 with 2 Axes>",
                        "image/png": "[encoded data removed]"
                    },
                    "metadata": {},
                    "execution_count": 0
                }
            ],
            "source": [
                "ConfusionMatrixDisplay.from_predictions(\n",
                "    df_predictions[\"Class\"],\n",
                "    df_predictions[\"ml_results\"]\n",
                "    .apply(json.loads)\n",
                "    .apply(lambda x: x[\"predictions\"][\"is_anomaly\"]),\n",
                ")\n",
                "plt.show()"
            ]
        },
        {
            "cell_type": "markdown",
            "id": "b9850bd7",
            "metadata": {},
            "source": [
                "We invite you to try [HeatWave AutoML and GenAI](https://www.oracle.com/heatwave/free/). If you’re new to Oracle Cloud Infrastructure, try Oracle Cloud Free Trial, a free 30-day trial with US$300 in credits."
            ]
        }
    ],
    "metadata": {
        "kernelspec": {
            "display_name": "pyvenv311",
            "language": "python",
            "name": "python3"
        },
        "language_info": {
            "codemirror_mode": {
                "name": "ipython",
                "version": 3
            },
            "file_extension": ".py",
            "mimetype": "text/x-python",
            "name": "python",
            "nbconvert_exporter": "python",
            "pygments_lexer": "ipython3",
            "version": "3.11.13"
        },
        "mysql": {}
    },
    "nbformat": 4,
    "nbformat_minor": 4
}