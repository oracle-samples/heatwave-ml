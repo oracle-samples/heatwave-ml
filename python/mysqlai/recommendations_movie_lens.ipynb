{
    "cells": [
        {
            "cell_type": "markdown",
            "attachments": {},
            "id": "fcb6adc7-016a-42ec-9014-d81f65b5eb0d",
            "metadata": {},
            "source": [
                "# MySQL AI\n",
                "MySQL AI provides developers to build rich applications with MySQL leveraging built in machine learning, GenAI, LLMs and semantic search. They can create vectors from documents stored in a local file system. Customers can deploy these AI applications on premise or migrate them to MySQL HeatWave for lower cost, higher performance, richer functionality and latest LLMs with no change to their application. This gives developers the flexibility to build their applications on MySQL EE and then deploy them either on premise or in the cloud."
            ]
        },
        {
            "cell_type": "markdown",
            "id": "50bcff27",
            "metadata": {},
            "source": [
                "### Machine Learning with MovieLens Dataset Notebook\n",
                "This notebook explores the application of recommender system techniques using the MovieLens dataset, one of the most iconic and widely adopted benchmarks in recommender systems research.\n",
                "\n",
                "MovieLens data sets were collected by the GroupLens Research Project\n",
                "at the University of Minnesota.\n",
                " \n",
                "This data set consists of:\n",
                "  - 100,000 ratings (1-5) from 943 users on 1682 movies. \n",
                "  - Each user has rated at least 20 movies. \n",
                "    - Simple demographic info for the users (age, gender, occupation, zip)\n",
                "\n",
                "The data was collected through the MovieLens web site\n",
                "(movielens.umn.edu) during the seven-month period from September 19th, \n",
                "1997 through April 22nd, 1998. This data has been cleaned up - users\n",
                "who had less than 20 ratings or did not have complete demographic\n",
                "information were removed from this data set. Detailed descriptions of\n",
                "the data file can be found at the end of this file.\n",
                "\n",
                "Neither the University of Minnesota nor any of the researchers\n",
                "involved can guarantee the correctness of the data, its suitability\n",
                "for any particular purpose, or the validity of results based on the\n",
                "use of the data set.  The data set may be used for any research\n",
                "purposes under the following conditions:\n",
                "\n",
                "  - The user may not state or imply any endorsement from the University of Minnesota or the GroupLens Research Group.\n",
                "\n",
                "  - The user must acknowledge the use of the data set in publications resulting from the use of the data set.\n",
                "\n",
                "  - The user may not redistribute the data without separate permission.\n",
                "\n",
                "  - The user may not use this information for any commercial or revenue-bearing purposes without first obtaining permission from a faculty member of the GroupLens Research Project at the University of Minnesota.\n",
                "\n",
                "The ml-100k dataset includes the following key files:\n",
                "- u.data (ratings): Contains user–item interactions in the form\n",
                "\n",
                "    user_id | item_id | rating | timestamp (tab-separated).\n",
                "\n",
                "- u.item (movies): Contains metadata such as movie titles, release dates, IMDb URLs, and genre indicators (binary flags across multiple genres).\n",
                "- u.user (users): Contains demographic information for each user (age, gender, occupation, zip code).\n",
                "- Additional files (e.g., u.genre, u.info) provide auxiliary context and dataset metadata\n",
                "\n",
                "This notebook delves into the application of MySQL AI AutoML for building a personalized movie recommendation system using the MovieLens 100K dataset.\n",
                ""
            ]
        },
        {
            "cell_type": "markdown",
            "id": "a7926d29",
            "metadata": {},
            "source": [
                "### References\n",
                "- https://blogs.oracle.com/mysql/post/announcing-mysql-ai\n",
                "- https://dev.mysql.com/doc/mysql-ai/9.4/en/\n",
                "- https://dev.mysql.com/doc/dev/mysql-studio/latest/#overview\n",
                "\n",
                "\n",
                "### Prerequistises\n",
                "\n",
                "- mysql-connector-python\n",
                "- pandas \n",
                "- scikit-learn\n",
                "- sqlalchemy\n",
                "- matplotlib"
            ]
        },
        {
            "cell_type": "code",
            "execution_count": 1,
            "id": "16a028ef",
            "metadata": {},
            "outputs": [],
            "source": [
                "import os\n",
                "import json\n",
                "import zipfile\n",
                "import shutil\n",
                "import numpy as np\n",
                "import pandas as pd\n",
                "import sqlalchemy\n",
                "import mysql.connector\n",
                "import matplotlib.pyplot as plt\n",
                "from sklearn.model_selection import train_test_split"
            ]
        },
        {
            "cell_type": "markdown",
            "id": "d452f97d",
            "metadata": {},
            "source": [
                "### Connect to MySQL AI instance\n",
                "We create a connection to an active MySQL AI instance using the [MySQL Connector/Python](https://dev.mysql.com/doc/connector-python/en/). We also define an API to execute a SQL query using a cursor, and the result is returned as a Pandas DataFrame. Modify the below variables to point to your MySQL AI instance.\n",
                "\n",
                " - In MySQL Studio, connections are restricted to only allow localhost as the host. \n",
                " - In MySQL Studio, the only accepted password values are the string unused or None. "
            ]
        },
        {
            "cell_type": "code",
            "execution_count": null,
            "id": "5256a035",
            "metadata": {},
            "outputs": [],
            "source": [
                "HOST = 'localhost'\n",
                "PORT = 3306\n",
                "USER = 'root'\n",
                "PASSWORD = 'unused'\n",
                "SCHEMA = 'mlcorpus'\n",
                "\n",
                "\n",
                "myconn = mysql.connector.connect(\n",
                "    host=HOST,\n",
                "    port=PORT,\n",
                "    user=USER,\n",
                "    password=PASSWORD,\n",
                "    database=SCHEMA,\n",
                "    allow_local_infile=True,\n",
                "    use_pure=True,\n",
                "    autocommit=True,\n",
                ")\n",
                "mycursor = myconn.cursor()\n",
                "\n",
                "\n",
                "# Helper function to execute SQL queries and return the results as a Pandas DataFrame\n",
                "def execute_sql(sql: str) -> pd.DataFrame:\n",
                "    mycursor.execute(sql)\n",
                "    return pd.DataFrame(mycursor.fetchall(), columns=mycursor.column_names)"
            ]
        },
        {
            "cell_type": "markdown",
            "id": "92642ba6",
            "metadata": {},
            "source": [
                " ### Download the MovieLens dataset and load it into Python\n",
                " Download the MovieLens dataset from [GroupLens](https://grouplens.org/datasets/movielens/) and upload into My Files folder in MySQL AI Studio.\n",
                " \n",
                " You can use the follwing curl command to download the dataset:\n",
                " \n",
                " curl -O \"https://files.grouplens.org/datasets/movielens/ml-100k.zip\"\n",
                "\n",
                " We extract the zipfile, and load into Python using Pandas."
            ]
        },
        {
            "cell_type": "code",
            "execution_count": 4,
            "id": "bb7882ad-0a70-4c24-b322-aa0589234fdc",
            "metadata": {},
            "outputs": [],
            "source": [
                "path = \"/workspace/datasets/\"\n",
                "zip_path = \"ml-100k.zip\"\n",
                "\n",
                "# Extract the dataset\n",
                "with zipfile.ZipFile(os.path.join(path, zip_path), \"r\") as zip_ref:\n",
                "    zip_ref.extractall(path)\n",
                "\n",
                "# Load the ratings file (u.data)\n",
                "extract_dir = path + \"ml-100k\"\n",
                "cols = [\"user_id\", \"movie_id\", \"rating\", \"timestamp\"]\n",
                "df = pd.read_csv(os.path.join(extract_dir, \"u.data\"), \n",
                "                      sep=\"\\t\", names=cols, encoding=\"utf-8\")\n",
                "\n",
                "df[\"user_id\"] = df[\"user_id\"].astype(\"object\")\n",
                "df[\"movie_id\"] = df[\"movie_id\"].astype(\"object\")\n",
                "\n",
                "# Now that we have loaded the data in Python, we don't need the local files anymore\n",
                "shutil.rmtree(extract_dir)"
            ]
        },
        {
            "cell_type": "markdown",
            "id": "d8fb03b2",
            "metadata": {},
            "source": [
                "### Split the data into a training set and an evaluation set\n",
                "In machine learning, the train-test split is a crucial technique used to evaluate the performance of a model on unseen data. It involves dividing the available dataset into two distinct subsets:   \n",
                "\n",
                "- Training set: This subset is used to train the machine learning model. The model learns the underlying patterns and relationships in the data by analyzing this set.   \n",
                "- Test set: This subset is held back and not used during the training process. Once the model is trained, it's applied to the test set to assess its ability to generalize to new, unseen data."
            ]
        },
        {
            "cell_type": "code",
            "execution_count": 5,
            "id": "896be451",
            "metadata": {},
            "outputs": [],
            "source": [
                "df_train, df_test = train_test_split(\n",
                "    df, test_size=0.30, random_state=1, stratify=df[\"rating\"]\n",
                ")"
            ]
        },
        {
            "cell_type": "markdown",
            "id": "bd8f4886",
            "metadata": {},
            "source": [
                " ### Load the MovieLens dataset into MySQL tables\n",
                " We connect to the MySQL AI instance using SQLAlchemy, map Pandas data types to their corresponding MySQL dialects, and writes two DataFrames (df_train and df_test) to separate tables (movielens_train and movielens_test) in the MySQL, replacing any existing tables."
            ]
        },
        {
            "cell_type": "code",
            "execution_count": 6,
            "id": "b0f1b82b",
            "metadata": {},
            "outputs": [
                {
                    "output_type": "display_data",
                    "data": {
                        "text/plain": "-6"
                    },
                    "metadata": {},
                    "execution_count": 0
                }
            ],
            "source": [
                "# Create a SQLAlchemy engine instance to connect to the MySQL database\n",
                "sql_engine = sqlalchemy.create_engine(\n",
                "    f\"mysql+mysqlconnector://{USER}:{PASSWORD}@{HOST}:{PORT}/{SCHEMA}\",\n",
                "    echo=False,\n",
                "    echo_pool=False,\n",
                "    pool_pre_ping=True,\n",
                "    pool_recycle=3600,\n",
                ")\n",
                "\n",
                "# Define a dictionary mapping pandas data types to their corresponding SQLAlchemy dialects\n",
                "dtype_mapping = {\n",
                "    \"uint64\": sqlalchemy.dialects.mysql.INTEGER(unsigned=True),\n",
                "    \"int64\": sqlalchemy.dialects.mysql.INTEGER(),\n",
                "    \"float64\": sqlalchemy.dialects.mysql.FLOAT(),\n",
                "    \"object\": sqlalchemy.dialects.mysql.VARCHAR(length=255),\n",
                "    \"datetime64[ns]\": sqlalchemy.dialects.mysql.DATETIME(timezone=False),\n",
                "    \"bool\": sqlalchemy.dialects.mysql.TINYINT(),\n",
                "}\n",
                "# Prepare the dtype dict for sqlalchemy/pd.DataFrame.to_sql\n",
                "dtypes = {col: dtype_mapping[str(dtype)] for col, dtype in zip(df.columns, df.dtypes)}\n",
                "\n",
                "# Write the training DataFrame to the 'movielens_train' table in the database\n",
                "df_train.to_sql(\n",
                "    f\"movielens_train\",\n",
                "    con=sql_engine,\n",
                "    if_exists=\"replace\",\n",
                "    dtype=dtypes,\n",
                "    chunksize=5000,\n",
                "    index=False,\n",
                ")\n",
                "# Write the testing DataFrame to the 'movielens_test' table in the database\n",
                "df_test.to_sql(\n",
                "    f\"movielens_test\",\n",
                "    con=sql_engine,\n",
                "    if_exists=\"replace\",\n",
                "    dtype=dtypes,\n",
                "    chunksize=5000,\n",
                "    index=False,\n",
                ")"
            ]
        },
        {
            "cell_type": "markdown",
            "id": "2baf5ee8",
            "metadata": {},
            "source": [
                "### Create a AutoML model from the MovieLens training dataset\n",
                "We create a machine learning model on the MovieLens dataset using the [ML_TRAIN](https://dev.mysql.com/doc/heatwave/en/mys-hwaml-ml-train.html) API. The target variable for this model is the rating column, which represents the explicit ratings provided by users for various movies. By specifying rating as the target, the model aims to learn the underlying patterns that determine how users rate movies. This enables the generation of personalized recommendations for unseen movies based on user preferences. The model handle generated at the end of training is stored in the model variable. We will use this handle to refer to the model in our future interactions"
            ]
        },
        {
            "cell_type": "code",
            "execution_count": 7,
            "id": "ce812a5a",
            "metadata": {},
            "outputs": [
                {
                    "output_type": "display_data",
                    "data": {
                        "text/plain": "Empty DataFrame\nColumns: []\nIndex: []",
                        "text/html": "<div>\n<style scoped>\n    .dataframe tbody tr th:only-of-type {\n        vertical-align: middle;\n    }\n\n    .dataframe tbody tr th {\n        vertical-align: top;\n    }\n\n    .dataframe thead th {\n        text-align: right;\n    }\n</style>\n<table border=\"1\" class=\"dataframe\">\n  <thead>\n    <tr style=\"text-align: right;\">\n      <th></th>\n    </tr>\n  </thead>\n  <tbody>\n  </tbody>\n</table>\n</div>",
                        "application/vnd.mysql.notebook.dataframe+json": {
                            "columns": [],
                            "dtypes": [],
                            "index": [],
                            "rows": []
                        }
                    },
                    "metadata": {},
                    "execution_count": 0
                }
            ],
            "source": [
                "execute_sql(\"\"\"SET @model = NULL;\"\"\")\n",
                "execute_sql(\n",
                "    f\"\"\"CALL sys.ML_TRAIN('{SCHEMA}.movielens_train', 'rating', JSON_OBJECT('task', 'recommendation', 'users', 'user_id', 'items', 'movie_id'), @model)\"\"\"\n",
                ")\n",
                "model = execute_sql(\"\"\"SELECT @model;\"\"\").iat[0,0]\n",
                "execute_sql(f\"\"\"CALL sys.ML_MODEL_LOAD('{model}', NULL)\"\"\")"
            ]
        },
        {
            "cell_type": "markdown",
            "id": "9466af07",
            "metadata": {},
            "source": [
                "### Evaluate the model\n",
                "We look at the overall performance of the model on unseen data by using the [ML_SCORE](https://dev.mysql.com/doc/heatwave/en/mys-hwaml-ml-score.html) routine. It allows us to quantify the quality of the predictions. The user needs to provide which metrics he wants to use. \n",
                "\n",
                "For Recommender Systems, the possible metrics are: \n",
                "- neg_mean_squared_error\n",
                "- neg_root_mean_squared_error\n",
                "- neg_mean_absolute_error\n",
                "- r2\n",
                "\n",
                "The result is stored in the @score variable. "
            ]
        },
        {
            "cell_type": "code",
            "execution_count": 9,
            "id": "b6b211f8-8153-4ac6-a151-083624acef64",
            "metadata": {},
            "outputs": [
                {
                    "output_type": "stream",
                    "text": [
                        "The model score is -0.86\n"
                    ]
                }
            ],
            "source": [
                "execute_sql(\n",
                "    f\"\"\"CALL sys.ML_SCORE('{SCHEMA}.movielens_test', 'rating', '{model}', 'neg_mean_squared_error', @score, NULL);\"\"\"\n",
                ")\n",
                "score = execute_sql(\"\"\"SELECT @score;\"\"\").iat[0,0]\n",
                "print(f\"The model score is {score:.2f}\")"
            ]
        },
        {
            "cell_type": "markdown",
            "id": "59149aaf",
            "metadata": {},
            "source": [
                "### Generating predictions to evaluate model performance on unseen test data\n",
                "We invoke the [ML_PREDICT_TABLE](https://dev.mysql.com/doc/heatwave/en/mys-hwaml-ml-predict-table.html) API to generate prediction for the above model on our test data. The output table contains an extra column ml_results which contins the predicted ratings."
            ]
        },
        {
            "cell_type": "code",
            "execution_count": 10,
            "id": "ddbcfc41",
            "metadata": {},
            "outputs": [
                {
                    "output_type": "display_data",
                    "data": {
                        "text/plain": "   _4aad19ca6e_pk_id user_id  ...  timestamp                         ml_results\n0                  1     655  ...  888685850  {\"predictions\": {\"rating\": 2.95}}\n1                  2      21  ...  874950931  {\"predictions\": {\"rating\": 2.55}}\n2                  3     114  ...  881260861  {\"predictions\": {\"rating\": 3.52}}\n3                  4     416  ...  886317030  {\"predictions\": {\"rating\": 3.38}}\n4                  5     303  ...  879467816  {\"predictions\": {\"rating\": 3.54}}\n\n[5 rows x 6 columns]",
                        "text/html": "<div>\n<style scoped>\n    .dataframe tbody tr th:only-of-type {\n        vertical-align: middle;\n    }\n\n    .dataframe tbody tr th {\n        vertical-align: top;\n    }\n\n    .dataframe thead th {\n        text-align: right;\n    }\n</style>\n<table border=\"1\" class=\"dataframe\">\n  <thead>\n    <tr style=\"text-align: right;\">\n      <th></th>\n      <th>_4aad19ca6e_pk_id</th>\n      <th>user_id</th>\n      <th>movie_id</th>\n      <th>rating</th>\n      <th>timestamp</th>\n      <th>ml_results</th>\n    </tr>\n  </thead>\n  <tbody>\n    <tr>\n      <th>0</th>\n      <td>1</td>\n      <td>655</td>\n      <td>942</td>\n      <td>4</td>\n      <td>888685850</td>\n      <td>{\"predictions\": {\"rating\": 2.95}}</td>\n    </tr>\n    <tr>\n      <th>1</th>\n      <td>2</td>\n      <td>21</td>\n      <td>299</td>\n      <td>1</td>\n      <td>874950931</td>\n      <td>{\"predictions\": {\"rating\": 2.55}}</td>\n    </tr>\n    <tr>\n      <th>2</th>\n      <td>3</td>\n      <td>114</td>\n      <td>195</td>\n      <td>4</td>\n      <td>881260861</td>\n      <td>{\"predictions\": {\"rating\": 3.52}}</td>\n    </tr>\n    <tr>\n      <th>3</th>\n      <td>4</td>\n      <td>416</td>\n      <td>140</td>\n      <td>4</td>\n      <td>886317030</td>\n      <td>{\"predictions\": {\"rating\": 3.38}}</td>\n    </tr>\n    <tr>\n      <th>4</th>\n      <td>5</td>\n      <td>303</td>\n      <td>147</td>\n      <td>4</td>\n      <td>879467816</td>\n      <td>{\"predictions\": {\"rating\": 3.54}}</td>\n    </tr>\n  </tbody>\n</table>\n</div>",
                        "application/vnd.mysql.notebook.dataframe+json": {
                            "columns": [
                                "_4aad19ca6e_pk_id",
                                "user_id",
                                "movie_id",
                                "rating",
                                "timestamp",
                                "ml_results"
                            ],
                            "dtypes": [
                                "int64",
                                "object",
                                "object",
                                "int64",
                                "int64",
                                "object"
                            ],
                            "index": [
                                0,
                                1,
                                2,
                                3,
                                4
                            ],
                            "rows": [
                                [
                                    1,
                                    "655",
                                    "942",
                                    4,
                                    888685850,
                                    "{\"predictions\": {\"rating\": 2.95}}"
                                ],
                                [
                                    2,
                                    "21",
                                    "299",
                                    1,
                                    874950931,
                                    "{\"predictions\": {\"rating\": 2.55}}"
                                ],
                                [
                                    3,
                                    "114",
                                    "195",
                                    4,
                                    881260861,
                                    "{\"predictions\": {\"rating\": 3.52}}"
                                ],
                                [
                                    4,
                                    "416",
                                    "140",
                                    4,
                                    886317030,
                                    "{\"predictions\": {\"rating\": 3.38}}"
                                ],
                                [
                                    5,
                                    "303",
                                    "147",
                                    4,
                                    879467816,
                                    "{\"predictions\": {\"rating\": 3.54}}"
                                ]
                            ]
                        }
                    },
                    "metadata": {},
                    "execution_count": 0
                }
            ],
            "source": [
                "execute_sql(f\"\"\"DROP TABLE IF EXISTS movielens_test_test_predictions\"\"\")\n",
                "execute_sql(\n",
                "    f\"\"\"CALL sys.ML_PREDICT_TABLE('{SCHEMA}.movielens_test', '{model}', '{SCHEMA}.movielens_test_test_predictions', JSON_OBJECT(\"recommend\", \"ratings\"))\"\"\"\n",
                ")\n",
                "df_predictions = execute_sql(f\"\"\"SELECT * FROM movielens_test_test_predictions\"\"\")\n",
                "execute_sql(f\"\"\"DROP TABLE IF EXISTS movielens_test_test_predictions\"\"\")\n",
                "df_predictions.head()"
            ]
        },
        {
            "cell_type": "markdown",
            "id": "85a963d1",
            "metadata": {},
            "source": [
                "### Getting a deeper understanding of the model's predictions"
            ]
        },
        {
            "cell_type": "markdown",
            "id": "2eb80ffb",
            "metadata": {},
            "source": [
                "Let's visualize how close the predictions are to the real ratings."
            ]
        },
        {
            "cell_type": "code",
            "execution_count": 11,
            "id": "a2c8138a",
            "metadata": {},
            "outputs": [
                {
                    "output_type": "display_data",
                    "data": {
                        "text/plain": "<Figure size 640x480 with 1 Axes>",
                        "image/png": "[encoded data removed]"
                    },
                    "metadata": {},
                    "execution_count": 0
                }
            ],
            "source": [
                "predicted_ratings = df_predictions['ml_results'].apply(json.loads).apply(lambda x: x[\"predictions\"]).apply(pd.Series)\n",
                "ratings = df_predictions[[\"rating\"]]\n",
                "\n",
                "difference = (ratings- predicted_ratings).values\n",
                "num_bins = 100\n",
                "plt.hist(difference, num_bins,  density = 1, alpha = 0.7)\n",
                "plt.xlabel('Error')\n",
                "plt.ylabel('Distribution')\n",
                "plt.title('Distribution of the error in predictions')\n",
                "plt.show()"
            ]
        },
        {
            "cell_type": "markdown",
            "attachments": {},
            "id": "4c880751-8ed1-433d-9336-3a2f042f2928",
            "metadata": {},
            "source": [
                "We invite you to try [HeatWave AutoML and GenAI](https://www.oracle.com/heatwave/free/). If you’re new to Oracle Cloud Infrastructure, try Oracle Cloud Free Trial, a free 30-day trial with US$300 in credits."
            ]
        }
    ],
    "metadata": {
        "kernelspec": {
            "display_name": "pyvenv311",
            "language": "python",
            "name": "python3"
        },
        "language_info": {
            "codemirror_mode": {
                "name": "ipython",
                "version": 3
            },
            "file_extension": ".py",
            "mimetype": "text/x-python",
            "name": "python",
            "nbconvert_exporter": "python",
            "pygments_lexer": "ipython3",
            "version": "3.11.11"
        },
        "mysql": {}
    },
    "nbformat": 4,
    "nbformat_minor": 4
}